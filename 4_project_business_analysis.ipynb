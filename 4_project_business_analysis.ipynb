{
 "cells": [
  {
   "cell_type": "markdown",
   "metadata": {},
   "source": [
    "# Проверка гипотез по увеличению выручки в интернет-магазине"
   ]
  },
  {
   "cell_type": "markdown",
   "metadata": {},
   "source": [
    "# Часть 1. Приоритизация гипотез"
   ]
  },
  {
   "cell_type": "markdown",
   "metadata": {},
   "source": [
    "**Шаг 1.1.**      Импортируем необходимые библиотеки, которые могут пригодиться для исследования, и после этого выгрузим данные из файла hypothesis.csv в таблицу **hypothesis**."
   ]
  },
  {
   "cell_type": "code",
   "execution_count": 1,
   "metadata": {},
   "outputs": [],
   "source": [
    "import pandas as pd\n",
    "import scipy.stats as stats\n",
    "import datetime as dt\n",
    "import numpy as np\n",
    "import matplotlib.pyplot as plt"
   ]
  },
  {
   "cell_type": "code",
   "execution_count": 2,
   "metadata": {},
   "outputs": [
    {
     "data": {
      "text/html": [
       "<div>\n",
       "<style scoped>\n",
       "    .dataframe tbody tr th:only-of-type {\n",
       "        vertical-align: middle;\n",
       "    }\n",
       "\n",
       "    .dataframe tbody tr th {\n",
       "        vertical-align: top;\n",
       "    }\n",
       "\n",
       "    .dataframe thead th {\n",
       "        text-align: right;\n",
       "    }\n",
       "</style>\n",
       "<table border=\"1\" class=\"dataframe\">\n",
       "  <thead>\n",
       "    <tr style=\"text-align: right;\">\n",
       "      <th></th>\n",
       "      <th>Hypothesis</th>\n",
       "      <th>Reach</th>\n",
       "      <th>Impact</th>\n",
       "      <th>Confidence</th>\n",
       "      <th>Efforts</th>\n",
       "    </tr>\n",
       "  </thead>\n",
       "  <tbody>\n",
       "    <tr>\n",
       "      <th>0</th>\n",
       "      <td>Добавить два новых канала привлечения трафика,...</td>\n",
       "      <td>3</td>\n",
       "      <td>10</td>\n",
       "      <td>8</td>\n",
       "      <td>6</td>\n",
       "    </tr>\n",
       "    <tr>\n",
       "      <th>1</th>\n",
       "      <td>Запустить собственную службу доставки, что сок...</td>\n",
       "      <td>2</td>\n",
       "      <td>5</td>\n",
       "      <td>4</td>\n",
       "      <td>10</td>\n",
       "    </tr>\n",
       "    <tr>\n",
       "      <th>2</th>\n",
       "      <td>Добавить блоки рекомендаций товаров на сайт ин...</td>\n",
       "      <td>8</td>\n",
       "      <td>3</td>\n",
       "      <td>7</td>\n",
       "      <td>3</td>\n",
       "    </tr>\n",
       "    <tr>\n",
       "      <th>3</th>\n",
       "      <td>Изменить структура категорий, что увеличит кон...</td>\n",
       "      <td>8</td>\n",
       "      <td>3</td>\n",
       "      <td>3</td>\n",
       "      <td>8</td>\n",
       "    </tr>\n",
       "    <tr>\n",
       "      <th>4</th>\n",
       "      <td>Изменить цвет фона главной страницы, чтобы уве...</td>\n",
       "      <td>3</td>\n",
       "      <td>1</td>\n",
       "      <td>1</td>\n",
       "      <td>1</td>\n",
       "    </tr>\n",
       "    <tr>\n",
       "      <th>5</th>\n",
       "      <td>Добавить страницу отзывов клиентов о магазине,...</td>\n",
       "      <td>3</td>\n",
       "      <td>2</td>\n",
       "      <td>2</td>\n",
       "      <td>3</td>\n",
       "    </tr>\n",
       "    <tr>\n",
       "      <th>6</th>\n",
       "      <td>Показать на главной странице баннеры с актуаль...</td>\n",
       "      <td>5</td>\n",
       "      <td>3</td>\n",
       "      <td>8</td>\n",
       "      <td>3</td>\n",
       "    </tr>\n",
       "    <tr>\n",
       "      <th>7</th>\n",
       "      <td>Добавить форму подписки на все основные страни...</td>\n",
       "      <td>10</td>\n",
       "      <td>7</td>\n",
       "      <td>8</td>\n",
       "      <td>5</td>\n",
       "    </tr>\n",
       "    <tr>\n",
       "      <th>8</th>\n",
       "      <td>Запустить акцию, дающую скидку на товар в день...</td>\n",
       "      <td>1</td>\n",
       "      <td>9</td>\n",
       "      <td>9</td>\n",
       "      <td>5</td>\n",
       "    </tr>\n",
       "  </tbody>\n",
       "</table>\n",
       "</div>"
      ],
      "text/plain": [
       "                                          Hypothesis  Reach  Impact  \\\n",
       "0  Добавить два новых канала привлечения трафика,...      3      10   \n",
       "1  Запустить собственную службу доставки, что сок...      2       5   \n",
       "2  Добавить блоки рекомендаций товаров на сайт ин...      8       3   \n",
       "3  Изменить структура категорий, что увеличит кон...      8       3   \n",
       "4  Изменить цвет фона главной страницы, чтобы уве...      3       1   \n",
       "5  Добавить страницу отзывов клиентов о магазине,...      3       2   \n",
       "6  Показать на главной странице баннеры с актуаль...      5       3   \n",
       "7  Добавить форму подписки на все основные страни...     10       7   \n",
       "8  Запустить акцию, дающую скидку на товар в день...      1       9   \n",
       "\n",
       "   Confidence  Efforts  \n",
       "0           8        6  \n",
       "1           4       10  \n",
       "2           7        3  \n",
       "3           3        8  \n",
       "4           1        1  \n",
       "5           2        3  \n",
       "6           8        3  \n",
       "7           8        5  \n",
       "8           9        5  "
      ]
     },
     "execution_count": 2,
     "metadata": {},
     "output_type": "execute_result"
    }
   ],
   "source": [
    "hypothesis = pd.read_csv('/datasets/hypothesis.csv')\n",
    "hypothesis"
   ]
  },
  {
   "cell_type": "markdown",
   "metadata": {},
   "source": [
    "Текст в столбце с гипотезами не виден полностью. Также желательно названия колонок писать в нижнем регистре. Исправим это:"
   ]
  },
  {
   "cell_type": "code",
   "execution_count": 3,
   "metadata": {},
   "outputs": [
    {
     "data": {
      "text/html": [
       "<div>\n",
       "<style scoped>\n",
       "    .dataframe tbody tr th:only-of-type {\n",
       "        vertical-align: middle;\n",
       "    }\n",
       "\n",
       "    .dataframe tbody tr th {\n",
       "        vertical-align: top;\n",
       "    }\n",
       "\n",
       "    .dataframe thead th {\n",
       "        text-align: right;\n",
       "    }\n",
       "</style>\n",
       "<table border=\"1\" class=\"dataframe\">\n",
       "  <thead>\n",
       "    <tr style=\"text-align: right;\">\n",
       "      <th></th>\n",
       "      <th>hypothesis</th>\n",
       "      <th>reach</th>\n",
       "      <th>impact</th>\n",
       "      <th>confidence</th>\n",
       "      <th>efforts</th>\n",
       "    </tr>\n",
       "  </thead>\n",
       "  <tbody>\n",
       "    <tr>\n",
       "      <th>0</th>\n",
       "      <td>Добавить два новых канала привлечения трафика, что позволит привлекать на 30% больше пользователей</td>\n",
       "      <td>3</td>\n",
       "      <td>10</td>\n",
       "      <td>8</td>\n",
       "      <td>6</td>\n",
       "    </tr>\n",
       "    <tr>\n",
       "      <th>1</th>\n",
       "      <td>Запустить собственную службу доставки, что сократит срок доставки заказов</td>\n",
       "      <td>2</td>\n",
       "      <td>5</td>\n",
       "      <td>4</td>\n",
       "      <td>10</td>\n",
       "    </tr>\n",
       "    <tr>\n",
       "      <th>2</th>\n",
       "      <td>Добавить блоки рекомендаций товаров на сайт интернет магазина, чтобы повысить конверсию и средний чек заказа</td>\n",
       "      <td>8</td>\n",
       "      <td>3</td>\n",
       "      <td>7</td>\n",
       "      <td>3</td>\n",
       "    </tr>\n",
       "    <tr>\n",
       "      <th>3</th>\n",
       "      <td>Изменить структура категорий, что увеличит конверсию, т.к. пользователи быстрее найдут нужный товар</td>\n",
       "      <td>8</td>\n",
       "      <td>3</td>\n",
       "      <td>3</td>\n",
       "      <td>8</td>\n",
       "    </tr>\n",
       "    <tr>\n",
       "      <th>4</th>\n",
       "      <td>Изменить цвет фона главной страницы, чтобы увеличить вовлеченность пользователей</td>\n",
       "      <td>3</td>\n",
       "      <td>1</td>\n",
       "      <td>1</td>\n",
       "      <td>1</td>\n",
       "    </tr>\n",
       "    <tr>\n",
       "      <th>5</th>\n",
       "      <td>Добавить страницу отзывов клиентов о магазине, что позволит увеличить количество заказов</td>\n",
       "      <td>3</td>\n",
       "      <td>2</td>\n",
       "      <td>2</td>\n",
       "      <td>3</td>\n",
       "    </tr>\n",
       "    <tr>\n",
       "      <th>6</th>\n",
       "      <td>Показать на главной странице баннеры с актуальными акциями и распродажами, чтобы увеличить конверсию</td>\n",
       "      <td>5</td>\n",
       "      <td>3</td>\n",
       "      <td>8</td>\n",
       "      <td>3</td>\n",
       "    </tr>\n",
       "    <tr>\n",
       "      <th>7</th>\n",
       "      <td>Добавить форму подписки на все основные страницы, чтобы собрать базу клиентов для email-рассылок</td>\n",
       "      <td>10</td>\n",
       "      <td>7</td>\n",
       "      <td>8</td>\n",
       "      <td>5</td>\n",
       "    </tr>\n",
       "    <tr>\n",
       "      <th>8</th>\n",
       "      <td>Запустить акцию, дающую скидку на товар в день рождения</td>\n",
       "      <td>1</td>\n",
       "      <td>9</td>\n",
       "      <td>9</td>\n",
       "      <td>5</td>\n",
       "    </tr>\n",
       "  </tbody>\n",
       "</table>\n",
       "</div>"
      ],
      "text/plain": [
       "                                                                                                     hypothesis  \\\n",
       "0            Добавить два новых канала привлечения трафика, что позволит привлекать на 30% больше пользователей   \n",
       "1                                     Запустить собственную службу доставки, что сократит срок доставки заказов   \n",
       "2  Добавить блоки рекомендаций товаров на сайт интернет магазина, чтобы повысить конверсию и средний чек заказа   \n",
       "3           Изменить структура категорий, что увеличит конверсию, т.к. пользователи быстрее найдут нужный товар   \n",
       "4                              Изменить цвет фона главной страницы, чтобы увеличить вовлеченность пользователей   \n",
       "5                      Добавить страницу отзывов клиентов о магазине, что позволит увеличить количество заказов   \n",
       "6          Показать на главной странице баннеры с актуальными акциями и распродажами, чтобы увеличить конверсию   \n",
       "7              Добавить форму подписки на все основные страницы, чтобы собрать базу клиентов для email-рассылок   \n",
       "8                                                       Запустить акцию, дающую скидку на товар в день рождения   \n",
       "\n",
       "   reach  impact  confidence  efforts  \n",
       "0      3      10           8        6  \n",
       "1      2       5           4       10  \n",
       "2      8       3           7        3  \n",
       "3      8       3           3        8  \n",
       "4      3       1           1        1  \n",
       "5      3       2           2        3  \n",
       "6      5       3           8        3  \n",
       "7     10       7           8        5  \n",
       "8      1       9           9        5  "
      ]
     },
     "execution_count": 3,
     "metadata": {},
     "output_type": "execute_result"
    }
   ],
   "source": [
    "pd.set_option('max_colwidth', 120) # увеличили максимальную ширину колонок\n",
    "hypothesis.columns = hypothesis.columns.str.lower()\n",
    "hypothesis"
   ]
  },
  {
   "cell_type": "markdown",
   "metadata": {},
   "source": [
    "**Шаг 1.2.** Применим фреймворк ICE для приоритизации гипотез."
   ]
  },
  {
   "cell_type": "code",
   "execution_count": 4,
   "metadata": {},
   "outputs": [
    {
     "data": {
      "text/html": [
       "<div>\n",
       "<style scoped>\n",
       "    .dataframe tbody tr th:only-of-type {\n",
       "        vertical-align: middle;\n",
       "    }\n",
       "\n",
       "    .dataframe tbody tr th {\n",
       "        vertical-align: top;\n",
       "    }\n",
       "\n",
       "    .dataframe thead th {\n",
       "        text-align: right;\n",
       "    }\n",
       "</style>\n",
       "<table border=\"1\" class=\"dataframe\">\n",
       "  <thead>\n",
       "    <tr style=\"text-align: right;\">\n",
       "      <th></th>\n",
       "      <th>hypothesis</th>\n",
       "      <th>ICE</th>\n",
       "    </tr>\n",
       "  </thead>\n",
       "  <tbody>\n",
       "    <tr>\n",
       "      <th>8</th>\n",
       "      <td>Запустить акцию, дающую скидку на товар в день рождения</td>\n",
       "      <td>16.2</td>\n",
       "    </tr>\n",
       "    <tr>\n",
       "      <th>0</th>\n",
       "      <td>Добавить два новых канала привлечения трафика, что позволит привлекать на 30% больше пользователей</td>\n",
       "      <td>13.3</td>\n",
       "    </tr>\n",
       "    <tr>\n",
       "      <th>7</th>\n",
       "      <td>Добавить форму подписки на все основные страницы, чтобы собрать базу клиентов для email-рассылок</td>\n",
       "      <td>11.2</td>\n",
       "    </tr>\n",
       "    <tr>\n",
       "      <th>6</th>\n",
       "      <td>Показать на главной странице баннеры с актуальными акциями и распродажами, чтобы увеличить конверсию</td>\n",
       "      <td>8.0</td>\n",
       "    </tr>\n",
       "    <tr>\n",
       "      <th>2</th>\n",
       "      <td>Добавить блоки рекомендаций товаров на сайт интернет магазина, чтобы повысить конверсию и средний чек заказа</td>\n",
       "      <td>7.0</td>\n",
       "    </tr>\n",
       "    <tr>\n",
       "      <th>1</th>\n",
       "      <td>Запустить собственную службу доставки, что сократит срок доставки заказов</td>\n",
       "      <td>2.0</td>\n",
       "    </tr>\n",
       "    <tr>\n",
       "      <th>5</th>\n",
       "      <td>Добавить страницу отзывов клиентов о магазине, что позволит увеличить количество заказов</td>\n",
       "      <td>1.3</td>\n",
       "    </tr>\n",
       "    <tr>\n",
       "      <th>3</th>\n",
       "      <td>Изменить структура категорий, что увеличит конверсию, т.к. пользователи быстрее найдут нужный товар</td>\n",
       "      <td>1.1</td>\n",
       "    </tr>\n",
       "    <tr>\n",
       "      <th>4</th>\n",
       "      <td>Изменить цвет фона главной страницы, чтобы увеличить вовлеченность пользователей</td>\n",
       "      <td>1.0</td>\n",
       "    </tr>\n",
       "  </tbody>\n",
       "</table>\n",
       "</div>"
      ],
      "text/plain": [
       "                                                                                                     hypothesis  \\\n",
       "8                                                       Запустить акцию, дающую скидку на товар в день рождения   \n",
       "0            Добавить два новых канала привлечения трафика, что позволит привлекать на 30% больше пользователей   \n",
       "7              Добавить форму подписки на все основные страницы, чтобы собрать базу клиентов для email-рассылок   \n",
       "6          Показать на главной странице баннеры с актуальными акциями и распродажами, чтобы увеличить конверсию   \n",
       "2  Добавить блоки рекомендаций товаров на сайт интернет магазина, чтобы повысить конверсию и средний чек заказа   \n",
       "1                                     Запустить собственную службу доставки, что сократит срок доставки заказов   \n",
       "5                      Добавить страницу отзывов клиентов о магазине, что позволит увеличить количество заказов   \n",
       "3           Изменить структура категорий, что увеличит конверсию, т.к. пользователи быстрее найдут нужный товар   \n",
       "4                              Изменить цвет фона главной страницы, чтобы увеличить вовлеченность пользователей   \n",
       "\n",
       "    ICE  \n",
       "8  16.2  \n",
       "0  13.3  \n",
       "7  11.2  \n",
       "6   8.0  \n",
       "2   7.0  \n",
       "1   2.0  \n",
       "5   1.3  \n",
       "3   1.1  \n",
       "4   1.0  "
      ]
     },
     "execution_count": 4,
     "metadata": {},
     "output_type": "execute_result"
    }
   ],
   "source": [
    "hypothesis['ICE'] = (hypothesis['impact']*hypothesis['confidence']/hypothesis['efforts']).round(1) \n",
    "ICE = hypothesis[['hypothesis', 'ICE']].sort_values(by='ICE', ascending=False)\n",
    "# отсортировали в порядке убывания значения ICE и сразу округлили значения ICE\n",
    "ICE"
   ]
  },
  {
   "cell_type": "markdown",
   "metadata": {},
   "source": [
    "**Шаг 1.3.** Теперь применим фреймворк RICE:"
   ]
  },
  {
   "cell_type": "code",
   "execution_count": 5,
   "metadata": {},
   "outputs": [
    {
     "data": {
      "text/html": [
       "<div>\n",
       "<style scoped>\n",
       "    .dataframe tbody tr th:only-of-type {\n",
       "        vertical-align: middle;\n",
       "    }\n",
       "\n",
       "    .dataframe tbody tr th {\n",
       "        vertical-align: top;\n",
       "    }\n",
       "\n",
       "    .dataframe thead th {\n",
       "        text-align: right;\n",
       "    }\n",
       "</style>\n",
       "<table border=\"1\" class=\"dataframe\">\n",
       "  <thead>\n",
       "    <tr style=\"text-align: right;\">\n",
       "      <th></th>\n",
       "      <th>hypothesis</th>\n",
       "      <th>RICE</th>\n",
       "    </tr>\n",
       "  </thead>\n",
       "  <tbody>\n",
       "    <tr>\n",
       "      <th>7</th>\n",
       "      <td>Добавить форму подписки на все основные страницы, чтобы собрать базу клиентов для email-рассылок</td>\n",
       "      <td>112.0</td>\n",
       "    </tr>\n",
       "    <tr>\n",
       "      <th>2</th>\n",
       "      <td>Добавить блоки рекомендаций товаров на сайт интернет магазина, чтобы повысить конверсию и средний чек заказа</td>\n",
       "      <td>56.0</td>\n",
       "    </tr>\n",
       "    <tr>\n",
       "      <th>0</th>\n",
       "      <td>Добавить два новых канала привлечения трафика, что позволит привлекать на 30% больше пользователей</td>\n",
       "      <td>40.0</td>\n",
       "    </tr>\n",
       "    <tr>\n",
       "      <th>6</th>\n",
       "      <td>Показать на главной странице баннеры с актуальными акциями и распродажами, чтобы увеличить конверсию</td>\n",
       "      <td>40.0</td>\n",
       "    </tr>\n",
       "    <tr>\n",
       "      <th>8</th>\n",
       "      <td>Запустить акцию, дающую скидку на товар в день рождения</td>\n",
       "      <td>16.2</td>\n",
       "    </tr>\n",
       "    <tr>\n",
       "      <th>3</th>\n",
       "      <td>Изменить структура категорий, что увеличит конверсию, т.к. пользователи быстрее найдут нужный товар</td>\n",
       "      <td>9.0</td>\n",
       "    </tr>\n",
       "    <tr>\n",
       "      <th>1</th>\n",
       "      <td>Запустить собственную службу доставки, что сократит срок доставки заказов</td>\n",
       "      <td>4.0</td>\n",
       "    </tr>\n",
       "    <tr>\n",
       "      <th>5</th>\n",
       "      <td>Добавить страницу отзывов клиентов о магазине, что позволит увеличить количество заказов</td>\n",
       "      <td>4.0</td>\n",
       "    </tr>\n",
       "    <tr>\n",
       "      <th>4</th>\n",
       "      <td>Изменить цвет фона главной страницы, чтобы увеличить вовлеченность пользователей</td>\n",
       "      <td>3.0</td>\n",
       "    </tr>\n",
       "  </tbody>\n",
       "</table>\n",
       "</div>"
      ],
      "text/plain": [
       "                                                                                                     hypothesis  \\\n",
       "7              Добавить форму подписки на все основные страницы, чтобы собрать базу клиентов для email-рассылок   \n",
       "2  Добавить блоки рекомендаций товаров на сайт интернет магазина, чтобы повысить конверсию и средний чек заказа   \n",
       "0            Добавить два новых канала привлечения трафика, что позволит привлекать на 30% больше пользователей   \n",
       "6          Показать на главной странице баннеры с актуальными акциями и распродажами, чтобы увеличить конверсию   \n",
       "8                                                       Запустить акцию, дающую скидку на товар в день рождения   \n",
       "3           Изменить структура категорий, что увеличит конверсию, т.к. пользователи быстрее найдут нужный товар   \n",
       "1                                     Запустить собственную службу доставки, что сократит срок доставки заказов   \n",
       "5                      Добавить страницу отзывов клиентов о магазине, что позволит увеличить количество заказов   \n",
       "4                              Изменить цвет фона главной страницы, чтобы увеличить вовлеченность пользователей   \n",
       "\n",
       "    RICE  \n",
       "7  112.0  \n",
       "2   56.0  \n",
       "0   40.0  \n",
       "6   40.0  \n",
       "8   16.2  \n",
       "3    9.0  \n",
       "1    4.0  \n",
       "5    4.0  \n",
       "4    3.0  "
      ]
     },
     "execution_count": 5,
     "metadata": {},
     "output_type": "execute_result"
    }
   ],
   "source": [
    "hypothesis['RICE'] = hypothesis['reach']*hypothesis['impact']*hypothesis['confidence']/hypothesis['efforts']\n",
    "RICE = hypothesis[['hypothesis', 'RICE']].sort_values(by='RICE', ascending=False)\n",
    "# отсортировали в порядке убывания значения RICE\n",
    "RICE"
   ]
  },
  {
   "cell_type": "markdown",
   "metadata": {},
   "source": [
    "**Шаг 1.4.**  Сравним приоритизацию гипотез:"
   ]
  },
  {
   "cell_type": "markdown",
   "metadata": {},
   "source": [
    "Объединим таблицы RICE и ICE для более наглядного сравнения:"
   ]
  },
  {
   "cell_type": "code",
   "execution_count": 6,
   "metadata": {},
   "outputs": [
    {
     "data": {
      "text/html": [
       "<div>\n",
       "<style scoped>\n",
       "    .dataframe tbody tr th:only-of-type {\n",
       "        vertical-align: middle;\n",
       "    }\n",
       "\n",
       "    .dataframe tbody tr th {\n",
       "        vertical-align: top;\n",
       "    }\n",
       "\n",
       "    .dataframe thead th {\n",
       "        text-align: right;\n",
       "    }\n",
       "</style>\n",
       "<table border=\"1\" class=\"dataframe\">\n",
       "  <thead>\n",
       "    <tr style=\"text-align: right;\">\n",
       "      <th></th>\n",
       "      <th>hypothesis</th>\n",
       "      <th>ICE</th>\n",
       "      <th>RICE</th>\n",
       "    </tr>\n",
       "  </thead>\n",
       "  <tbody>\n",
       "    <tr>\n",
       "      <th>2</th>\n",
       "      <td>Добавить форму подписки на все основные страницы, чтобы собрать базу клиентов для email-рассылок</td>\n",
       "      <td>11.2</td>\n",
       "      <td>112.0</td>\n",
       "    </tr>\n",
       "    <tr>\n",
       "      <th>4</th>\n",
       "      <td>Добавить блоки рекомендаций товаров на сайт интернет магазина, чтобы повысить конверсию и средний чек заказа</td>\n",
       "      <td>7.0</td>\n",
       "      <td>56.0</td>\n",
       "    </tr>\n",
       "    <tr>\n",
       "      <th>1</th>\n",
       "      <td>Добавить два новых канала привлечения трафика, что позволит привлекать на 30% больше пользователей</td>\n",
       "      <td>13.3</td>\n",
       "      <td>40.0</td>\n",
       "    </tr>\n",
       "    <tr>\n",
       "      <th>3</th>\n",
       "      <td>Показать на главной странице баннеры с актуальными акциями и распродажами, чтобы увеличить конверсию</td>\n",
       "      <td>8.0</td>\n",
       "      <td>40.0</td>\n",
       "    </tr>\n",
       "    <tr>\n",
       "      <th>0</th>\n",
       "      <td>Запустить акцию, дающую скидку на товар в день рождения</td>\n",
       "      <td>16.2</td>\n",
       "      <td>16.2</td>\n",
       "    </tr>\n",
       "    <tr>\n",
       "      <th>7</th>\n",
       "      <td>Изменить структура категорий, что увеличит конверсию, т.к. пользователи быстрее найдут нужный товар</td>\n",
       "      <td>1.1</td>\n",
       "      <td>9.0</td>\n",
       "    </tr>\n",
       "    <tr>\n",
       "      <th>5</th>\n",
       "      <td>Запустить собственную службу доставки, что сократит срок доставки заказов</td>\n",
       "      <td>2.0</td>\n",
       "      <td>4.0</td>\n",
       "    </tr>\n",
       "    <tr>\n",
       "      <th>6</th>\n",
       "      <td>Добавить страницу отзывов клиентов о магазине, что позволит увеличить количество заказов</td>\n",
       "      <td>1.3</td>\n",
       "      <td>4.0</td>\n",
       "    </tr>\n",
       "    <tr>\n",
       "      <th>8</th>\n",
       "      <td>Изменить цвет фона главной страницы, чтобы увеличить вовлеченность пользователей</td>\n",
       "      <td>1.0</td>\n",
       "      <td>3.0</td>\n",
       "    </tr>\n",
       "  </tbody>\n",
       "</table>\n",
       "</div>"
      ],
      "text/plain": [
       "                                                                                                     hypothesis  \\\n",
       "2              Добавить форму подписки на все основные страницы, чтобы собрать базу клиентов для email-рассылок   \n",
       "4  Добавить блоки рекомендаций товаров на сайт интернет магазина, чтобы повысить конверсию и средний чек заказа   \n",
       "1            Добавить два новых канала привлечения трафика, что позволит привлекать на 30% больше пользователей   \n",
       "3          Показать на главной странице баннеры с актуальными акциями и распродажами, чтобы увеличить конверсию   \n",
       "0                                                       Запустить акцию, дающую скидку на товар в день рождения   \n",
       "7           Изменить структура категорий, что увеличит конверсию, т.к. пользователи быстрее найдут нужный товар   \n",
       "5                                     Запустить собственную службу доставки, что сократит срок доставки заказов   \n",
       "6                      Добавить страницу отзывов клиентов о магазине, что позволит увеличить количество заказов   \n",
       "8                              Изменить цвет фона главной страницы, чтобы увеличить вовлеченность пользователей   \n",
       "\n",
       "    ICE   RICE  \n",
       "2  11.2  112.0  \n",
       "4   7.0   56.0  \n",
       "1  13.3   40.0  \n",
       "3   8.0   40.0  \n",
       "0  16.2   16.2  \n",
       "7   1.1    9.0  \n",
       "5   2.0    4.0  \n",
       "6   1.3    4.0  \n",
       "8   1.0    3.0  "
      ]
     },
     "execution_count": 6,
     "metadata": {},
     "output_type": "execute_result"
    }
   ],
   "source": [
    "total = ICE.merge(RICE, left_on='hypothesis', right_on='hypothesis').sort_values(by=['RICE'], ascending=False)\n",
    "total"
   ]
  },
  {
   "cell_type": "markdown",
   "metadata": {},
   "source": [
    "При применении RICE вместо ICE для приоритизации гипотез очень сильно изменился порядок приоритетности (только **гипотеза 5** \"*Изменить цвет фона главной страницы, чтобы увеличить вовлеченность пользователей*\" и **гипотеза 7** \"*Показать на главной странице баннеры с актуальными акциями и распродажами, чтобы увеличить конверсию*\" не изменили приоритетности).\n",
    "\n",
    "Причиной изменения приоритетности является использование параметра **reach** во фреймфорке RICE, поскольку он отображает охват пользователей. Таким образом, **гипотеза 8** \"*Добавить форму подписки на все основные страницы, чтобы собрать базу клиентов для email-рассылок*\" с параметром **reach** = 10 стала более приоритетной, чем **гипотеза 9** \"*Запустить акцию, дающую скидку на товар в день рождения*\", у которой **reach** = 1. "
   ]
  },
  {
   "cell_type": "markdown",
   "metadata": {},
   "source": [
    "**Вывод по части 1**\n",
    "\n",
    "В первой части исследования были изучены и приоритизированы гипотезы, направленные на увеличение выручки интернет-магазина. Для этого использовались фреймворки ICE и RICE. \n",
    "\n",
    "При использовании фреймворка ICE наивысший приоритет получила  **гипотеза 9** \"*Запустить акцию, дающую скидку на товар в день рождения*\".\n",
    "\n",
    "При использовании фреймворка RICE наивысший приоритет получила  **гипотеза 8** \"*Добавить форму подписки на все основные страницы, чтобы собрать базу клиентов для email-рассылок*\".\n",
    "\n",
    "Поскольку фреймворк RICE учитывает охват пользователей, то его применение в нашем исследовании более желательно. Таким образом, приоритетной гипотезой, направленной на увеличение выручки примем **гипотезу 8**."
   ]
  },
  {
   "cell_type": "markdown",
   "metadata": {},
   "source": [
    "# Часть 2. Анализ A/B-теста"
   ]
  },
  {
   "cell_type": "markdown",
   "metadata": {},
   "source": [
    "**Шаг 2.1.**  Выгрузим данные из файлов orders.csv и visitors.csv и проверим их."
   ]
  },
  {
   "cell_type": "code",
   "execution_count": 7,
   "metadata": {},
   "outputs": [],
   "source": [
    "orders = pd.read_csv('/datasets/orders.csv')\n",
    "visitors = pd.read_csv('/datasets/visitors.csv')"
   ]
  },
  {
   "cell_type": "code",
   "execution_count": 8,
   "metadata": {},
   "outputs": [
    {
     "data": {
      "text/html": [
       "<div>\n",
       "<style scoped>\n",
       "    .dataframe tbody tr th:only-of-type {\n",
       "        vertical-align: middle;\n",
       "    }\n",
       "\n",
       "    .dataframe tbody tr th {\n",
       "        vertical-align: top;\n",
       "    }\n",
       "\n",
       "    .dataframe thead th {\n",
       "        text-align: right;\n",
       "    }\n",
       "</style>\n",
       "<table border=\"1\" class=\"dataframe\">\n",
       "  <thead>\n",
       "    <tr style=\"text-align: right;\">\n",
       "      <th></th>\n",
       "      <th>transactionId</th>\n",
       "      <th>visitorId</th>\n",
       "      <th>date</th>\n",
       "      <th>revenue</th>\n",
       "      <th>group</th>\n",
       "    </tr>\n",
       "  </thead>\n",
       "  <tbody>\n",
       "    <tr>\n",
       "      <th>0</th>\n",
       "      <td>3667963787</td>\n",
       "      <td>3312258926</td>\n",
       "      <td>2019-08-15</td>\n",
       "      <td>1650</td>\n",
       "      <td>B</td>\n",
       "    </tr>\n",
       "    <tr>\n",
       "      <th>1</th>\n",
       "      <td>2804400009</td>\n",
       "      <td>3642806036</td>\n",
       "      <td>2019-08-15</td>\n",
       "      <td>730</td>\n",
       "      <td>B</td>\n",
       "    </tr>\n",
       "    <tr>\n",
       "      <th>2</th>\n",
       "      <td>2961555356</td>\n",
       "      <td>4069496402</td>\n",
       "      <td>2019-08-15</td>\n",
       "      <td>400</td>\n",
       "      <td>A</td>\n",
       "    </tr>\n",
       "    <tr>\n",
       "      <th>3</th>\n",
       "      <td>3797467345</td>\n",
       "      <td>1196621759</td>\n",
       "      <td>2019-08-15</td>\n",
       "      <td>9759</td>\n",
       "      <td>B</td>\n",
       "    </tr>\n",
       "    <tr>\n",
       "      <th>4</th>\n",
       "      <td>2282983706</td>\n",
       "      <td>2322279887</td>\n",
       "      <td>2019-08-15</td>\n",
       "      <td>2308</td>\n",
       "      <td>B</td>\n",
       "    </tr>\n",
       "  </tbody>\n",
       "</table>\n",
       "</div>"
      ],
      "text/plain": [
       "   transactionId   visitorId        date  revenue group\n",
       "0     3667963787  3312258926  2019-08-15     1650     B\n",
       "1     2804400009  3642806036  2019-08-15      730     B\n",
       "2     2961555356  4069496402  2019-08-15      400     A\n",
       "3     3797467345  1196621759  2019-08-15     9759     B\n",
       "4     2282983706  2322279887  2019-08-15     2308     B"
      ]
     },
     "execution_count": 8,
     "metadata": {},
     "output_type": "execute_result"
    }
   ],
   "source": [
    "orders.head()"
   ]
  },
  {
   "cell_type": "code",
   "execution_count": 9,
   "metadata": {},
   "outputs": [
    {
     "name": "stdout",
     "output_type": "stream",
     "text": [
      "<class 'pandas.core.frame.DataFrame'>\n",
      "RangeIndex: 1197 entries, 0 to 1196\n",
      "Data columns (total 5 columns):\n",
      " #   Column         Non-Null Count  Dtype \n",
      "---  ------         --------------  ----- \n",
      " 0   transactionId  1197 non-null   int64 \n",
      " 1   visitorId      1197 non-null   int64 \n",
      " 2   date           1197 non-null   object\n",
      " 3   revenue        1197 non-null   int64 \n",
      " 4   group          1197 non-null   object\n",
      "dtypes: int64(3), object(2)\n",
      "memory usage: 46.9+ KB\n"
     ]
    }
   ],
   "source": [
    "orders.info()"
   ]
  },
  {
   "cell_type": "code",
   "execution_count": 10,
   "metadata": {},
   "outputs": [
    {
     "data": {
      "text/html": [
       "<div>\n",
       "<style scoped>\n",
       "    .dataframe tbody tr th:only-of-type {\n",
       "        vertical-align: middle;\n",
       "    }\n",
       "\n",
       "    .dataframe tbody tr th {\n",
       "        vertical-align: top;\n",
       "    }\n",
       "\n",
       "    .dataframe thead th {\n",
       "        text-align: right;\n",
       "    }\n",
       "</style>\n",
       "<table border=\"1\" class=\"dataframe\">\n",
       "  <thead>\n",
       "    <tr style=\"text-align: right;\">\n",
       "      <th></th>\n",
       "      <th>date</th>\n",
       "      <th>group</th>\n",
       "      <th>visitors</th>\n",
       "    </tr>\n",
       "  </thead>\n",
       "  <tbody>\n",
       "    <tr>\n",
       "      <th>0</th>\n",
       "      <td>2019-08-01</td>\n",
       "      <td>A</td>\n",
       "      <td>719</td>\n",
       "    </tr>\n",
       "    <tr>\n",
       "      <th>1</th>\n",
       "      <td>2019-08-02</td>\n",
       "      <td>A</td>\n",
       "      <td>619</td>\n",
       "    </tr>\n",
       "    <tr>\n",
       "      <th>2</th>\n",
       "      <td>2019-08-03</td>\n",
       "      <td>A</td>\n",
       "      <td>507</td>\n",
       "    </tr>\n",
       "    <tr>\n",
       "      <th>3</th>\n",
       "      <td>2019-08-04</td>\n",
       "      <td>A</td>\n",
       "      <td>717</td>\n",
       "    </tr>\n",
       "    <tr>\n",
       "      <th>4</th>\n",
       "      <td>2019-08-05</td>\n",
       "      <td>A</td>\n",
       "      <td>756</td>\n",
       "    </tr>\n",
       "  </tbody>\n",
       "</table>\n",
       "</div>"
      ],
      "text/plain": [
       "         date group  visitors\n",
       "0  2019-08-01     A       719\n",
       "1  2019-08-02     A       619\n",
       "2  2019-08-03     A       507\n",
       "3  2019-08-04     A       717\n",
       "4  2019-08-05     A       756"
      ]
     },
     "execution_count": 10,
     "metadata": {},
     "output_type": "execute_result"
    }
   ],
   "source": [
    "visitors.head()"
   ]
  },
  {
   "cell_type": "code",
   "execution_count": 11,
   "metadata": {},
   "outputs": [
    {
     "name": "stdout",
     "output_type": "stream",
     "text": [
      "<class 'pandas.core.frame.DataFrame'>\n",
      "RangeIndex: 62 entries, 0 to 61\n",
      "Data columns (total 3 columns):\n",
      " #   Column    Non-Null Count  Dtype \n",
      "---  ------    --------------  ----- \n",
      " 0   date      62 non-null     object\n",
      " 1   group     62 non-null     object\n",
      " 2   visitors  62 non-null     int64 \n",
      "dtypes: int64(1), object(2)\n",
      "memory usage: 1.6+ KB\n"
     ]
    }
   ],
   "source": [
    "visitors.info()"
   ]
  },
  {
   "cell_type": "markdown",
   "metadata": {},
   "source": [
    "В обеих таблицах столбцы date приведем к типу datetime."
   ]
  },
  {
   "cell_type": "code",
   "execution_count": 12,
   "metadata": {},
   "outputs": [],
   "source": [
    "orders['date'] = pd.to_datetime(orders['date'], format='%Y-%m-%d')\n",
    "visitors['date'] = pd.to_datetime(visitors['date'], format='%Y-%m-%d')"
   ]
  },
  {
   "cell_type": "code",
   "execution_count": 13,
   "metadata": {},
   "outputs": [
    {
     "name": "stdout",
     "output_type": "stream",
     "text": [
      "<class 'pandas.core.frame.DataFrame'>\n",
      "RangeIndex: 1197 entries, 0 to 1196\n",
      "Data columns (total 5 columns):\n",
      " #   Column         Non-Null Count  Dtype         \n",
      "---  ------         --------------  -----         \n",
      " 0   transactionId  1197 non-null   int64         \n",
      " 1   visitorId      1197 non-null   int64         \n",
      " 2   date           1197 non-null   datetime64[ns]\n",
      " 3   revenue        1197 non-null   int64         \n",
      " 4   group          1197 non-null   object        \n",
      "dtypes: datetime64[ns](1), int64(3), object(1)\n",
      "memory usage: 46.9+ KB\n"
     ]
    }
   ],
   "source": [
    "orders.info()"
   ]
  },
  {
   "cell_type": "code",
   "execution_count": 14,
   "metadata": {},
   "outputs": [
    {
     "name": "stdout",
     "output_type": "stream",
     "text": [
      "<class 'pandas.core.frame.DataFrame'>\n",
      "RangeIndex: 62 entries, 0 to 61\n",
      "Data columns (total 3 columns):\n",
      " #   Column    Non-Null Count  Dtype         \n",
      "---  ------    --------------  -----         \n",
      " 0   date      62 non-null     datetime64[ns]\n",
      " 1   group     62 non-null     object        \n",
      " 2   visitors  62 non-null     int64         \n",
      "dtypes: datetime64[ns](1), int64(1), object(1)\n",
      "memory usage: 1.6+ KB\n"
     ]
    }
   ],
   "source": [
    "visitors.info()"
   ]
  },
  {
   "cell_type": "markdown",
   "metadata": {},
   "source": [
    "Теперь проверим таблицы на наличие дубликатов:"
   ]
  },
  {
   "cell_type": "code",
   "execution_count": 15,
   "metadata": {},
   "outputs": [
    {
     "data": {
      "text/plain": [
       "0"
      ]
     },
     "execution_count": 15,
     "metadata": {},
     "output_type": "execute_result"
    }
   ],
   "source": [
    "orders.duplicated().sum()"
   ]
  },
  {
   "cell_type": "code",
   "execution_count": 16,
   "metadata": {},
   "outputs": [
    {
     "data": {
      "text/plain": [
       "0"
      ]
     },
     "execution_count": 16,
     "metadata": {},
     "output_type": "execute_result"
    }
   ],
   "source": [
    "visitors.duplicated().sum()"
   ]
  },
  {
   "cell_type": "markdown",
   "metadata": {},
   "source": [
    "Дубликатов не обнаружено."
   ]
  },
  {
   "cell_type": "markdown",
   "metadata": {},
   "source": [
    "Проверим, что во всех таблицах даты и группы внесены корректно."
   ]
  },
  {
   "cell_type": "code",
   "execution_count": 17,
   "metadata": {},
   "outputs": [
    {
     "data": {
      "text/plain": [
       "Timestamp('2019-08-01 00:00:00')"
      ]
     },
     "execution_count": 17,
     "metadata": {},
     "output_type": "execute_result"
    }
   ],
   "source": [
    "min_date_orders = orders['date'].min()\n",
    "max_date_orders = orders['date'].max()\n",
    "min_date_orders"
   ]
  },
  {
   "cell_type": "code",
   "execution_count": 18,
   "metadata": {},
   "outputs": [
    {
     "data": {
      "text/plain": [
       "Timestamp('2019-08-31 00:00:00')"
      ]
     },
     "execution_count": 18,
     "metadata": {},
     "output_type": "execute_result"
    }
   ],
   "source": [
    "max_date_orders"
   ]
  },
  {
   "cell_type": "code",
   "execution_count": 19,
   "metadata": {},
   "outputs": [
    {
     "data": {
      "text/plain": [
       "Timestamp('2019-08-01 00:00:00')"
      ]
     },
     "execution_count": 19,
     "metadata": {},
     "output_type": "execute_result"
    }
   ],
   "source": [
    "min_date_visitors = visitors['date'].min()\n",
    "max_date_visitors = visitors['date'].max()\n",
    "min_date_visitors"
   ]
  },
  {
   "cell_type": "code",
   "execution_count": 20,
   "metadata": {},
   "outputs": [
    {
     "data": {
      "text/plain": [
       "Timestamp('2019-08-31 00:00:00')"
      ]
     },
     "execution_count": 20,
     "metadata": {},
     "output_type": "execute_result"
    }
   ],
   "source": [
    "max_date_visitors"
   ]
  },
  {
   "cell_type": "code",
   "execution_count": 21,
   "metadata": {},
   "outputs": [
    {
     "data": {
      "text/plain": [
       "array(['B', 'A'], dtype=object)"
      ]
     },
     "execution_count": 21,
     "metadata": {},
     "output_type": "execute_result"
    }
   ],
   "source": [
    "orders['group'].unique()"
   ]
  },
  {
   "cell_type": "code",
   "execution_count": 22,
   "metadata": {},
   "outputs": [
    {
     "data": {
      "text/plain": [
       "array(['A', 'B'], dtype=object)"
      ]
     },
     "execution_count": 22,
     "metadata": {},
     "output_type": "execute_result"
    }
   ],
   "source": [
    "visitors['group'].unique()"
   ]
  },
  {
   "cell_type": "markdown",
   "metadata": {},
   "source": [
    "Крайние даты в обеих таблицах таблицах совпадают: сведения с 1 августа 2019 года по 31 августа 2019 года.\n",
    "\n",
    "Группы в обеих таблицах тоже совпадают: группа A и группа B.\n",
    "\n",
    "Проверим, не попадают ли какие-либо пользователи в обе группы одновременно. Для этого разделим таблицу orders на 2 таблицы по группам A и B."
   ]
  },
  {
   "cell_type": "code",
   "execution_count": 23,
   "metadata": {},
   "outputs": [
    {
     "data": {
      "text/html": [
       "<div>\n",
       "<style scoped>\n",
       "    .dataframe tbody tr th:only-of-type {\n",
       "        vertical-align: middle;\n",
       "    }\n",
       "\n",
       "    .dataframe tbody tr th {\n",
       "        vertical-align: top;\n",
       "    }\n",
       "\n",
       "    .dataframe thead th {\n",
       "        text-align: right;\n",
       "    }\n",
       "</style>\n",
       "<table border=\"1\" class=\"dataframe\">\n",
       "  <thead>\n",
       "    <tr style=\"text-align: right;\">\n",
       "      <th></th>\n",
       "      <th>transactionId</th>\n",
       "      <th>visitorId</th>\n",
       "      <th>date</th>\n",
       "      <th>revenue</th>\n",
       "      <th>group</th>\n",
       "    </tr>\n",
       "  </thead>\n",
       "  <tbody>\n",
       "    <tr>\n",
       "      <th>2</th>\n",
       "      <td>2961555356</td>\n",
       "      <td>4069496402</td>\n",
       "      <td>2019-08-15</td>\n",
       "      <td>400</td>\n",
       "      <td>A</td>\n",
       "    </tr>\n",
       "    <tr>\n",
       "      <th>7</th>\n",
       "      <td>2626614568</td>\n",
       "      <td>78758296</td>\n",
       "      <td>2019-08-15</td>\n",
       "      <td>1044</td>\n",
       "      <td>A</td>\n",
       "    </tr>\n",
       "    <tr>\n",
       "      <th>8</th>\n",
       "      <td>1576988021</td>\n",
       "      <td>295230930</td>\n",
       "      <td>2019-08-15</td>\n",
       "      <td>13710</td>\n",
       "      <td>A</td>\n",
       "    </tr>\n",
       "    <tr>\n",
       "      <th>10</th>\n",
       "      <td>3649131742</td>\n",
       "      <td>879864040</td>\n",
       "      <td>2019-08-15</td>\n",
       "      <td>4008</td>\n",
       "      <td>A</td>\n",
       "    </tr>\n",
       "    <tr>\n",
       "      <th>12</th>\n",
       "      <td>2809384911</td>\n",
       "      <td>3213223594</td>\n",
       "      <td>2019-08-15</td>\n",
       "      <td>7370</td>\n",
       "      <td>A</td>\n",
       "    </tr>\n",
       "    <tr>\n",
       "      <th>...</th>\n",
       "      <td>...</td>\n",
       "      <td>...</td>\n",
       "      <td>...</td>\n",
       "      <td>...</td>\n",
       "      <td>...</td>\n",
       "    </tr>\n",
       "    <tr>\n",
       "      <th>1187</th>\n",
       "      <td>2274188238</td>\n",
       "      <td>132143192</td>\n",
       "      <td>2019-08-14</td>\n",
       "      <td>750</td>\n",
       "      <td>A</td>\n",
       "    </tr>\n",
       "    <tr>\n",
       "      <th>1188</th>\n",
       "      <td>1692103379</td>\n",
       "      <td>1022829655</td>\n",
       "      <td>2019-08-14</td>\n",
       "      <td>112</td>\n",
       "      <td>A</td>\n",
       "    </tr>\n",
       "    <tr>\n",
       "      <th>1193</th>\n",
       "      <td>2203539145</td>\n",
       "      <td>370388673</td>\n",
       "      <td>2019-08-14</td>\n",
       "      <td>3190</td>\n",
       "      <td>A</td>\n",
       "    </tr>\n",
       "    <tr>\n",
       "      <th>1194</th>\n",
       "      <td>1807773912</td>\n",
       "      <td>573423106</td>\n",
       "      <td>2019-08-14</td>\n",
       "      <td>10550</td>\n",
       "      <td>A</td>\n",
       "    </tr>\n",
       "    <tr>\n",
       "      <th>1195</th>\n",
       "      <td>1947021204</td>\n",
       "      <td>1614305549</td>\n",
       "      <td>2019-08-14</td>\n",
       "      <td>100</td>\n",
       "      <td>A</td>\n",
       "    </tr>\n",
       "  </tbody>\n",
       "</table>\n",
       "<p>557 rows × 5 columns</p>\n",
       "</div>"
      ],
      "text/plain": [
       "      transactionId   visitorId       date  revenue group\n",
       "2        2961555356  4069496402 2019-08-15      400     A\n",
       "7        2626614568    78758296 2019-08-15     1044     A\n",
       "8        1576988021   295230930 2019-08-15    13710     A\n",
       "10       3649131742   879864040 2019-08-15     4008     A\n",
       "12       2809384911  3213223594 2019-08-15     7370     A\n",
       "...             ...         ...        ...      ...   ...\n",
       "1187     2274188238   132143192 2019-08-14      750     A\n",
       "1188     1692103379  1022829655 2019-08-14      112     A\n",
       "1193     2203539145   370388673 2019-08-14     3190     A\n",
       "1194     1807773912   573423106 2019-08-14    10550     A\n",
       "1195     1947021204  1614305549 2019-08-14      100     A\n",
       "\n",
       "[557 rows x 5 columns]"
      ]
     },
     "execution_count": 23,
     "metadata": {},
     "output_type": "execute_result"
    }
   ],
   "source": [
    "group_a = orders.loc[orders['group'] == 'A']\n",
    "group_a"
   ]
  },
  {
   "cell_type": "code",
   "execution_count": 24,
   "metadata": {},
   "outputs": [
    {
     "data": {
      "text/html": [
       "<div>\n",
       "<style scoped>\n",
       "    .dataframe tbody tr th:only-of-type {\n",
       "        vertical-align: middle;\n",
       "    }\n",
       "\n",
       "    .dataframe tbody tr th {\n",
       "        vertical-align: top;\n",
       "    }\n",
       "\n",
       "    .dataframe thead th {\n",
       "        text-align: right;\n",
       "    }\n",
       "</style>\n",
       "<table border=\"1\" class=\"dataframe\">\n",
       "  <thead>\n",
       "    <tr style=\"text-align: right;\">\n",
       "      <th></th>\n",
       "      <th>transactionId</th>\n",
       "      <th>visitorId</th>\n",
       "      <th>date</th>\n",
       "      <th>revenue</th>\n",
       "      <th>group</th>\n",
       "    </tr>\n",
       "  </thead>\n",
       "  <tbody>\n",
       "    <tr>\n",
       "      <th>0</th>\n",
       "      <td>3667963787</td>\n",
       "      <td>3312258926</td>\n",
       "      <td>2019-08-15</td>\n",
       "      <td>1650</td>\n",
       "      <td>B</td>\n",
       "    </tr>\n",
       "    <tr>\n",
       "      <th>1</th>\n",
       "      <td>2804400009</td>\n",
       "      <td>3642806036</td>\n",
       "      <td>2019-08-15</td>\n",
       "      <td>730</td>\n",
       "      <td>B</td>\n",
       "    </tr>\n",
       "    <tr>\n",
       "      <th>3</th>\n",
       "      <td>3797467345</td>\n",
       "      <td>1196621759</td>\n",
       "      <td>2019-08-15</td>\n",
       "      <td>9759</td>\n",
       "      <td>B</td>\n",
       "    </tr>\n",
       "    <tr>\n",
       "      <th>4</th>\n",
       "      <td>2282983706</td>\n",
       "      <td>2322279887</td>\n",
       "      <td>2019-08-15</td>\n",
       "      <td>2308</td>\n",
       "      <td>B</td>\n",
       "    </tr>\n",
       "    <tr>\n",
       "      <th>5</th>\n",
       "      <td>182168103</td>\n",
       "      <td>935554773</td>\n",
       "      <td>2019-08-15</td>\n",
       "      <td>2210</td>\n",
       "      <td>B</td>\n",
       "    </tr>\n",
       "    <tr>\n",
       "      <th>...</th>\n",
       "      <td>...</td>\n",
       "      <td>...</td>\n",
       "      <td>...</td>\n",
       "      <td>...</td>\n",
       "      <td>...</td>\n",
       "    </tr>\n",
       "    <tr>\n",
       "      <th>1189</th>\n",
       "      <td>4082620617</td>\n",
       "      <td>393266494</td>\n",
       "      <td>2019-08-14</td>\n",
       "      <td>31550</td>\n",
       "      <td>B</td>\n",
       "    </tr>\n",
       "    <tr>\n",
       "      <th>1190</th>\n",
       "      <td>38478481</td>\n",
       "      <td>1197745035</td>\n",
       "      <td>2019-08-14</td>\n",
       "      <td>8600</td>\n",
       "      <td>B</td>\n",
       "    </tr>\n",
       "    <tr>\n",
       "      <th>1191</th>\n",
       "      <td>3592955527</td>\n",
       "      <td>608641596</td>\n",
       "      <td>2019-08-14</td>\n",
       "      <td>16490</td>\n",
       "      <td>B</td>\n",
       "    </tr>\n",
       "    <tr>\n",
       "      <th>1192</th>\n",
       "      <td>2662137336</td>\n",
       "      <td>3733762160</td>\n",
       "      <td>2019-08-14</td>\n",
       "      <td>6490</td>\n",
       "      <td>B</td>\n",
       "    </tr>\n",
       "    <tr>\n",
       "      <th>1196</th>\n",
       "      <td>3936777065</td>\n",
       "      <td>2108080724</td>\n",
       "      <td>2019-08-15</td>\n",
       "      <td>202740</td>\n",
       "      <td>B</td>\n",
       "    </tr>\n",
       "  </tbody>\n",
       "</table>\n",
       "<p>640 rows × 5 columns</p>\n",
       "</div>"
      ],
      "text/plain": [
       "      transactionId   visitorId       date  revenue group\n",
       "0        3667963787  3312258926 2019-08-15     1650     B\n",
       "1        2804400009  3642806036 2019-08-15      730     B\n",
       "3        3797467345  1196621759 2019-08-15     9759     B\n",
       "4        2282983706  2322279887 2019-08-15     2308     B\n",
       "5         182168103   935554773 2019-08-15     2210     B\n",
       "...             ...         ...        ...      ...   ...\n",
       "1189     4082620617   393266494 2019-08-14    31550     B\n",
       "1190       38478481  1197745035 2019-08-14     8600     B\n",
       "1191     3592955527   608641596 2019-08-14    16490     B\n",
       "1192     2662137336  3733762160 2019-08-14     6490     B\n",
       "1196     3936777065  2108080724 2019-08-15   202740     B\n",
       "\n",
       "[640 rows x 5 columns]"
      ]
     },
     "execution_count": 24,
     "metadata": {},
     "output_type": "execute_result"
    }
   ],
   "source": [
    "group_b = orders.loc[orders['group'] == 'B']\n",
    "group_b"
   ]
  },
  {
   "cell_type": "code",
   "execution_count": 25,
   "metadata": {},
   "outputs": [
    {
     "data": {
      "text/plain": [
       "{8300375,\n",
       " 199603092,\n",
       " 232979603,\n",
       " 237748145,\n",
       " 276558944,\n",
       " 351125977,\n",
       " 393266494,\n",
       " 457167155,\n",
       " 471551937,\n",
       " 477780734,\n",
       " 818047933,\n",
       " 963407295,\n",
       " 1230306981,\n",
       " 1294878855,\n",
       " 1316129916,\n",
       " 1333886533,\n",
       " 1404934699,\n",
       " 1602967004,\n",
       " 1614305549,\n",
       " 1648269707,\n",
       " 1668030113,\n",
       " 1738359350,\n",
       " 1801183820,\n",
       " 1959144690,\n",
       " 2038680547,\n",
       " 2044997962,\n",
       " 2378935119,\n",
       " 2458001652,\n",
       " 2579882178,\n",
       " 2587333274,\n",
       " 2600415354,\n",
       " 2654030115,\n",
       " 2686716486,\n",
       " 2712142231,\n",
       " 2716752286,\n",
       " 2780786433,\n",
       " 2927087541,\n",
       " 2949041841,\n",
       " 2954449915,\n",
       " 3062433592,\n",
       " 3202540741,\n",
       " 3234906277,\n",
       " 3656415546,\n",
       " 3717692402,\n",
       " 3766097110,\n",
       " 3803269165,\n",
       " 3891541246,\n",
       " 3941795274,\n",
       " 3951559397,\n",
       " 3957174400,\n",
       " 3963646447,\n",
       " 3972127743,\n",
       " 3984495233,\n",
       " 4069496402,\n",
       " 4120364173,\n",
       " 4186807279,\n",
       " 4256040402,\n",
       " 4266935830}"
      ]
     },
     "execution_count": 25,
     "metadata": {},
     "output_type": "execute_result"
    }
   ],
   "source": [
    "a = group_a['visitorId']\n",
    "b = group_b['visitorId']\n",
    "set(a) & set(b)"
   ]
  },
  {
   "cell_type": "markdown",
   "metadata": {},
   "source": [
    "Мы получили достаточно большое количество посетителей, которые попали одновременно в 2 группы. Однако, поскольку мы в анализе изучаем непосредственно транзакции, то этот факт никак не повлияет на дальнейший анализ."
   ]
  },
  {
   "cell_type": "markdown",
   "metadata": {},
   "source": [
    "Таблицы готовы для проведения анализа A/B-теста."
   ]
  },
  {
   "cell_type": "markdown",
   "metadata": {},
   "source": [
    "**Шаг 2.2.** Построим график кумулятивной выручки по группам."
   ]
  },
  {
   "cell_type": "markdown",
   "metadata": {},
   "source": [
    "Для этого сначала получим кумулятивные данные, используя сведения из таблиц orders и visitors:"
   ]
  },
  {
   "cell_type": "code",
   "execution_count": 26,
   "metadata": {},
   "outputs": [
    {
     "data": {
      "text/html": [
       "<div>\n",
       "<style scoped>\n",
       "    .dataframe tbody tr th:only-of-type {\n",
       "        vertical-align: middle;\n",
       "    }\n",
       "\n",
       "    .dataframe tbody tr th {\n",
       "        vertical-align: top;\n",
       "    }\n",
       "\n",
       "    .dataframe thead th {\n",
       "        text-align: right;\n",
       "    }\n",
       "</style>\n",
       "<table border=\"1\" class=\"dataframe\">\n",
       "  <thead>\n",
       "    <tr style=\"text-align: right;\">\n",
       "      <th></th>\n",
       "      <th>date</th>\n",
       "      <th>group</th>\n",
       "      <th>orders</th>\n",
       "      <th>buyers</th>\n",
       "      <th>revenue</th>\n",
       "      <th>visitors</th>\n",
       "    </tr>\n",
       "  </thead>\n",
       "  <tbody>\n",
       "    <tr>\n",
       "      <th>0</th>\n",
       "      <td>2019-08-01</td>\n",
       "      <td>A</td>\n",
       "      <td>24</td>\n",
       "      <td>20</td>\n",
       "      <td>148579</td>\n",
       "      <td>719</td>\n",
       "    </tr>\n",
       "    <tr>\n",
       "      <th>1</th>\n",
       "      <td>2019-08-01</td>\n",
       "      <td>B</td>\n",
       "      <td>21</td>\n",
       "      <td>20</td>\n",
       "      <td>101217</td>\n",
       "      <td>713</td>\n",
       "    </tr>\n",
       "    <tr>\n",
       "      <th>2</th>\n",
       "      <td>2019-08-02</td>\n",
       "      <td>A</td>\n",
       "      <td>44</td>\n",
       "      <td>38</td>\n",
       "      <td>242401</td>\n",
       "      <td>1338</td>\n",
       "    </tr>\n",
       "    <tr>\n",
       "      <th>3</th>\n",
       "      <td>2019-08-02</td>\n",
       "      <td>B</td>\n",
       "      <td>45</td>\n",
       "      <td>43</td>\n",
       "      <td>266748</td>\n",
       "      <td>1294</td>\n",
       "    </tr>\n",
       "    <tr>\n",
       "      <th>4</th>\n",
       "      <td>2019-08-03</td>\n",
       "      <td>A</td>\n",
       "      <td>68</td>\n",
       "      <td>62</td>\n",
       "      <td>354874</td>\n",
       "      <td>1845</td>\n",
       "    </tr>\n",
       "  </tbody>\n",
       "</table>\n",
       "</div>"
      ],
      "text/plain": [
       "        date group  orders  buyers  revenue  visitors\n",
       "0 2019-08-01     A      24      20   148579       719\n",
       "1 2019-08-01     B      21      20   101217       713\n",
       "2 2019-08-02     A      44      38   242401      1338\n",
       "3 2019-08-02     B      45      43   266748      1294\n",
       "4 2019-08-03     A      68      62   354874      1845"
      ]
     },
     "execution_count": 26,
     "metadata": {},
     "output_type": "execute_result"
    }
   ],
   "source": [
    "# создаем массив уникальных пар значений дат и групп теста\n",
    "datesgroups = orders[['date','group']].drop_duplicates()\n",
    "\n",
    "# получаем агрегированные кумулятивные по дням данные о заказах \n",
    "orders_agg = datesgroups.apply(lambda x: orders[np.logical_and(orders['date'] <= x['date'], orders['group'] == x['group'])].agg({'date' : 'max', 'group' : 'max', 'transactionId' : 'nunique', 'visitorId' : 'nunique', 'revenue' : 'sum'}), axis=1).sort_values(by=['date','group'])\n",
    "\n",
    "# получаем агрегированные кумулятивные по дням данные о посетителях интернет-магазина \n",
    "visitors_agg = datesgroups.apply(lambda x: visitors[np.logical_and(visitors['date'] <= x['date'], visitors['group'] == x['group'])].agg({'date' : 'max', 'group' : 'max', 'visitors' : 'sum'}), axis=1).sort_values(by=['date','group'])\n",
    "\n",
    "# объединяем кумулятивные данные в одной таблице и присваиваем ее столбцам понятные названия\n",
    "cum_data = orders_agg.merge(visitors_agg, left_on=['date', 'group'], right_on=['date', 'group'])\n",
    "cum_data.columns = ['date', 'group', 'orders', 'buyers', 'revenue', 'visitors']\n",
    "\n",
    "cum_data.head()"
   ]
  },
  {
   "cell_type": "markdown",
   "metadata": {},
   "source": [
    "Теперь можно построить графики:"
   ]
  },
  {
   "cell_type": "code",
   "execution_count": 27,
   "metadata": {},
   "outputs": [
    {
     "data": {
      "text/html": [
       "<div>\n",
       "<style scoped>\n",
       "    .dataframe tbody tr th:only-of-type {\n",
       "        vertical-align: middle;\n",
       "    }\n",
       "\n",
       "    .dataframe tbody tr th {\n",
       "        vertical-align: top;\n",
       "    }\n",
       "\n",
       "    .dataframe thead th {\n",
       "        text-align: right;\n",
       "    }\n",
       "</style>\n",
       "<table border=\"1\" class=\"dataframe\">\n",
       "  <thead>\n",
       "    <tr style=\"text-align: right;\">\n",
       "      <th></th>\n",
       "      <th>date</th>\n",
       "      <th>revenue_a</th>\n",
       "      <th>orders_a</th>\n",
       "      <th>revenue_b</th>\n",
       "      <th>orders_b</th>\n",
       "    </tr>\n",
       "  </thead>\n",
       "  <tbody>\n",
       "    <tr>\n",
       "      <th>0</th>\n",
       "      <td>2019-08-01</td>\n",
       "      <td>148579</td>\n",
       "      <td>24</td>\n",
       "      <td>101217</td>\n",
       "      <td>21</td>\n",
       "    </tr>\n",
       "    <tr>\n",
       "      <th>1</th>\n",
       "      <td>2019-08-02</td>\n",
       "      <td>242401</td>\n",
       "      <td>44</td>\n",
       "      <td>266748</td>\n",
       "      <td>45</td>\n",
       "    </tr>\n",
       "    <tr>\n",
       "      <th>2</th>\n",
       "      <td>2019-08-03</td>\n",
       "      <td>354874</td>\n",
       "      <td>68</td>\n",
       "      <td>380996</td>\n",
       "      <td>61</td>\n",
       "    </tr>\n",
       "    <tr>\n",
       "      <th>3</th>\n",
       "      <td>2019-08-04</td>\n",
       "      <td>425699</td>\n",
       "      <td>84</td>\n",
       "      <td>489567</td>\n",
       "      <td>78</td>\n",
       "    </tr>\n",
       "    <tr>\n",
       "      <th>4</th>\n",
       "      <td>2019-08-05</td>\n",
       "      <td>549917</td>\n",
       "      <td>109</td>\n",
       "      <td>581995</td>\n",
       "      <td>101</td>\n",
       "    </tr>\n",
       "  </tbody>\n",
       "</table>\n",
       "</div>"
      ],
      "text/plain": [
       "        date  revenue_a  orders_a  revenue_b  orders_b\n",
       "0 2019-08-01     148579        24     101217        21\n",
       "1 2019-08-02     242401        44     266748        45\n",
       "2 2019-08-03     354874        68     380996        61\n",
       "3 2019-08-04     425699        84     489567        78\n",
       "4 2019-08-05     549917       109     581995       101"
      ]
     },
     "execution_count": 27,
     "metadata": {},
     "output_type": "execute_result"
    }
   ],
   "source": [
    "# датафрейм с кумулятивным количеством заказов и кумулятивной выручкой по дням в группе А\n",
    "cum_revenue_a = cum_data[cum_data['group']=='A'][['date','revenue', 'orders']]\n",
    "\n",
    "# датафрейм с кумулятивным количеством заказов и кумулятивной выручкой по дням в группе B\n",
    "cum_revenue_b = cum_data[cum_data['group']=='B'][['date','revenue', 'orders']]\n",
    "\n",
    "# объединим эти датафреймы\n",
    "cum_total_revenue = cum_revenue_a.merge(cum_revenue_b, left_on='date', right_on='date')\n",
    "cum_total_revenue.columns = ['date', 'revenue_a', 'orders_a', 'revenue_b', 'orders_b']\n",
    "cum_total_revenue.head()"
   ]
  },
  {
   "cell_type": "code",
   "execution_count": 28,
   "metadata": {},
   "outputs": [
    {
     "data": {
      "image/png": "[encoded data removed]",
      "text/plain": [
       "<Figure size 1080x720 with 1 Axes>"
      ]
     },
     "metadata": {
      "needs_background": "light"
     },
     "output_type": "display_data"
    }
   ],
   "source": [
    "cum_total_revenue.plot(x='date', y=['revenue_a', 'revenue_b'], figsize=(15,10), grid = True, fontsize=14)\n",
    "plt.xlabel('Дата', fontsize=14)\n",
    "plt.ylabel('Выручка', fontsize=14)\n",
    "plt.title('Изменение кумулятивной выручки по группам')\n",
    "plt.legend(['Группа A','Группа B'], fontsize=14)\n",
    "plt.show()"
   ]
  },
  {
   "cell_type": "markdown",
   "metadata": {},
   "source": [
    "Как видно из графика, выручка в группе A на изучаемом периоде растет достаточно равномерно, в то время как выручка в группе B резко выросла 19 августа, что может быть связано с **аномально большой покупкой** в этот день одним из пользователей, попавшим в эту группу, либо **резким ростом числа заказов** в этот день в этой группе."
   ]
  },
  {
   "cell_type": "markdown",
   "metadata": {},
   "source": [
    "**Шаг 2.3.** Построим график кумулятивного среднего чека по группам.\n",
    "\n",
    "Воспользуемся данными из таблицы *cum_total_revenue*, чтобы определить средний чек."
   ]
  },
  {
   "cell_type": "code",
   "execution_count": 29,
   "metadata": {},
   "outputs": [
    {
     "data": {
      "text/html": [
       "<div>\n",
       "<style scoped>\n",
       "    .dataframe tbody tr th:only-of-type {\n",
       "        vertical-align: middle;\n",
       "    }\n",
       "\n",
       "    .dataframe tbody tr th {\n",
       "        vertical-align: top;\n",
       "    }\n",
       "\n",
       "    .dataframe thead th {\n",
       "        text-align: right;\n",
       "    }\n",
       "</style>\n",
       "<table border=\"1\" class=\"dataframe\">\n",
       "  <thead>\n",
       "    <tr style=\"text-align: right;\">\n",
       "      <th></th>\n",
       "      <th>date</th>\n",
       "      <th>revenue_a</th>\n",
       "      <th>orders_a</th>\n",
       "      <th>revenue_b</th>\n",
       "      <th>orders_b</th>\n",
       "      <th>a_mean</th>\n",
       "      <th>b_mean</th>\n",
       "    </tr>\n",
       "  </thead>\n",
       "  <tbody>\n",
       "    <tr>\n",
       "      <th>0</th>\n",
       "      <td>2019-08-01</td>\n",
       "      <td>148579</td>\n",
       "      <td>24</td>\n",
       "      <td>101217</td>\n",
       "      <td>21</td>\n",
       "      <td>6190.8</td>\n",
       "      <td>4819.9</td>\n",
       "    </tr>\n",
       "    <tr>\n",
       "      <th>1</th>\n",
       "      <td>2019-08-02</td>\n",
       "      <td>242401</td>\n",
       "      <td>44</td>\n",
       "      <td>266748</td>\n",
       "      <td>45</td>\n",
       "      <td>5509.1</td>\n",
       "      <td>5927.7</td>\n",
       "    </tr>\n",
       "    <tr>\n",
       "      <th>2</th>\n",
       "      <td>2019-08-03</td>\n",
       "      <td>354874</td>\n",
       "      <td>68</td>\n",
       "      <td>380996</td>\n",
       "      <td>61</td>\n",
       "      <td>5218.7</td>\n",
       "      <td>6245.8</td>\n",
       "    </tr>\n",
       "    <tr>\n",
       "      <th>3</th>\n",
       "      <td>2019-08-04</td>\n",
       "      <td>425699</td>\n",
       "      <td>84</td>\n",
       "      <td>489567</td>\n",
       "      <td>78</td>\n",
       "      <td>5067.8</td>\n",
       "      <td>6276.5</td>\n",
       "    </tr>\n",
       "    <tr>\n",
       "      <th>4</th>\n",
       "      <td>2019-08-05</td>\n",
       "      <td>549917</td>\n",
       "      <td>109</td>\n",
       "      <td>581995</td>\n",
       "      <td>101</td>\n",
       "      <td>5045.1</td>\n",
       "      <td>5762.3</td>\n",
       "    </tr>\n",
       "  </tbody>\n",
       "</table>\n",
       "</div>"
      ],
      "text/plain": [
       "        date  revenue_a  orders_a  revenue_b  orders_b  a_mean  b_mean\n",
       "0 2019-08-01     148579        24     101217        21  6190.8  4819.9\n",
       "1 2019-08-02     242401        44     266748        45  5509.1  5927.7\n",
       "2 2019-08-03     354874        68     380996        61  5218.7  6245.8\n",
       "3 2019-08-04     425699        84     489567        78  5067.8  6276.5\n",
       "4 2019-08-05     549917       109     581995       101  5045.1  5762.3"
      ]
     },
     "execution_count": 29,
     "metadata": {},
     "output_type": "execute_result"
    }
   ],
   "source": [
    "cum_total_revenue['a_mean'] = (cum_total_revenue['revenue_a']/cum_total_revenue['orders_a']).round(1)\n",
    "cum_total_revenue['b_mean'] = (cum_total_revenue['revenue_b']/cum_total_revenue['orders_b']).round(1)\n",
    "cum_total_revenue.head()"
   ]
  },
  {
   "cell_type": "code",
   "execution_count": 30,
   "metadata": {},
   "outputs": [
    {
     "data": {
      "image/png": "[encoded data removed]",
      "text/plain": [
       "<Figure size 1080x720 with 1 Axes>"
      ]
     },
     "metadata": {
      "needs_background": "light"
     },
     "output_type": "display_data"
    }
   ],
   "source": [
    "cum_total_revenue.plot(x='date', y=['a_mean', 'b_mean'], figsize=(15,10), grid = True, fontsize=14)\n",
    "plt.xlabel('Дата', fontsize=14)\n",
    "plt.ylabel('Средний чек', fontsize=14)\n",
    "plt.title('Изменение среднего чека по группам')\n",
    "plt.legend(['Группа A','Группа B'], fontsize=14)\n",
    "plt.show()"
   ]
  },
  {
   "cell_type": "markdown",
   "metadata": {},
   "source": [
    "Как видно по рисунку, в группе A размер среднего чека с 1 по 6 августа заметно снижался, после чего до 13 августа увеличивался, а затем до конца августа незначительно колебался около 7000. В группе B размер среднего чека не был достаточно стабильным на протяжении всего августа: с 1 по 4 число рос примерно от 5000 до 6200, 5 августа - снизился примерно до 5800, к 8 августа снова вырос примерно до 7000, к 13 августа снизился до 6500, а затем 19 августа превысил 10000, после чего равномерно снижался к 9000 до конца месяца. Таким образом, 19 августа действительно была совершена аномально большая покупка в группе B."
   ]
  },
  {
   "cell_type": "markdown",
   "metadata": {},
   "source": [
    "**Шаг 2.4.** Построим график относительного изменения кумулятивного среднего чека группы B к группе A."
   ]
  },
  {
   "cell_type": "code",
   "execution_count": 31,
   "metadata": {},
   "outputs": [
    {
     "data": {
      "text/html": [
       "<div>\n",
       "<style scoped>\n",
       "    .dataframe tbody tr th:only-of-type {\n",
       "        vertical-align: middle;\n",
       "    }\n",
       "\n",
       "    .dataframe tbody tr th {\n",
       "        vertical-align: top;\n",
       "    }\n",
       "\n",
       "    .dataframe thead th {\n",
       "        text-align: right;\n",
       "    }\n",
       "</style>\n",
       "<table border=\"1\" class=\"dataframe\">\n",
       "  <thead>\n",
       "    <tr style=\"text-align: right;\">\n",
       "      <th></th>\n",
       "      <th>date</th>\n",
       "      <th>revenue_a</th>\n",
       "      <th>orders_a</th>\n",
       "      <th>revenue_b</th>\n",
       "      <th>orders_b</th>\n",
       "      <th>a_mean</th>\n",
       "      <th>b_mean</th>\n",
       "      <th>relation</th>\n",
       "    </tr>\n",
       "  </thead>\n",
       "  <tbody>\n",
       "    <tr>\n",
       "      <th>0</th>\n",
       "      <td>2019-08-01</td>\n",
       "      <td>148579</td>\n",
       "      <td>24</td>\n",
       "      <td>101217</td>\n",
       "      <td>21</td>\n",
       "      <td>6190.8</td>\n",
       "      <td>4819.9</td>\n",
       "      <td>-0.221441</td>\n",
       "    </tr>\n",
       "    <tr>\n",
       "      <th>1</th>\n",
       "      <td>2019-08-02</td>\n",
       "      <td>242401</td>\n",
       "      <td>44</td>\n",
       "      <td>266748</td>\n",
       "      <td>45</td>\n",
       "      <td>5509.1</td>\n",
       "      <td>5927.7</td>\n",
       "      <td>0.075983</td>\n",
       "    </tr>\n",
       "    <tr>\n",
       "      <th>2</th>\n",
       "      <td>2019-08-03</td>\n",
       "      <td>354874</td>\n",
       "      <td>68</td>\n",
       "      <td>380996</td>\n",
       "      <td>61</td>\n",
       "      <td>5218.7</td>\n",
       "      <td>6245.8</td>\n",
       "      <td>0.196811</td>\n",
       "    </tr>\n",
       "    <tr>\n",
       "      <th>3</th>\n",
       "      <td>2019-08-04</td>\n",
       "      <td>425699</td>\n",
       "      <td>84</td>\n",
       "      <td>489567</td>\n",
       "      <td>78</td>\n",
       "      <td>5067.8</td>\n",
       "      <td>6276.5</td>\n",
       "      <td>0.238506</td>\n",
       "    </tr>\n",
       "    <tr>\n",
       "      <th>4</th>\n",
       "      <td>2019-08-05</td>\n",
       "      <td>549917</td>\n",
       "      <td>109</td>\n",
       "      <td>581995</td>\n",
       "      <td>101</td>\n",
       "      <td>5045.1</td>\n",
       "      <td>5762.3</td>\n",
       "      <td>0.142158</td>\n",
       "    </tr>\n",
       "  </tbody>\n",
       "</table>\n",
       "</div>"
      ],
      "text/plain": [
       "        date  revenue_a  orders_a  revenue_b  orders_b  a_mean  b_mean  \\\n",
       "0 2019-08-01     148579        24     101217        21  6190.8  4819.9   \n",
       "1 2019-08-02     242401        44     266748        45  5509.1  5927.7   \n",
       "2 2019-08-03     354874        68     380996        61  5218.7  6245.8   \n",
       "3 2019-08-04     425699        84     489567        78  5067.8  6276.5   \n",
       "4 2019-08-05     549917       109     581995       101  5045.1  5762.3   \n",
       "\n",
       "   relation  \n",
       "0 -0.221441  \n",
       "1  0.075983  \n",
       "2  0.196811  \n",
       "3  0.238506  \n",
       "4  0.142158  "
      ]
     },
     "execution_count": 31,
     "metadata": {},
     "output_type": "execute_result"
    }
   ],
   "source": [
    "cum_total_revenue['relation'] = (cum_total_revenue['b_mean']/cum_total_revenue['a_mean'])-1\n",
    "cum_total_revenue.head()"
   ]
  },
  {
   "cell_type": "code",
   "execution_count": 32,
   "metadata": {},
   "outputs": [
    {
     "data": {
      "image/png": "[encoded data removed]",
      "text/plain": [
       "<Figure size 1080x720 with 1 Axes>"
      ]
     },
     "metadata": {
      "needs_background": "light"
     },
     "output_type": "display_data"
    }
   ],
   "source": [
    "# cтроим отношение средних чеков\n",
    "cum_total_revenue.plot(x='date', y='relation', figsize=(15,10), grid = True, fontsize=14)\n",
    "plt.xlabel('Дата', fontsize=14)\n",
    "plt.ylabel('Относительное различие среднего чека', fontsize=14)\n",
    "plt.title('Изменение относительного различия среднего чека')\n",
    "plt.axhline(y=0, color='red', linestyle='--') \n",
    "plt.show()"
   ]
  },
  {
   "cell_type": "markdown",
   "metadata": {},
   "source": [
    "Относительное различие среднего чека между группами A и B сильно изменяется практически на протяжении всего месяца. Таким образом мы точно имеем выбросы. С ними разберемся в дальнейшем."
   ]
  },
  {
   "cell_type": "markdown",
   "metadata": {},
   "source": [
    "**Шаг 2.5.** Построим график кумулятивной конверсии по группам."
   ]
  },
  {
   "cell_type": "code",
   "execution_count": 33,
   "metadata": {},
   "outputs": [
    {
     "data": {
      "text/html": [
       "<div>\n",
       "<style scoped>\n",
       "    .dataframe tbody tr th:only-of-type {\n",
       "        vertical-align: middle;\n",
       "    }\n",
       "\n",
       "    .dataframe tbody tr th {\n",
       "        vertical-align: top;\n",
       "    }\n",
       "\n",
       "    .dataframe thead th {\n",
       "        text-align: right;\n",
       "    }\n",
       "</style>\n",
       "<table border=\"1\" class=\"dataframe\">\n",
       "  <thead>\n",
       "    <tr style=\"text-align: right;\">\n",
       "      <th></th>\n",
       "      <th>date</th>\n",
       "      <th>conversion_a</th>\n",
       "      <th>conversion_b</th>\n",
       "    </tr>\n",
       "  </thead>\n",
       "  <tbody>\n",
       "    <tr>\n",
       "      <th>0</th>\n",
       "      <td>2019-08-01</td>\n",
       "      <td>0.027816</td>\n",
       "      <td>0.028050</td>\n",
       "    </tr>\n",
       "    <tr>\n",
       "      <th>1</th>\n",
       "      <td>2019-08-02</td>\n",
       "      <td>0.028401</td>\n",
       "      <td>0.033230</td>\n",
       "    </tr>\n",
       "    <tr>\n",
       "      <th>2</th>\n",
       "      <td>2019-08-03</td>\n",
       "      <td>0.033604</td>\n",
       "      <td>0.032723</td>\n",
       "    </tr>\n",
       "    <tr>\n",
       "      <th>3</th>\n",
       "      <td>2019-08-04</td>\n",
       "      <td>0.030055</td>\n",
       "      <td>0.029149</td>\n",
       "    </tr>\n",
       "    <tr>\n",
       "      <th>4</th>\n",
       "      <td>2019-08-05</td>\n",
       "      <td>0.030139</td>\n",
       "      <td>0.029878</td>\n",
       "    </tr>\n",
       "  </tbody>\n",
       "</table>\n",
       "</div>"
      ],
      "text/plain": [
       "        date  conversion_a  conversion_b\n",
       "0 2019-08-01      0.027816      0.028050\n",
       "1 2019-08-02      0.028401      0.033230\n",
       "2 2019-08-03      0.033604      0.032723\n",
       "3 2019-08-04      0.030055      0.029149\n",
       "4 2019-08-05      0.030139      0.029878"
      ]
     },
     "execution_count": 33,
     "metadata": {},
     "output_type": "execute_result"
    }
   ],
   "source": [
    "# считаем кумулятивную конверсию\n",
    "cum_data['conversion'] = cum_data['buyers']/cum_data['visitors']\n",
    "\n",
    "# отделяем данные по группе A\n",
    "cum_con_a = cum_data[cum_data['group']=='A'][['date','conversion']]\n",
    "\n",
    "# отделяем данные по группе B\n",
    "cum_con_b = cum_data[cum_data['group']=='B'][['date','conversion']]\n",
    "\n",
    "# объединим данные по конверсии в одной таблице\n",
    "cum_total_conversion = cum_con_a.merge(cum_con_b, left_on='date', right_on='date')\n",
    "cum_total_conversion.columns = ['date', 'conversion_a', 'conversion_b']\n",
    "cum_total_conversion.head()"
   ]
  },
  {
   "cell_type": "code",
   "execution_count": 34,
   "metadata": {},
   "outputs": [
    {
     "data": {
      "image/png": "[encoded data removed]",
      "text/plain": [
       "<Figure size 1080x720 with 1 Axes>"
      ]
     },
     "metadata": {
      "needs_background": "light"
     },
     "output_type": "display_data"
    }
   ],
   "source": [
    "cum_total_conversion.plot(x='date', y=['conversion_a', 'conversion_b'], figsize=(15,10), grid = True, fontsize=14)\n",
    "plt.xlabel('Дата', fontsize=14)\n",
    "plt.ylabel('Конверсия', fontsize=14)\n",
    "plt.title('Изменение кумулятивной конверсии по группам')\n",
    "plt.legend(['Группа A','Группа B'], fontsize=14)\n",
    "plt.show()"
   ]
  },
  {
   "cell_type": "markdown",
   "metadata": {},
   "source": [
    "Как видно по графику, до 10го августа кумулятивная конверсия в обеих группах достаточно сильно колебалась, но после 10го августа в группе A конверсия практически стабилизировалась, а в группе B - еще немного колебалась, но при этом относительно равномерно снижалась до 25го августа, после чего практически стабилизировалась. \n",
    "\n",
    "Конверсия в покупателей у группы B заметно выше, чем у группы A."
   ]
  },
  {
   "cell_type": "markdown",
   "metadata": {},
   "source": [
    "**Шаг 2.6.** Построим график относительного изменения кумулятивной конверсии группы B к группе A."
   ]
  },
  {
   "cell_type": "markdown",
   "metadata": {},
   "source": [
    "Сначала посчитаем относительное изменение:"
   ]
  },
  {
   "cell_type": "code",
   "execution_count": 35,
   "metadata": {},
   "outputs": [
    {
     "data": {
      "text/html": [
       "<div>\n",
       "<style scoped>\n",
       "    .dataframe tbody tr th:only-of-type {\n",
       "        vertical-align: middle;\n",
       "    }\n",
       "\n",
       "    .dataframe tbody tr th {\n",
       "        vertical-align: top;\n",
       "    }\n",
       "\n",
       "    .dataframe thead th {\n",
       "        text-align: right;\n",
       "    }\n",
       "</style>\n",
       "<table border=\"1\" class=\"dataframe\">\n",
       "  <thead>\n",
       "    <tr style=\"text-align: right;\">\n",
       "      <th></th>\n",
       "      <th>date</th>\n",
       "      <th>conversion_a</th>\n",
       "      <th>conversion_b</th>\n",
       "      <th>relation</th>\n",
       "    </tr>\n",
       "  </thead>\n",
       "  <tbody>\n",
       "    <tr>\n",
       "      <th>0</th>\n",
       "      <td>2019-08-01</td>\n",
       "      <td>0.027816</td>\n",
       "      <td>0.028050</td>\n",
       "      <td>0.008415</td>\n",
       "    </tr>\n",
       "    <tr>\n",
       "      <th>1</th>\n",
       "      <td>2019-08-02</td>\n",
       "      <td>0.028401</td>\n",
       "      <td>0.033230</td>\n",
       "      <td>0.170056</td>\n",
       "    </tr>\n",
       "    <tr>\n",
       "      <th>2</th>\n",
       "      <td>2019-08-03</td>\n",
       "      <td>0.033604</td>\n",
       "      <td>0.032723</td>\n",
       "      <td>-0.026220</td>\n",
       "    </tr>\n",
       "    <tr>\n",
       "      <th>3</th>\n",
       "      <td>2019-08-04</td>\n",
       "      <td>0.030055</td>\n",
       "      <td>0.029149</td>\n",
       "      <td>-0.030138</td>\n",
       "    </tr>\n",
       "    <tr>\n",
       "      <th>4</th>\n",
       "      <td>2019-08-05</td>\n",
       "      <td>0.030139</td>\n",
       "      <td>0.029878</td>\n",
       "      <td>-0.008646</td>\n",
       "    </tr>\n",
       "  </tbody>\n",
       "</table>\n",
       "</div>"
      ],
      "text/plain": [
       "        date  conversion_a  conversion_b  relation\n",
       "0 2019-08-01      0.027816      0.028050  0.008415\n",
       "1 2019-08-02      0.028401      0.033230  0.170056\n",
       "2 2019-08-03      0.033604      0.032723 -0.026220\n",
       "3 2019-08-04      0.030055      0.029149 -0.030138\n",
       "4 2019-08-05      0.030139      0.029878 -0.008646"
      ]
     },
     "execution_count": 35,
     "metadata": {},
     "output_type": "execute_result"
    }
   ],
   "source": [
    "cum_total_conversion['relation'] = (cum_total_conversion['conversion_b']/cum_total_conversion['conversion_a'])-1\n",
    "cum_total_conversion.head()"
   ]
  },
  {
   "cell_type": "code",
   "execution_count": 36,
   "metadata": {},
   "outputs": [
    {
     "data": {
      "image/png": "[encoded data removed]",
      "text/plain": [
       "<Figure size 1080x720 with 1 Axes>"
      ]
     },
     "metadata": {
      "needs_background": "light"
     },
     "output_type": "display_data"
    }
   ],
   "source": [
    "cum_total_conversion.plot(x='date', y='relation', figsize=(15,10), grid = True, fontsize=14)\n",
    "plt.xlabel('Дата', fontsize=14)\n",
    "plt.ylabel('Относительное изменение кумулятивной конверсии', fontsize=14)\n",
    "plt.title('Изменение относительного изменения кумулятивной конверсии')\n",
    "plt.axhline(y=0, color='red', linestyle='--') \n",
    "plt.show()"
   ]
  },
  {
   "cell_type": "markdown",
   "metadata": {},
   "source": [
    "Как видно по графику, только с 3го по 5ое августа кумулятивная конверсия в группе A была выше кумулятивной конверсии в группе B. \n",
    "\n",
    "После 24го августа относительное изменение кумулятивной конверсии становится достаточно стабильным."
   ]
  },
  {
   "cell_type": "markdown",
   "metadata": {},
   "source": [
    "**Шаг 2.7.** Построим точечный график количества заказов по пользователям."
   ]
  },
  {
   "cell_type": "markdown",
   "metadata": {},
   "source": [
    "Для этого воспользуемся таблицей *orders*:"
   ]
  },
  {
   "cell_type": "code",
   "execution_count": 37,
   "metadata": {},
   "outputs": [
    {
     "data": {
      "text/html": [
       "<div>\n",
       "<style scoped>\n",
       "    .dataframe tbody tr th:only-of-type {\n",
       "        vertical-align: middle;\n",
       "    }\n",
       "\n",
       "    .dataframe tbody tr th {\n",
       "        vertical-align: top;\n",
       "    }\n",
       "\n",
       "    .dataframe thead th {\n",
       "        text-align: right;\n",
       "    }\n",
       "</style>\n",
       "<table border=\"1\" class=\"dataframe\">\n",
       "  <thead>\n",
       "    <tr style=\"text-align: right;\">\n",
       "      <th></th>\n",
       "      <th>visitorId</th>\n",
       "      <th>transactionId</th>\n",
       "    </tr>\n",
       "  </thead>\n",
       "  <tbody>\n",
       "    <tr>\n",
       "      <th>1023</th>\n",
       "      <td>4256040402</td>\n",
       "      <td>11</td>\n",
       "    </tr>\n",
       "    <tr>\n",
       "      <th>591</th>\n",
       "      <td>2458001652</td>\n",
       "      <td>11</td>\n",
       "    </tr>\n",
       "    <tr>\n",
       "      <th>569</th>\n",
       "      <td>2378935119</td>\n",
       "      <td>9</td>\n",
       "    </tr>\n",
       "    <tr>\n",
       "      <th>487</th>\n",
       "      <td>2038680547</td>\n",
       "      <td>8</td>\n",
       "    </tr>\n",
       "    <tr>\n",
       "      <th>44</th>\n",
       "      <td>199603092</td>\n",
       "      <td>5</td>\n",
       "    </tr>\n",
       "    <tr>\n",
       "      <th>744</th>\n",
       "      <td>3062433592</td>\n",
       "      <td>5</td>\n",
       "    </tr>\n",
       "    <tr>\n",
       "      <th>55</th>\n",
       "      <td>237748145</td>\n",
       "      <td>5</td>\n",
       "    </tr>\n",
       "    <tr>\n",
       "      <th>917</th>\n",
       "      <td>3803269165</td>\n",
       "      <td>5</td>\n",
       "    </tr>\n",
       "    <tr>\n",
       "      <th>299</th>\n",
       "      <td>1230306981</td>\n",
       "      <td>5</td>\n",
       "    </tr>\n",
       "    <tr>\n",
       "      <th>897</th>\n",
       "      <td>3717692402</td>\n",
       "      <td>5</td>\n",
       "    </tr>\n",
       "    <tr>\n",
       "      <th>393</th>\n",
       "      <td>1614305549</td>\n",
       "      <td>4</td>\n",
       "    </tr>\n",
       "    <tr>\n",
       "      <th>114</th>\n",
       "      <td>457167155</td>\n",
       "      <td>4</td>\n",
       "    </tr>\n",
       "    <tr>\n",
       "      <th>619</th>\n",
       "      <td>2587333274</td>\n",
       "      <td>4</td>\n",
       "    </tr>\n",
       "    <tr>\n",
       "      <th>340</th>\n",
       "      <td>1404934699</td>\n",
       "      <td>3</td>\n",
       "    </tr>\n",
       "    <tr>\n",
       "      <th>937</th>\n",
       "      <td>3908431265</td>\n",
       "      <td>3</td>\n",
       "    </tr>\n",
       "    <tr>\n",
       "      <th>726</th>\n",
       "      <td>2988190573</td>\n",
       "      <td>3</td>\n",
       "    </tr>\n",
       "    <tr>\n",
       "      <th>97</th>\n",
       "      <td>393266494</td>\n",
       "      <td>3</td>\n",
       "    </tr>\n",
       "    <tr>\n",
       "      <th>491</th>\n",
       "      <td>2044997962</td>\n",
       "      <td>3</td>\n",
       "    </tr>\n",
       "    <tr>\n",
       "      <th>677</th>\n",
       "      <td>2780786433</td>\n",
       "      <td>3</td>\n",
       "    </tr>\n",
       "    <tr>\n",
       "      <th>932</th>\n",
       "      <td>3891541246</td>\n",
       "      <td>3</td>\n",
       "    </tr>\n",
       "  </tbody>\n",
       "</table>\n",
       "</div>"
      ],
      "text/plain": [
       "       visitorId  transactionId\n",
       "1023  4256040402             11\n",
       "591   2458001652             11\n",
       "569   2378935119              9\n",
       "487   2038680547              8\n",
       "44     199603092              5\n",
       "744   3062433592              5\n",
       "55     237748145              5\n",
       "917   3803269165              5\n",
       "299   1230306981              5\n",
       "897   3717692402              5\n",
       "393   1614305549              4\n",
       "114    457167155              4\n",
       "619   2587333274              4\n",
       "340   1404934699              3\n",
       "937   3908431265              3\n",
       "726   2988190573              3\n",
       "97     393266494              3\n",
       "491   2044997962              3\n",
       "677   2780786433              3\n",
       "932   3891541246              3"
      ]
     },
     "execution_count": 37,
     "metadata": {},
     "output_type": "execute_result"
    }
   ],
   "source": [
    "orders_by_users = orders.groupby('visitorId', as_index = False).agg({'transactionId': 'nunique'})\n",
    "orders_by_users.sort_values(by='transactionId', ascending=False).head(20)"
   ]
  },
  {
   "cell_type": "markdown",
   "metadata": {},
   "source": [
    "Судя по таблице, у нас есть 2 пользователя с 11 заказами, по одному пользователю с 9 и 8 заказами и по несколько пользователей с 5 и 4 заказами.\n",
    "\n",
    "Это очень необычно, поскольку за месяц сделать так много заказов может очень малое количество клиентов. \n",
    "\n",
    "Визуализируем это с помощью гистограммы, а затем и с помощью точечной диаграммы."
   ]
  },
  {
   "cell_type": "code",
   "execution_count": 38,
   "metadata": {},
   "outputs": [
    {
     "data": {
      "image/png": "[encoded data removed]",
      "text/plain": [
       "<Figure size 720x360 with 1 Axes>"
      ]
     },
     "metadata": {
      "needs_background": "light"
     },
     "output_type": "display_data"
    }
   ],
   "source": [
    "orders_by_users['transactionId'].hist(figsize=(10,5))\n",
    "plt.show()"
   ]
  },
  {
   "cell_type": "code",
   "execution_count": 39,
   "metadata": {},
   "outputs": [
    {
     "data": {
      "image/png": "[encoded data removed]",
      "text/plain": [
       "<Figure size 720x360 with 1 Axes>"
      ]
     },
     "metadata": {
      "needs_background": "light"
     },
     "output_type": "display_data"
    }
   ],
   "source": [
    "orders_by_users.plot(x='visitorId', y='transactionId', kind='scatter', grid=True, figsize=(10,5))\n",
    "plt.xlabel('ID посетителя')\n",
    "plt.ylabel('Число заказов')\n",
    "plt.show()"
   ]
  },
  {
   "cell_type": "markdown",
   "metadata": {},
   "source": [
    "Как видно по гистограмме и точечному графику, основная часть пользователей совершила от одного до двух заказов за месяц; от трех и свыше - гораздо меньшая часть. \n",
    "\n",
    "На следующем шаге выберем границу определения аномальных пользователей."
   ]
  },
  {
   "cell_type": "markdown",
   "metadata": {},
   "source": [
    "**Шаг 2.8.** Посчитаем 95-й и 99-й перцентили количества заказов на пользователя для определения \"границы аномальности\"."
   ]
  },
  {
   "cell_type": "code",
   "execution_count": 40,
   "metadata": {},
   "outputs": [
    {
     "name": "stdout",
     "output_type": "stream",
     "text": [
      "[2. 4.]\n"
     ]
    }
   ],
   "source": [
    "print(np.percentile(orders_by_users['transactionId'], [95, 99]))"
   ]
  },
  {
   "cell_type": "markdown",
   "metadata": {},
   "source": [
    "**Менее 1%** пользователей совершили **от 4 заказов и больше**.\n",
    "\n",
    "**Менее 5%** пользователей совершили **больше 2 заказов**.\n",
    "\n",
    "Таким образом будем считать, что все пользователи, которые совершили **от 3 заказов и больше**, являются \"аномальными\"."
   ]
  },
  {
   "cell_type": "markdown",
   "metadata": {},
   "source": [
    "**Шаг 2.9.** Построим точечный график стоимостей заказов."
   ]
  },
  {
   "cell_type": "markdown",
   "metadata": {},
   "source": [
    "Также можно представить еще и гистограмму распределения стоимостей заказов."
   ]
  },
  {
   "cell_type": "code",
   "execution_count": 41,
   "metadata": {},
   "outputs": [
    {
     "data": {
      "image/png": "[encoded data removed]",
      "text/plain": [
       "<Figure size 864x432 with 1 Axes>"
      ]
     },
     "metadata": {
      "needs_background": "light"
     },
     "output_type": "display_data"
    }
   ],
   "source": [
    "orders['revenue'].hist(figsize=(12,6))\n",
    "plt.show()"
   ]
  },
  {
   "cell_type": "markdown",
   "metadata": {},
   "source": [
    "В таком виде невозможно понять, как примерно распределены стоимости заказов, поскольку мы явно имеем выбросы. Изменим масштаб:"
   ]
  },
  {
   "cell_type": "code",
   "execution_count": 42,
   "metadata": {},
   "outputs": [
    {
     "data": {
      "image/png": "[encoded data removed]",
      "text/plain": [
       "<Figure size 864x432 with 1 Axes>"
      ]
     },
     "metadata": {
      "needs_background": "light"
     },
     "output_type": "display_data"
    }
   ],
   "source": [
    "orders['revenue'].hist(figsize=(12,6), range=(0,200000))\n",
    "plt.show()"
   ]
  },
  {
   "cell_type": "markdown",
   "metadata": {},
   "source": [
    "Теперь картина более ясная - основная часть заказов по стоимости не превышает 50000. Рассмотрим теперь распределение стоимостей заказов на точечной диаграмме. "
   ]
  },
  {
   "cell_type": "code",
   "execution_count": 43,
   "metadata": {},
   "outputs": [
    {
     "data": {
      "image/png": "[encoded data removed]",
      "text/plain": [
       "<Figure size 864x432 with 1 Axes>"
      ]
     },
     "metadata": {
      "needs_background": "light"
     },
     "output_type": "display_data"
    }
   ],
   "source": [
    "orders.plot(x='visitorId', y='revenue', kind='scatter', grid=True, figsize=(12,6))\n",
    "plt.xlabel('ID посетителя')\n",
    "plt.ylabel('Стоимость заказа')\n",
    "plt.show()"
   ]
  },
  {
   "cell_type": "markdown",
   "metadata": {},
   "source": [
    "Мы имеем следующие наиболее заметные выбросы:\n",
    "\n",
    "1. Превышающий 1,2 млн;\n",
    "2. Около 200000.\n",
    "\n",
    "Ещё посмотрим на точечную диаграмму в другом масштабе:"
   ]
  },
  {
   "cell_type": "code",
   "execution_count": 44,
   "metadata": {},
   "outputs": [
    {
     "data": {
      "image/png": "[encoded data removed]",
      "text/plain": [
       "<Figure size 864x432 with 1 Axes>"
      ]
     },
     "metadata": {
      "needs_background": "light"
     },
     "output_type": "display_data"
    }
   ],
   "source": [
    "orders.plot(x='visitorId', y='revenue', kind='scatter', grid=True, figsize=(12,6))\n",
    "plt.xlabel('ID посетителя')\n",
    "plt.ylabel('Стоимость заказа')\n",
    "plt.ylim(0,100000)\n",
    "plt.show()"
   ]
  },
  {
   "cell_type": "markdown",
   "metadata": {},
   "source": [
    "При более подробном рассмотрении можно отметить, что основная часть заказов по стоимости не превышает 20000.\n",
    "\n",
    "На следующем шаге определим \"границу аномальности стоимости заказа\"."
   ]
  },
  {
   "cell_type": "markdown",
   "metadata": {},
   "source": [
    "**Шаг 2.10.** Посчитаем 95-й и 99-й перцентили стоимости заказов для выбора границы определения аномальных заказов."
   ]
  },
  {
   "cell_type": "code",
   "execution_count": 45,
   "metadata": {},
   "outputs": [
    {
     "name": "stdout",
     "output_type": "stream",
     "text": [
      "[28000.  58233.2]\n"
     ]
    }
   ],
   "source": [
    "print(np.percentile(orders['revenue'], [95, 99]))"
   ]
  },
  {
   "cell_type": "markdown",
   "metadata": {},
   "source": [
    "**Менее 1%** пользователей совершили заказ, стоимость которого **превышает 58233.2**.\n",
    "\n",
    "**Менее 5%** пользователей совершили заказ, стоимость которого **больше 28000**.\n",
    "\n",
    "Таким образом будем считать, что стоимость заказа **больше 28000 является аномальной**."
   ]
  },
  {
   "cell_type": "markdown",
   "metadata": {},
   "source": [
    "**Шаг 2.11.** Посчитаем статистическую значимость различий в конверсии между группами по \"сырым\" данным."
   ]
  },
  {
   "cell_type": "markdown",
   "metadata": {},
   "source": [
    "На этом шаге и последующих для определения статистической значимости различий в конверсии или в среднем чеке заказа между группами будет использоваться **Непараметрический тест Уилкоксона-Манна-Уитни**, поскольку в представленных данных имеются выбросы, а данный тест использует ранжирование значений."
   ]
  },
  {
   "cell_type": "markdown",
   "metadata": {},
   "source": [
    "Сформулируем нулевую и альтернативную гипотезы:\n",
    "\n",
    "* H0 - конверсии в группах А и В по \"сырым\" данным равны;\n",
    "* H1 - конверсии в группах А и В по \"сырым\" данным отличаются."
   ]
  },
  {
   "cell_type": "markdown",
   "metadata": {},
   "source": [
    "Соберем все необходимые данные для анализа:"
   ]
  },
  {
   "cell_type": "code",
   "execution_count": 46,
   "metadata": {
    "scrolled": true
   },
   "outputs": [
    {
     "data": {
      "text/html": [
       "<div>\n",
       "<style scoped>\n",
       "    .dataframe tbody tr th:only-of-type {\n",
       "        vertical-align: middle;\n",
       "    }\n",
       "\n",
       "    .dataframe tbody tr th {\n",
       "        vertical-align: top;\n",
       "    }\n",
       "\n",
       "    .dataframe thead th {\n",
       "        text-align: right;\n",
       "    }\n",
       "</style>\n",
       "<table border=\"1\" class=\"dataframe\">\n",
       "  <thead>\n",
       "    <tr style=\"text-align: right;\">\n",
       "      <th></th>\n",
       "      <th>date</th>\n",
       "      <th>orders_a</th>\n",
       "      <th>revenue_a</th>\n",
       "      <th>orders_b</th>\n",
       "      <th>revenue_b</th>\n",
       "      <th>orders_cum_a</th>\n",
       "      <th>revenue_cum_a</th>\n",
       "      <th>orders_cum_b</th>\n",
       "      <th>revenue_cum_b</th>\n",
       "      <th>visitors_a</th>\n",
       "      <th>visitors_b</th>\n",
       "      <th>visitors_cum_a</th>\n",
       "      <th>visitors_cum_b</th>\n",
       "    </tr>\n",
       "  </thead>\n",
       "  <tbody>\n",
       "    <tr>\n",
       "      <th>0</th>\n",
       "      <td>2019-08-01</td>\n",
       "      <td>24</td>\n",
       "      <td>148579</td>\n",
       "      <td>21</td>\n",
       "      <td>101217</td>\n",
       "      <td>24</td>\n",
       "      <td>148579</td>\n",
       "      <td>21</td>\n",
       "      <td>101217</td>\n",
       "      <td>719</td>\n",
       "      <td>713</td>\n",
       "      <td>719</td>\n",
       "      <td>713</td>\n",
       "    </tr>\n",
       "    <tr>\n",
       "      <th>1</th>\n",
       "      <td>2019-08-02</td>\n",
       "      <td>20</td>\n",
       "      <td>93822</td>\n",
       "      <td>24</td>\n",
       "      <td>165531</td>\n",
       "      <td>44</td>\n",
       "      <td>242401</td>\n",
       "      <td>45</td>\n",
       "      <td>266748</td>\n",
       "      <td>619</td>\n",
       "      <td>581</td>\n",
       "      <td>1338</td>\n",
       "      <td>1294</td>\n",
       "    </tr>\n",
       "    <tr>\n",
       "      <th>2</th>\n",
       "      <td>2019-08-03</td>\n",
       "      <td>24</td>\n",
       "      <td>112473</td>\n",
       "      <td>16</td>\n",
       "      <td>114248</td>\n",
       "      <td>68</td>\n",
       "      <td>354874</td>\n",
       "      <td>61</td>\n",
       "      <td>380996</td>\n",
       "      <td>507</td>\n",
       "      <td>509</td>\n",
       "      <td>1845</td>\n",
       "      <td>1803</td>\n",
       "    </tr>\n",
       "    <tr>\n",
       "      <th>3</th>\n",
       "      <td>2019-08-04</td>\n",
       "      <td>16</td>\n",
       "      <td>70825</td>\n",
       "      <td>17</td>\n",
       "      <td>108571</td>\n",
       "      <td>84</td>\n",
       "      <td>425699</td>\n",
       "      <td>78</td>\n",
       "      <td>489567</td>\n",
       "      <td>717</td>\n",
       "      <td>770</td>\n",
       "      <td>2562</td>\n",
       "      <td>2573</td>\n",
       "    </tr>\n",
       "    <tr>\n",
       "      <th>4</th>\n",
       "      <td>2019-08-05</td>\n",
       "      <td>25</td>\n",
       "      <td>124218</td>\n",
       "      <td>23</td>\n",
       "      <td>92428</td>\n",
       "      <td>109</td>\n",
       "      <td>549917</td>\n",
       "      <td>101</td>\n",
       "      <td>581995</td>\n",
       "      <td>756</td>\n",
       "      <td>707</td>\n",
       "      <td>3318</td>\n",
       "      <td>3280</td>\n",
       "    </tr>\n",
       "  </tbody>\n",
       "</table>\n",
       "</div>"
      ],
      "text/plain": [
       "        date  orders_a  revenue_a  orders_b  revenue_b  orders_cum_a  \\\n",
       "0 2019-08-01        24     148579        21     101217            24   \n",
       "1 2019-08-02        20      93822        24     165531            44   \n",
       "2 2019-08-03        24     112473        16     114248            68   \n",
       "3 2019-08-04        16      70825        17     108571            84   \n",
       "4 2019-08-05        25     124218        23      92428           109   \n",
       "\n",
       "   revenue_cum_a  orders_cum_b  revenue_cum_b  visitors_a  visitors_b  \\\n",
       "0         148579            21         101217         719         713   \n",
       "1         242401            45         266748         619         581   \n",
       "2         354874            61         380996         507         509   \n",
       "3         425699            78         489567         717         770   \n",
       "4         549917           101         581995         756         707   \n",
       "\n",
       "   visitors_cum_a  visitors_cum_b  \n",
       "0             719             713  \n",
       "1            1338            1294  \n",
       "2            1845            1803  \n",
       "3            2562            2573  \n",
       "4            3318            3280  "
      ]
     },
     "execution_count": 46,
     "metadata": {},
     "output_type": "execute_result"
    }
   ],
   "source": [
    "visitors_a = visitors[visitors['group'] == 'A'][['date', 'visitors']]\n",
    "visitors_a.columns = ['date', 'visitors_a']\n",
    "\n",
    "visitors_cum_a = visitors_a.apply(lambda x: visitors_a[visitors_a['date'] <= x['date']].agg({'date':'max','visitors_a':'sum'}), axis=1,)\n",
    "visitors_cum_a.columns = ['date', 'visitors_cum_a']\n",
    "\n",
    "visitors_b = visitors[visitors['group'] == 'B'][['date', 'visitors']]\n",
    "visitors_b.columns = ['date', 'visitors_b']\n",
    "\n",
    "visitors_cum_b = visitors_b.apply(lambda x: visitors_b[visitors_b['date'] <= x['date']].agg({'date':'max','visitors_b':'sum'}), axis=1,)\n",
    "visitors_cum_b.columns = ['date', 'visitors_cum_b']\n",
    "\n",
    "orders_a = (orders[orders['group'] == 'A'][['date', 'transactionId', 'visitorId', 'revenue']].groupby('date', as_index=False).agg({'transactionId': pd.Series.nunique, 'revenue': 'sum'}))\n",
    "orders_a.columns = ['date', 'orders_a', 'revenue_a']\n",
    "\n",
    "orders_cum_a = orders_a.apply(lambda x: orders_a[orders_a['date'] <= x['date']].agg({'date': 'max', 'orders_a': 'sum', 'revenue_a': 'sum'}), axis=1,).sort_values(by=['date'])\n",
    "orders_cum_a.columns = ['date','orders_cum_a','revenue_cum_a']\n",
    "\n",
    "orders_b = (orders[orders['group'] == 'B'][['date', 'transactionId', 'visitorId', 'revenue']].groupby('date', as_index=False).agg({'transactionId': pd.Series.nunique, 'revenue': 'sum'}))\n",
    "orders_b.columns = ['date', 'orders_b', 'revenue_b']\n",
    "\n",
    "orders_cum_b = orders_b.apply(lambda x: orders_b[orders_b['date'] <= x['date']].agg({'date': 'max', 'orders_b': 'sum', 'revenue_b': 'sum'}), axis=1,).sort_values(by=['date'])\n",
    "orders_cum_b.columns = ['date','orders_cum_b','revenue_cum_b']\n",
    "\n",
    "full_data = (orders_a.merge(orders_b, left_on='date', right_on='date', how='left')\n",
    "    .merge(orders_cum_a, left_on='date', right_on='date', how='left')\n",
    "    .merge(orders_cum_b, left_on='date', right_on='date', how='left')\n",
    "    .merge(visitors_a, left_on='date', right_on='date', how='left')\n",
    "    .merge(visitors_b, left_on='date', right_on='date', how='left')\n",
    "    .merge(visitors_cum_a, left_on='date', right_on='date', how='left')\n",
    "    .merge(visitors_cum_b, left_on='date', right_on='date', how='left'))\n",
    "\n",
    "full_data.head()"
   ]
  },
  {
   "cell_type": "code",
   "execution_count": 47,
   "metadata": {},
   "outputs": [
    {
     "name": "stdout",
     "output_type": "stream",
     "text": [
      "p-value по \"сырым\" данным равно 0.017\n",
      "Отвергаем нулевую гипотезу\n"
     ]
    }
   ],
   "source": [
    "orders_by_visitors_a = (orders[orders['group'] == 'A'].groupby('visitorId', as_index=False).agg({'transactionId': pd.Series.nunique}))\n",
    "orders_by_visitors_a.columns = ['userId', 'orders']\n",
    "\n",
    "orders_by_visitors_b = (orders[orders['group'] == 'B'].groupby('visitorId', as_index=False).agg({'transactionId': pd.Series.nunique}))\n",
    "orders_by_visitors_b.columns = ['userId', 'orders']\n",
    "\n",
    "# Объявим переменные sample_a и sample_b, в которых пользователям из разных групп будет соответствовать количество заказов\n",
    "\n",
    "sample_a = pd.concat([orders_by_visitors_a['orders'], pd.Series(0, index=np.arange(\n",
    "                full_data['visitors_a'].sum() - len(orders_by_visitors_a['orders'])\n",
    "            ),\n",
    "            name='orders',\n",
    "        ),\n",
    "    ],\n",
    "    axis=0,\n",
    ")\n",
    "\n",
    "sample_b = pd.concat([orders_by_visitors_b['orders'], pd.Series(0, index=np.arange(\n",
    "                full_data['visitors_b'].sum() - len(orders_by_visitors_b['orders'])\n",
    "            ),\n",
    "            name='orders',\n",
    "        ),\n",
    "    ],\n",
    "    axis=0,\n",
    ")\n",
    "\n",
    "# порог статистической значимости - 5%\n",
    "alpha = .05\n",
    "p_value_full = stats.mannwhitneyu(sample_a, sample_b)[1]\n",
    "print('p-value по \"сырым\" данным равно', \"{0:.3f}\".format(p_value_full))\n",
    "if (p_value_full < alpha):\n",
    "    print(\"Отвергаем нулевую гипотезу\")\n",
    "else:\n",
    "    print(\"Не получилось отвергнуть нулевую гипотезу\")"
   ]
  },
  {
   "cell_type": "markdown",
   "metadata": {},
   "source": [
    "P-value по \"сырым\" данным меньше 5 %, поэтому отвергаем нулевую гипотезу \"конверсии в группах А и В по \"сырым\" данным равны\"."
   ]
  },
  {
   "cell_type": "markdown",
   "metadata": {},
   "source": [
    "**Шаг 2.12.** Посчитаем статистическую значимость различий в среднем чеке заказа между группами по \"сырым\" данным."
   ]
  },
  {
   "cell_type": "markdown",
   "metadata": {},
   "source": [
    "Сформулируем нулевую и альтернативную гипотезы:\n",
    "\n",
    "* H0 - средние чеки в группах А и В по \"сырым\" данным равны;\n",
    "* H1 - средние чеки в группах А и В по \"сырым\" данным отличаются."
   ]
  },
  {
   "cell_type": "markdown",
   "metadata": {},
   "source": [
    "Воспользуемся данными, полученными на предыдущем шаге:"
   ]
  },
  {
   "cell_type": "code",
   "execution_count": 48,
   "metadata": {},
   "outputs": [
    {
     "name": "stdout",
     "output_type": "stream",
     "text": [
      "p-value по \"сырым\" данным равно 0.729\n",
      "Не получилось отвергнуть нулевую гипотезу\n"
     ]
    }
   ],
   "source": [
    "# порог статистической значимости - 5%\n",
    "alpha = .05\n",
    "p_value_full_check = stats.mannwhitneyu(orders[orders['group']=='A']['revenue'], orders[orders['group']=='B']['revenue'])[1]\n",
    "print('p-value по \"сырым\" данным равно', \"{0:.3f}\".format(p_value_full_check))\n",
    "if (p_value_full_check < alpha):\n",
    "    print(\"Отвергаем нулевую гипотезу\")\n",
    "else:\n",
    "    print(\"Не получилось отвергнуть нулевую гипотезу\")"
   ]
  },
  {
   "cell_type": "markdown",
   "metadata": {},
   "source": [
    "P-value по \"сырым\" данным значительно больше 5 %, поэтому нулевую гипотезу отвергнуть не можем."
   ]
  },
  {
   "cell_type": "markdown",
   "metadata": {},
   "source": [
    "**Шаг 2.13.** Посчитаем статистическую значимость различий в конверсии между группами по \"очищенным\" данным."
   ]
  },
  {
   "cell_type": "markdown",
   "metadata": {},
   "source": [
    "Ранее на предыдущих шагах мы приняли, что пользователи, оформившие заказ более 2 раз или стоимостью свыше 28000, являются аномальными. Поэтому на следующих шагах исключим их из анализа и проверим, как изменятся результаты теста."
   ]
  },
  {
   "cell_type": "markdown",
   "metadata": {},
   "source": [
    "Сформулируем нулевую и альтернативную гипотезы:\n",
    "\n",
    "* H0 - конверсии в группах А и В по \"очищенным\" данным равны;\n",
    "* H1 - конверсии в группах А и В по \"очищенным\" данным отличаются."
   ]
  },
  {
   "cell_type": "markdown",
   "metadata": {},
   "source": [
    "Определим сначала, сколько пользователей оказались \"аномальными\":"
   ]
  },
  {
   "cell_type": "code",
   "execution_count": 49,
   "metadata": {},
   "outputs": [
    {
     "data": {
      "text/plain": [
       "1099    148427295\n",
       "18      199603092\n",
       "928     204675465\n",
       "23      237748145\n",
       "37      249864742\n",
       "684     358944393\n",
       "648     382846391\n",
       "1189    393266494\n",
       "68      457167155\n",
       "68      611059232\n",
       "dtype: int64"
      ]
     },
     "execution_count": 49,
     "metadata": {},
     "output_type": "execute_result"
    }
   ],
   "source": [
    "users_anomaly = pd.concat(\n",
    "    [\n",
    "        orders_by_visitors_a[orders_by_visitors_a['orders'] > 2]['userId'],\n",
    "        orders_by_visitors_b[orders_by_visitors_b['orders'] > 2]['userId'],\n",
    "    ],\n",
    "    axis=0,\n",
    ")\n",
    "expensive_orders = orders[orders['revenue'] > 28000]['visitorId']\n",
    "abnormal_users = (\n",
    "    pd.concat([users_anomaly, expensive_orders], axis=0)\n",
    "    .drop_duplicates()\n",
    "    .sort_values()\n",
    ")\n",
    "abnormal_users.head(10)"
   ]
  },
  {
   "cell_type": "code",
   "execution_count": 50,
   "metadata": {},
   "outputs": [
    {
     "data": {
      "text/plain": [
       "74"
      ]
     },
     "execution_count": 50,
     "metadata": {},
     "output_type": "execute_result"
    }
   ],
   "source": [
    "abnormal_users.shape[0]"
   ]
  },
  {
   "cell_type": "markdown",
   "metadata": {},
   "source": [
    "\"Аномальными\" оказались **74 пользователя**. Они будут исключены из дальнейшего анализа."
   ]
  },
  {
   "cell_type": "code",
   "execution_count": 51,
   "metadata": {},
   "outputs": [
    {
     "name": "stdout",
     "output_type": "stream",
     "text": [
      "p-value по \"очищенным\" данным равно 0.013\n",
      "Отвергаем нулевую гипотезу\n"
     ]
    }
   ],
   "source": [
    "# Объявим переменные sample_a_filt и sample_b_filt,\n",
    "# в которых \"отфильтрованным\" пользователям из разных групп будет соответствовать количество заказов\n",
    "\n",
    "sample_a_filt = pd.concat([orders_by_visitors_a[\n",
    "            np.logical_not(orders_by_visitors_a['userId'].isin(abnormal_users))\n",
    "        ]['orders'],\n",
    "        pd.Series(\n",
    "            0,\n",
    "            index=np.arange(\n",
    "                full_data['visitors_a'].sum() - len(orders_by_visitors_a['orders'])\n",
    "            ),\n",
    "            name='orders',\n",
    "        ),\n",
    "    ],\n",
    "    axis=0,\n",
    ")\n",
    "\n",
    "sample_b_filt = pd.concat([orders_by_visitors_b[\n",
    "            np.logical_not(orders_by_visitors_b['userId'].isin(abnormal_users))\n",
    "        ]['orders'],\n",
    "        pd.Series(\n",
    "            0,\n",
    "            index=np.arange(\n",
    "                full_data['visitors_b'].sum() - len(orders_by_visitors_b['orders'])\n",
    "            ),\n",
    "            name='orders',\n",
    "        ),\n",
    "    ],\n",
    "    axis=0,\n",
    ")\n",
    "\n",
    "# порог статистической значимости - 5%\n",
    "alpha = .05\n",
    "p_value_filt = stats.mannwhitneyu(sample_a_filt, sample_b_filt)[1]\n",
    "print('p-value по \"очищенным\" данным равно', \"{0:.3f}\".format(p_value_filt))\n",
    "if (p_value_filt < alpha):\n",
    "    print(\"Отвергаем нулевую гипотезу\")\n",
    "else:\n",
    "    print(\"Не получилось отвергнуть нулевую гипотезу\")"
   ]
  },
  {
   "cell_type": "markdown",
   "metadata": {},
   "source": [
    "Как и для \"сырых\" данных, так и для \"очищенных\" данных в данном случае нулевая гипотеза отвергается."
   ]
  },
  {
   "cell_type": "markdown",
   "metadata": {},
   "source": [
    "**Шаг 2.14.** Посчитаем статистическую значимость различий в среднем чеке заказа между группами по \"очищенным\" данным."
   ]
  },
  {
   "cell_type": "markdown",
   "metadata": {},
   "source": [
    "Сформулируем нулевую и альтернативную гипотезы:\n",
    "\n",
    "* H0 - средние чеки в группах А и В по \"очищенным\" данным равны;\n",
    "* H1 - средние чеки в группах А и В по \"очищенным\" данным отличаются."
   ]
  },
  {
   "cell_type": "markdown",
   "metadata": {},
   "source": [
    "Также воспользуемся данными, полученными на предыдущем шаге:"
   ]
  },
  {
   "cell_type": "code",
   "execution_count": 52,
   "metadata": {},
   "outputs": [
    {
     "name": "stdout",
     "output_type": "stream",
     "text": [
      "p-value по \"очищенным\" данным равно 0.738\n",
      "Не получилось отвергнуть нулевую гипотезу\n"
     ]
    }
   ],
   "source": [
    "# порог статистической значимости - 5%\n",
    "alpha = .05\n",
    "p_value_check_filt = stats.mannwhitneyu(\n",
    "            orders[\n",
    "                np.logical_and(\n",
    "                    orders['group'] == 'A',\n",
    "                    np.logical_not(orders['visitorId'].isin(abnormal_users)),\n",
    "                )\n",
    "            ]['revenue'],\n",
    "            orders[\n",
    "                np.logical_and(\n",
    "                    orders['group'] == 'B',\n",
    "                    np.logical_not(orders['visitorId'].isin(abnormal_users)),\n",
    "                )\n",
    "            ]['revenue'],\n",
    "        )[1]\n",
    "print('p-value по \"очищенным\" данным равно', \"{0:.3f}\".format(p_value_check_filt))\n",
    "if (p_value_check_filt < alpha):\n",
    "    print(\"Отвергаем нулевую гипотезу\")\n",
    "else:\n",
    "    print(\"Не получилось отвергнуть нулевую гипотезу\")"
   ]
  },
  {
   "cell_type": "markdown",
   "metadata": {},
   "source": [
    "По \"очищенным\" данным нам тоже не удалось отвергнуть нулевую гипотезу, как и в случае с \"сырыми\" данными для средних чеков."
   ]
  },
  {
   "cell_type": "markdown",
   "metadata": {},
   "source": [
    "**Шаг 2.15.** Решение по результатам теста."
   ]
  },
  {
   "cell_type": "markdown",
   "metadata": {},
   "source": [
    "В результате проведения теста получено следующее:\n",
    "\n",
    "1. Статистическая значимость различий в конверсии между группами по \"сырым\" и \"очищенным\" данным **присутствует**.\n",
    "2. Статистическая значимость различий в среднем чеке заказа между группами по \"сырым\" и \"очищенным\" данным **отсутствует**.\n",
    "\n",
    "Таким образом, можно завершать A/B-тест.\n",
    "\n",
    "В **группе B** кумулятивная конверсия получилась заметно выше, чем в группе A, к тому же имеется статистическая значимость различий в конверсии между этими группами. И в то же время нет статистической значимости различий в среднем чеке заказа между этими группами.\n",
    "\n",
    "Конечный вывод - **результаты группы B лучше результатов группы A**."
   ]
  },
  {
   "cell_type": "markdown",
   "metadata": {},
   "source": [
    "# Вывод\n",
    "\n",
    "В ходе выполнения проекта было выполнено следующее:\n",
    "\n",
    "1. Проведена приоритизация гипотез, направленных на увеличение выручки интернет-магазина. Наивысший приоритет получила гипотеза \"Добавить форму подписки на все основные страницы, чтобы собрать базу клиентов для email-рассылок\".\n",
    "2. Проведен анализ результатов A/B-теста:\n",
    "- определено изменение конверсий и средних чеков по группам в течение месяца;\n",
    "- выявлены \"аномальные\" покупатели и стоимости заказов;\n",
    "- определено наличие статистической значимости различий в конверсии между группами;\n",
    "- определено отсутствие статистической значимости различий в среднем чеке заказа между группами.\n",
    "3. Группа B определена \"победителем\" по результатам A/B-теста.\n"
   ]
  }
 ],
 "metadata": {
  "ExecuteTimeLog": [
   {
    "duration": 1257,
    "start_time": "2022-09-07T07:36:18.412Z"
   },
   {
    "duration": 133,
    "start_time": "2022-09-07T07:37:29.920Z"
   },
   {
    "duration": 28,
    "start_time": "2022-09-07T07:40:12.523Z"
   },
   {
    "duration": 33,
    "start_time": "2022-09-07T07:40:21.711Z"
   },
   {
    "duration": 36,
    "start_time": "2022-09-07T07:40:42.372Z"
   },
   {
    "duration": 34,
    "start_time": "2022-09-07T07:41:27.721Z"
   },
   {
    "duration": 46,
    "start_time": "2022-09-07T07:41:37.233Z"
   },
   {
    "duration": 1076,
    "start_time": "2022-09-07T07:41:45.186Z"
   },
   {
    "duration": 90,
    "start_time": "2022-09-07T07:41:46.264Z"
   },
   {
    "duration": 7,
    "start_time": "2022-09-07T07:42:27.535Z"
   },
   {
    "duration": 8,
    "start_time": "2022-09-07T07:49:59.197Z"
   },
   {
    "duration": 8,
    "start_time": "2022-09-07T07:51:44.727Z"
   },
   {
    "duration": 12,
    "start_time": "2022-09-07T07:54:20.726Z"
   },
   {
    "duration": 9,
    "start_time": "2022-09-07T07:55:17.406Z"
   },
   {
    "duration": 11,
    "start_time": "2022-09-07T07:57:24.365Z"
   },
   {
    "duration": 11,
    "start_time": "2022-09-07T07:58:06.246Z"
   },
   {
    "duration": 11,
    "start_time": "2022-09-07T07:58:18.192Z"
   },
   {
    "duration": 9,
    "start_time": "2022-09-07T07:58:34.613Z"
   },
   {
    "duration": 14,
    "start_time": "2022-09-07T08:00:07.175Z"
   },
   {
    "duration": 11,
    "start_time": "2022-09-07T08:00:23.928Z"
   },
   {
    "duration": 11,
    "start_time": "2022-09-07T08:00:29.094Z"
   },
   {
    "duration": 12,
    "start_time": "2022-09-07T08:02:16.250Z"
   },
   {
    "duration": 1011,
    "start_time": "2022-09-07T08:02:22.299Z"
   },
   {
    "duration": 69,
    "start_time": "2022-09-07T08:02:23.312Z"
   },
   {
    "duration": 25,
    "start_time": "2022-09-07T08:02:23.384Z"
   },
   {
    "duration": 18,
    "start_time": "2022-09-07T08:02:23.411Z"
   },
   {
    "duration": 15,
    "start_time": "2022-09-07T08:02:23.432Z"
   },
   {
    "duration": 12,
    "start_time": "2022-09-07T08:05:25.086Z"
   },
   {
    "duration": 151,
    "start_time": "2022-09-07T08:33:20.435Z"
   },
   {
    "duration": 7,
    "start_time": "2022-09-07T08:33:31.883Z"
   },
   {
    "duration": 11,
    "start_time": "2022-09-07T08:33:44.262Z"
   },
   {
    "duration": 7,
    "start_time": "2022-09-07T08:34:12.075Z"
   },
   {
    "duration": 10,
    "start_time": "2022-09-07T08:34:20.825Z"
   },
   {
    "duration": 105,
    "start_time": "2022-09-07T08:37:05.083Z"
   },
   {
    "duration": 512,
    "start_time": "2022-09-07T08:38:14.072Z"
   },
   {
    "duration": 6,
    "start_time": "2022-09-07T08:38:44.363Z"
   },
   {
    "duration": 11,
    "start_time": "2022-09-07T08:38:48.493Z"
   },
   {
    "duration": 9,
    "start_time": "2022-09-07T08:38:58.885Z"
   },
   {
    "duration": 6,
    "start_time": "2022-09-07T08:40:43.082Z"
   },
   {
    "duration": 6,
    "start_time": "2022-09-07T08:41:32.405Z"
   },
   {
    "duration": 1017,
    "start_time": "2022-09-07T08:41:47.331Z"
   },
   {
    "duration": 93,
    "start_time": "2022-09-07T08:41:48.350Z"
   },
   {
    "duration": 8,
    "start_time": "2022-09-07T08:41:48.444Z"
   },
   {
    "duration": 20,
    "start_time": "2022-09-07T08:41:48.453Z"
   },
   {
    "duration": 10,
    "start_time": "2022-09-07T08:41:48.475Z"
   },
   {
    "duration": 75,
    "start_time": "2022-09-07T08:41:48.487Z"
   },
   {
    "duration": 9,
    "start_time": "2022-09-07T08:41:48.563Z"
   },
   {
    "duration": 18,
    "start_time": "2022-09-07T08:41:48.574Z"
   },
   {
    "duration": 9,
    "start_time": "2022-09-07T08:41:48.594Z"
   },
   {
    "duration": 20,
    "start_time": "2022-09-07T08:41:48.604Z"
   },
   {
    "duration": 16,
    "start_time": "2022-09-07T08:41:48.627Z"
   },
   {
    "duration": 13,
    "start_time": "2022-09-07T08:41:48.644Z"
   },
   {
    "duration": 12,
    "start_time": "2022-09-07T08:41:48.658Z"
   },
   {
    "duration": 8,
    "start_time": "2022-09-07T08:41:48.672Z"
   },
   {
    "duration": 5,
    "start_time": "2022-09-07T08:41:48.681Z"
   },
   {
    "duration": 45,
    "start_time": "2022-09-07T10:41:41.926Z"
   },
   {
    "duration": 1189,
    "start_time": "2022-09-07T10:42:43.792Z"
   },
   {
    "duration": 135,
    "start_time": "2022-09-07T10:42:44.983Z"
   },
   {
    "duration": 9,
    "start_time": "2022-09-07T10:42:45.119Z"
   },
   {
    "duration": 42,
    "start_time": "2022-09-07T10:42:45.130Z"
   },
   {
    "duration": 40,
    "start_time": "2022-09-07T10:42:45.174Z"
   },
   {
    "duration": 231,
    "start_time": "2022-09-07T10:42:45.216Z"
   },
   {
    "duration": 14,
    "start_time": "2022-09-07T10:42:45.448Z"
   },
   {
    "duration": 40,
    "start_time": "2022-09-07T10:42:45.464Z"
   },
   {
    "duration": 35,
    "start_time": "2022-09-07T10:42:45.506Z"
   },
   {
    "duration": 25,
    "start_time": "2022-09-07T10:42:45.543Z"
   },
   {
    "duration": 32,
    "start_time": "2022-09-07T10:42:45.570Z"
   },
   {
    "duration": 47,
    "start_time": "2022-09-07T10:42:45.604Z"
   },
   {
    "duration": 28,
    "start_time": "2022-09-07T10:42:45.652Z"
   },
   {
    "duration": 32,
    "start_time": "2022-09-07T10:42:45.683Z"
   },
   {
    "duration": 24,
    "start_time": "2022-09-07T10:42:45.716Z"
   },
   {
    "duration": 309,
    "start_time": "2022-09-07T10:42:45.741Z"
   },
   {
    "duration": 267,
    "start_time": "2022-09-07T10:46:27.537Z"
   },
   {
    "duration": 352,
    "start_time": "2022-09-07T10:47:13.707Z"
   },
   {
    "duration": 211,
    "start_time": "2022-09-07T10:47:25.606Z"
   },
   {
    "duration": 184,
    "start_time": "2022-09-07T10:47:36.192Z"
   },
   {
    "duration": 174,
    "start_time": "2022-09-07T10:48:23.892Z"
   },
   {
    "duration": 177,
    "start_time": "2022-09-07T10:48:32.397Z"
   },
   {
    "duration": 249,
    "start_time": "2022-09-07T10:48:43.529Z"
   },
   {
    "duration": 162,
    "start_time": "2022-09-07T10:49:45.126Z"
   },
   {
    "duration": 167,
    "start_time": "2022-09-07T10:49:53.792Z"
   },
   {
    "duration": 246,
    "start_time": "2022-09-07T10:50:15.137Z"
   },
   {
    "duration": 180,
    "start_time": "2022-09-07T10:51:21.062Z"
   },
   {
    "duration": 169,
    "start_time": "2022-09-07T10:51:31.815Z"
   },
   {
    "duration": 178,
    "start_time": "2022-09-07T10:52:06.115Z"
   },
   {
    "duration": 169,
    "start_time": "2022-09-07T10:53:22.809Z"
   },
   {
    "duration": 178,
    "start_time": "2022-09-07T10:53:27.957Z"
   },
   {
    "duration": 176,
    "start_time": "2022-09-07T10:53:35.699Z"
   },
   {
    "duration": 301,
    "start_time": "2022-09-07T10:55:58.115Z"
   },
   {
    "duration": 163,
    "start_time": "2022-09-07T10:56:35.803Z"
   },
   {
    "duration": 132,
    "start_time": "2022-09-07T10:56:49.027Z"
   },
   {
    "duration": 293,
    "start_time": "2022-09-07T10:58:10.119Z"
   },
   {
    "duration": 474,
    "start_time": "2022-09-07T10:58:31.167Z"
   },
   {
    "duration": 561,
    "start_time": "2022-09-07T10:58:47.414Z"
   },
   {
    "duration": 278,
    "start_time": "2022-09-07T10:59:00.569Z"
   },
   {
    "duration": 157,
    "start_time": "2022-09-07T10:59:56.418Z"
   },
   {
    "duration": 64,
    "start_time": "2022-09-07T11:04:24.896Z"
   },
   {
    "duration": 18,
    "start_time": "2022-09-07T11:06:13.967Z"
   },
   {
    "duration": 13,
    "start_time": "2022-09-07T11:06:29.847Z"
   },
   {
    "duration": 56,
    "start_time": "2022-09-07T11:06:36.627Z"
   },
   {
    "duration": 14,
    "start_time": "2022-09-07T11:06:59.193Z"
   },
   {
    "duration": 201,
    "start_time": "2022-09-07T11:08:21.027Z"
   },
   {
    "duration": 253,
    "start_time": "2022-09-07T11:09:49.993Z"
   },
   {
    "duration": 16,
    "start_time": "2022-09-07T11:10:08.691Z"
   },
   {
    "duration": 231,
    "start_time": "2022-09-07T11:10:20.136Z"
   },
   {
    "duration": 280,
    "start_time": "2022-09-07T11:13:16.970Z"
   },
   {
    "duration": 274,
    "start_time": "2022-09-07T11:14:52.347Z"
   },
   {
    "duration": 300,
    "start_time": "2022-09-07T11:15:03.596Z"
   },
   {
    "duration": 247,
    "start_time": "2022-09-07T11:15:28.325Z"
   },
   {
    "duration": 148,
    "start_time": "2022-09-07T11:15:52.363Z"
   },
   {
    "duration": 165,
    "start_time": "2022-09-07T11:16:01.515Z"
   },
   {
    "duration": 288,
    "start_time": "2022-09-07T11:17:14.988Z"
   },
   {
    "duration": 272,
    "start_time": "2022-09-07T11:17:33.524Z"
   },
   {
    "duration": 297,
    "start_time": "2022-09-07T11:17:44.606Z"
   },
   {
    "duration": 284,
    "start_time": "2022-09-07T11:19:17.987Z"
   },
   {
    "duration": 260,
    "start_time": "2022-09-07T11:19:26.889Z"
   },
   {
    "duration": 285,
    "start_time": "2022-09-07T11:20:01.856Z"
   },
   {
    "duration": 269,
    "start_time": "2022-09-07T11:20:27.916Z"
   },
   {
    "duration": 265,
    "start_time": "2022-09-07T11:20:46.198Z"
   },
   {
    "duration": 414,
    "start_time": "2022-09-07T11:22:06.970Z"
   },
   {
    "duration": 163,
    "start_time": "2022-09-07T11:30:18.078Z"
   },
   {
    "duration": 29,
    "start_time": "2022-09-07T11:31:05.605Z"
   },
   {
    "duration": 257,
    "start_time": "2022-09-07T11:32:21.855Z"
   },
   {
    "duration": 12,
    "start_time": "2022-09-07T11:33:45.746Z"
   },
   {
    "duration": 12,
    "start_time": "2022-09-07T11:34:09.485Z"
   },
   {
    "duration": 260,
    "start_time": "2022-09-07T11:34:26.590Z"
   },
   {
    "duration": 270,
    "start_time": "2022-09-07T11:35:09.524Z"
   },
   {
    "duration": 268,
    "start_time": "2022-09-07T11:45:41.949Z"
   },
   {
    "duration": 136,
    "start_time": "2022-09-07T11:45:59.918Z"
   },
   {
    "duration": 12,
    "start_time": "2022-09-07T11:47:47.009Z"
   },
   {
    "duration": 336,
    "start_time": "2022-09-07T11:48:10.717Z"
   },
   {
    "duration": 505,
    "start_time": "2022-09-07T11:48:26.826Z"
   },
   {
    "duration": 285,
    "start_time": "2022-09-07T11:48:43.686Z"
   },
   {
    "duration": 578,
    "start_time": "2022-09-07T11:48:56.448Z"
   },
   {
    "duration": 357,
    "start_time": "2022-09-07T11:50:01.927Z"
   },
   {
    "duration": 1188,
    "start_time": "2022-09-08T07:20:11.676Z"
   },
   {
    "duration": 128,
    "start_time": "2022-09-08T07:20:12.866Z"
   },
   {
    "duration": 8,
    "start_time": "2022-09-08T07:20:12.996Z"
   },
   {
    "duration": 20,
    "start_time": "2022-09-08T07:20:13.006Z"
   },
   {
    "duration": 10,
    "start_time": "2022-09-08T07:20:13.028Z"
   },
   {
    "duration": 163,
    "start_time": "2022-09-08T07:20:13.039Z"
   },
   {
    "duration": 8,
    "start_time": "2022-09-08T07:20:13.204Z"
   },
   {
    "duration": 27,
    "start_time": "2022-09-08T07:20:13.213Z"
   },
   {
    "duration": 16,
    "start_time": "2022-09-08T07:20:13.242Z"
   },
   {
    "duration": 24,
    "start_time": "2022-09-08T07:20:13.259Z"
   },
   {
    "duration": 25,
    "start_time": "2022-09-08T07:20:13.285Z"
   },
   {
    "duration": 20,
    "start_time": "2022-09-08T07:20:13.311Z"
   },
   {
    "duration": 23,
    "start_time": "2022-09-08T07:20:13.333Z"
   },
   {
    "duration": 12,
    "start_time": "2022-09-08T07:20:13.359Z"
   },
   {
    "duration": 18,
    "start_time": "2022-09-08T07:20:13.372Z"
   },
   {
    "duration": 267,
    "start_time": "2022-09-08T07:20:13.392Z"
   },
   {
    "duration": 13,
    "start_time": "2022-09-08T07:20:13.661Z"
   },
   {
    "duration": 317,
    "start_time": "2022-09-08T07:20:13.675Z"
   },
   {
    "duration": 18,
    "start_time": "2022-09-08T07:20:13.999Z"
   },
   {
    "duration": 286,
    "start_time": "2022-09-08T07:20:14.018Z"
   },
   {
    "duration": 10,
    "start_time": "2022-09-08T07:20:14.306Z"
   },
   {
    "duration": 442,
    "start_time": "2022-09-08T07:20:14.318Z"
   },
   {
    "duration": 408,
    "start_time": "2022-09-08T07:20:52.150Z"
   },
   {
    "duration": 120,
    "start_time": "2022-09-08T07:28:02.626Z"
   },
   {
    "duration": 905,
    "start_time": "2022-09-08T07:28:29.125Z"
   },
   {
    "duration": 15,
    "start_time": "2022-09-08T07:28:54.627Z"
   },
   {
    "duration": 16,
    "start_time": "2022-09-08T07:30:18.746Z"
   },
   {
    "duration": 14,
    "start_time": "2022-09-08T07:30:35.817Z"
   },
   {
    "duration": 298,
    "start_time": "2022-09-08T07:30:37.455Z"
   },
   {
    "duration": 15,
    "start_time": "2022-09-08T07:35:07.181Z"
   },
   {
    "duration": 262,
    "start_time": "2022-09-08T07:35:09.082Z"
   },
   {
    "duration": 10,
    "start_time": "2022-09-08T07:43:20.534Z"
   },
   {
    "duration": 357,
    "start_time": "2022-09-08T07:45:23.481Z"
   },
   {
    "duration": 392,
    "start_time": "2022-09-08T07:45:45.141Z"
   },
   {
    "duration": 12,
    "start_time": "2022-09-08T07:55:27.073Z"
   },
   {
    "duration": 11,
    "start_time": "2022-09-08T07:56:16.998Z"
   },
   {
    "duration": 10,
    "start_time": "2022-09-08T07:56:29.316Z"
   },
   {
    "duration": 12,
    "start_time": "2022-09-08T07:56:37.967Z"
   },
   {
    "duration": 184,
    "start_time": "2022-09-08T08:00:22.436Z"
   },
   {
    "duration": 167,
    "start_time": "2022-09-08T08:00:44.222Z"
   },
   {
    "duration": 107,
    "start_time": "2022-09-08T08:01:13.121Z"
   },
   {
    "duration": 119,
    "start_time": "2022-09-08T08:02:54.602Z"
   },
   {
    "duration": 10,
    "start_time": "2022-09-08T08:04:28.793Z"
   },
   {
    "duration": 106,
    "start_time": "2022-09-08T08:04:32.917Z"
   },
   {
    "duration": 96,
    "start_time": "2022-09-08T08:04:33.776Z"
   },
   {
    "duration": 100,
    "start_time": "2022-09-08T08:04:56.504Z"
   },
   {
    "duration": 100,
    "start_time": "2022-09-08T08:05:30.706Z"
   },
   {
    "duration": 136,
    "start_time": "2022-09-08T08:05:54.453Z"
   },
   {
    "duration": 103,
    "start_time": "2022-09-08T08:07:06.396Z"
   },
   {
    "duration": 153,
    "start_time": "2022-09-08T08:08:17.988Z"
   },
   {
    "duration": 2169,
    "start_time": "2022-09-08T08:08:24.696Z"
   },
   {
    "duration": 104,
    "start_time": "2022-09-08T08:09:05.395Z"
   },
   {
    "duration": 128,
    "start_time": "2022-09-08T08:09:28.313Z"
   },
   {
    "duration": 118,
    "start_time": "2022-09-08T08:09:57.856Z"
   },
   {
    "duration": 218,
    "start_time": "2022-09-08T08:10:16.533Z"
   },
   {
    "duration": 6,
    "start_time": "2022-09-08T08:16:17.386Z"
   },
   {
    "duration": 5,
    "start_time": "2022-09-08T08:16:31.485Z"
   },
   {
    "duration": 131,
    "start_time": "2022-09-08T08:26:54.837Z"
   },
   {
    "duration": 132,
    "start_time": "2022-09-08T08:27:15.837Z"
   },
   {
    "duration": 153,
    "start_time": "2022-09-08T08:29:24.536Z"
   },
   {
    "duration": 130,
    "start_time": "2022-09-08T08:31:24.177Z"
   },
   {
    "duration": 138,
    "start_time": "2022-09-08T08:31:41.765Z"
   },
   {
    "duration": 151,
    "start_time": "2022-09-08T08:34:46.382Z"
   },
   {
    "duration": 136,
    "start_time": "2022-09-08T08:35:01.082Z"
   },
   {
    "duration": 141,
    "start_time": "2022-09-08T08:35:17.878Z"
   },
   {
    "duration": 5,
    "start_time": "2022-09-08T08:42:38.878Z"
   },
   {
    "duration": 1222,
    "start_time": "2022-09-08T10:38:06.080Z"
   },
   {
    "duration": 141,
    "start_time": "2022-09-08T10:38:07.304Z"
   },
   {
    "duration": 8,
    "start_time": "2022-09-08T10:38:07.447Z"
   },
   {
    "duration": 12,
    "start_time": "2022-09-08T10:38:07.456Z"
   },
   {
    "duration": 9,
    "start_time": "2022-09-08T10:38:07.470Z"
   },
   {
    "duration": 139,
    "start_time": "2022-09-08T10:38:07.480Z"
   },
   {
    "duration": 7,
    "start_time": "2022-09-08T10:38:07.620Z"
   },
   {
    "duration": 12,
    "start_time": "2022-09-08T10:38:07.628Z"
   },
   {
    "duration": 9,
    "start_time": "2022-09-08T10:38:07.642Z"
   },
   {
    "duration": 10,
    "start_time": "2022-09-08T10:38:07.652Z"
   },
   {
    "duration": 7,
    "start_time": "2022-09-08T10:38:07.663Z"
   },
   {
    "duration": 11,
    "start_time": "2022-09-08T10:38:07.672Z"
   },
   {
    "duration": 11,
    "start_time": "2022-09-08T10:38:07.684Z"
   },
   {
    "duration": 7,
    "start_time": "2022-09-08T10:38:07.697Z"
   },
   {
    "duration": 7,
    "start_time": "2022-09-08T10:38:07.705Z"
   },
   {
    "duration": 277,
    "start_time": "2022-09-08T10:38:07.713Z"
   },
   {
    "duration": 20,
    "start_time": "2022-09-08T10:38:07.991Z"
   },
   {
    "duration": 284,
    "start_time": "2022-09-08T10:38:08.012Z"
   },
   {
    "duration": 11,
    "start_time": "2022-09-08T10:38:08.298Z"
   },
   {
    "duration": 259,
    "start_time": "2022-09-08T10:38:08.311Z"
   },
   {
    "duration": 11,
    "start_time": "2022-09-08T10:38:08.572Z"
   },
   {
    "duration": 393,
    "start_time": "2022-09-08T10:38:08.584Z"
   },
   {
    "duration": 22,
    "start_time": "2022-09-08T10:38:08.979Z"
   },
   {
    "duration": 301,
    "start_time": "2022-09-08T10:38:09.002Z"
   },
   {
    "duration": 9,
    "start_time": "2022-09-08T10:38:09.304Z"
   },
   {
    "duration": 317,
    "start_time": "2022-09-08T10:38:09.314Z"
   },
   {
    "duration": 10,
    "start_time": "2022-09-08T10:38:09.632Z"
   },
   {
    "duration": 118,
    "start_time": "2022-09-08T10:38:09.644Z"
   },
   {
    "duration": 129,
    "start_time": "2022-09-08T10:38:09.763Z"
   },
   {
    "duration": 8,
    "start_time": "2022-09-08T10:38:09.894Z"
   },
   {
    "duration": 146,
    "start_time": "2022-09-08T10:38:09.903Z"
   },
   {
    "duration": 134,
    "start_time": "2022-09-08T10:38:10.050Z"
   },
   {
    "duration": 252,
    "start_time": "2022-09-08T10:38:10.186Z"
   },
   {
    "duration": 157,
    "start_time": "2022-09-08T10:38:10.440Z"
   },
   {
    "duration": 4,
    "start_time": "2022-09-08T10:38:10.601Z"
   },
   {
    "duration": 193,
    "start_time": "2022-09-08T11:18:32.420Z"
   },
   {
    "duration": 204,
    "start_time": "2022-09-08T11:25:21.675Z"
   },
   {
    "duration": 143,
    "start_time": "2022-09-08T11:25:37.595Z"
   },
   {
    "duration": 171,
    "start_time": "2022-09-08T11:32:05.051Z"
   },
   {
    "duration": 56,
    "start_time": "2022-09-08T11:37:01.666Z"
   },
   {
    "duration": 8,
    "start_time": "2022-09-08T11:37:12.870Z"
   },
   {
    "duration": 136,
    "start_time": "2022-09-08T11:38:54.928Z"
   },
   {
    "duration": 45,
    "start_time": "2022-09-08T11:40:35.275Z"
   },
   {
    "duration": 9,
    "start_time": "2022-09-08T11:40:39.666Z"
   },
   {
    "duration": 8,
    "start_time": "2022-09-08T11:40:51.274Z"
   },
   {
    "duration": 9,
    "start_time": "2022-09-08T11:51:15.431Z"
   },
   {
    "duration": 9,
    "start_time": "2022-09-08T11:51:32.700Z"
   },
   {
    "duration": 9,
    "start_time": "2022-09-08T11:51:43.889Z"
   },
   {
    "duration": 4,
    "start_time": "2022-09-08T11:51:46.271Z"
   },
   {
    "duration": 28,
    "start_time": "2022-09-08T11:57:44.490Z"
   },
   {
    "duration": 24,
    "start_time": "2022-09-08T11:58:18.399Z"
   },
   {
    "duration": 1642,
    "start_time": "2022-09-08T12:04:00.459Z"
   },
   {
    "duration": 11,
    "start_time": "2022-09-08T12:04:30.358Z"
   },
   {
    "duration": 970,
    "start_time": "2022-09-08T12:30:28.205Z"
   },
   {
    "duration": 81,
    "start_time": "2022-09-08T12:30:29.177Z"
   },
   {
    "duration": 7,
    "start_time": "2022-09-08T12:30:29.260Z"
   },
   {
    "duration": 21,
    "start_time": "2022-09-08T12:30:29.269Z"
   },
   {
    "duration": 9,
    "start_time": "2022-09-08T12:30:29.292Z"
   },
   {
    "duration": 56,
    "start_time": "2022-09-08T12:30:29.302Z"
   },
   {
    "duration": 6,
    "start_time": "2022-09-08T12:30:29.360Z"
   },
   {
    "duration": 11,
    "start_time": "2022-09-08T12:30:29.367Z"
   },
   {
    "duration": 9,
    "start_time": "2022-09-08T12:30:29.379Z"
   },
   {
    "duration": 17,
    "start_time": "2022-09-08T12:30:29.390Z"
   },
   {
    "duration": 7,
    "start_time": "2022-09-08T12:30:29.409Z"
   },
   {
    "duration": 16,
    "start_time": "2022-09-08T12:30:29.417Z"
   },
   {
    "duration": 16,
    "start_time": "2022-09-08T12:30:29.434Z"
   },
   {
    "duration": 14,
    "start_time": "2022-09-08T12:30:29.453Z"
   },
   {
    "duration": 6,
    "start_time": "2022-09-08T12:30:29.469Z"
   },
   {
    "duration": 255,
    "start_time": "2022-09-08T12:30:29.477Z"
   },
   {
    "duration": 13,
    "start_time": "2022-09-08T12:30:29.734Z"
   },
   {
    "duration": 278,
    "start_time": "2022-09-08T12:30:29.749Z"
   },
   {
    "duration": 13,
    "start_time": "2022-09-08T12:30:30.029Z"
   },
   {
    "duration": 259,
    "start_time": "2022-09-08T12:30:30.044Z"
   },
   {
    "duration": 11,
    "start_time": "2022-09-08T12:30:30.305Z"
   },
   {
    "duration": 386,
    "start_time": "2022-09-08T12:30:30.318Z"
   },
   {
    "duration": 16,
    "start_time": "2022-09-08T12:30:30.705Z"
   },
   {
    "duration": 309,
    "start_time": "2022-09-08T12:30:30.722Z"
   },
   {
    "duration": 13,
    "start_time": "2022-09-08T12:30:31.033Z"
   },
   {
    "duration": 369,
    "start_time": "2022-09-08T12:30:31.047Z"
   },
   {
    "duration": 14,
    "start_time": "2022-09-08T12:30:31.417Z"
   },
   {
    "duration": 119,
    "start_time": "2022-09-08T12:30:31.432Z"
   },
   {
    "duration": 123,
    "start_time": "2022-09-08T12:30:31.552Z"
   },
   {
    "duration": 4,
    "start_time": "2022-09-08T12:30:31.676Z"
   },
   {
    "duration": 134,
    "start_time": "2022-09-08T12:30:31.682Z"
   },
   {
    "duration": 133,
    "start_time": "2022-09-08T12:30:31.818Z"
   },
   {
    "duration": 206,
    "start_time": "2022-09-08T12:30:31.953Z"
   },
   {
    "duration": 136,
    "start_time": "2022-09-08T12:30:32.160Z"
   },
   {
    "duration": 5,
    "start_time": "2022-09-08T12:30:32.300Z"
   },
   {
    "duration": 221,
    "start_time": "2022-09-08T12:30:32.306Z"
   },
   {
    "duration": 184,
    "start_time": "2022-09-08T12:30:32.528Z"
   },
   {
    "duration": 7,
    "start_time": "2022-09-08T12:30:32.714Z"
   },
   {
    "duration": 9,
    "start_time": "2022-09-08T12:30:32.722Z"
   },
   {
    "duration": 5,
    "start_time": "2022-09-08T12:30:32.733Z"
   },
   {
    "duration": 22,
    "start_time": "2022-09-08T12:30:32.741Z"
   },
   {
    "duration": 36,
    "start_time": "2022-09-08T12:30:32.764Z"
   },
   {
    "duration": 1209,
    "start_time": "2022-09-09T10:59:24.437Z"
   },
   {
    "duration": 123,
    "start_time": "2022-09-09T10:59:25.647Z"
   },
   {
    "duration": 7,
    "start_time": "2022-09-09T10:59:25.771Z"
   },
   {
    "duration": 27,
    "start_time": "2022-09-09T10:59:25.779Z"
   },
   {
    "duration": 9,
    "start_time": "2022-09-09T10:59:25.808Z"
   },
   {
    "duration": 140,
    "start_time": "2022-09-09T10:59:25.819Z"
   },
   {
    "duration": 7,
    "start_time": "2022-09-09T10:59:25.961Z"
   },
   {
    "duration": 24,
    "start_time": "2022-09-09T10:59:25.969Z"
   },
   {
    "duration": 12,
    "start_time": "2022-09-09T10:59:25.994Z"
   },
   {
    "duration": 24,
    "start_time": "2022-09-09T10:59:26.007Z"
   },
   {
    "duration": 14,
    "start_time": "2022-09-09T10:59:26.034Z"
   },
   {
    "duration": 21,
    "start_time": "2022-09-09T10:59:26.049Z"
   },
   {
    "duration": 12,
    "start_time": "2022-09-09T10:59:26.072Z"
   },
   {
    "duration": 33,
    "start_time": "2022-09-09T10:59:26.087Z"
   },
   {
    "duration": 15,
    "start_time": "2022-09-09T10:59:26.122Z"
   },
   {
    "duration": 267,
    "start_time": "2022-09-09T10:59:26.138Z"
   },
   {
    "duration": 21,
    "start_time": "2022-09-09T10:59:26.406Z"
   },
   {
    "duration": 303,
    "start_time": "2022-09-09T10:59:26.429Z"
   },
   {
    "duration": 11,
    "start_time": "2022-09-09T10:59:26.734Z"
   },
   {
    "duration": 300,
    "start_time": "2022-09-09T10:59:26.746Z"
   },
   {
    "duration": 10,
    "start_time": "2022-09-09T10:59:27.047Z"
   },
   {
    "duration": 438,
    "start_time": "2022-09-09T10:59:27.058Z"
   },
   {
    "duration": 33,
    "start_time": "2022-09-09T10:59:27.497Z"
   },
   {
    "duration": 312,
    "start_time": "2022-09-09T10:59:27.532Z"
   },
   {
    "duration": 9,
    "start_time": "2022-09-09T10:59:27.845Z"
   },
   {
    "duration": 405,
    "start_time": "2022-09-09T10:59:27.855Z"
   },
   {
    "duration": 11,
    "start_time": "2022-09-09T10:59:28.262Z"
   },
   {
    "duration": 121,
    "start_time": "2022-09-09T10:59:28.274Z"
   },
   {
    "duration": 137,
    "start_time": "2022-09-09T10:59:28.396Z"
   },
   {
    "duration": 4,
    "start_time": "2022-09-09T10:59:28.535Z"
   },
   {
    "duration": 145,
    "start_time": "2022-09-09T10:59:28.540Z"
   },
   {
    "duration": 140,
    "start_time": "2022-09-09T10:59:28.686Z"
   },
   {
    "duration": 203,
    "start_time": "2022-09-09T10:59:28.828Z"
   },
   {
    "duration": 144,
    "start_time": "2022-09-09T10:59:29.032Z"
   },
   {
    "duration": 3,
    "start_time": "2022-09-09T10:59:29.178Z"
   },
   {
    "duration": 227,
    "start_time": "2022-09-09T10:59:29.183Z"
   },
   {
    "duration": 161,
    "start_time": "2022-09-09T10:59:29.412Z"
   },
   {
    "duration": 7,
    "start_time": "2022-09-09T10:59:29.574Z"
   },
   {
    "duration": 10,
    "start_time": "2022-09-09T10:59:29.582Z"
   },
   {
    "duration": 18,
    "start_time": "2022-09-09T10:59:29.593Z"
   },
   {
    "duration": 33,
    "start_time": "2022-09-09T10:59:29.614Z"
   },
   {
    "duration": 9,
    "start_time": "2022-09-09T10:59:29.648Z"
   },
   {
    "duration": 50,
    "start_time": "2022-09-09T15:44:09.684Z"
   },
   {
    "duration": 1325,
    "start_time": "2022-09-09T15:44:15.240Z"
   },
   {
    "duration": 181,
    "start_time": "2022-09-09T15:44:16.568Z"
   },
   {
    "duration": 11,
    "start_time": "2022-09-09T15:44:16.751Z"
   },
   {
    "duration": 26,
    "start_time": "2022-09-09T15:44:16.764Z"
   },
   {
    "duration": 24,
    "start_time": "2022-09-09T15:44:16.793Z"
   },
   {
    "duration": 37,
    "start_time": "2022-09-09T15:44:16.820Z"
   },
   {
    "duration": 176,
    "start_time": "2022-09-09T15:44:16.859Z"
   },
   {
    "duration": 10,
    "start_time": "2022-09-09T15:44:17.037Z"
   },
   {
    "duration": 20,
    "start_time": "2022-09-09T15:44:17.049Z"
   },
   {
    "duration": 21,
    "start_time": "2022-09-09T15:44:17.078Z"
   },
   {
    "duration": 14,
    "start_time": "2022-09-09T15:44:17.101Z"
   },
   {
    "duration": 11,
    "start_time": "2022-09-09T15:44:17.117Z"
   },
   {
    "duration": 16,
    "start_time": "2022-09-09T15:44:17.130Z"
   },
   {
    "duration": 27,
    "start_time": "2022-09-09T15:44:17.148Z"
   },
   {
    "duration": 19,
    "start_time": "2022-09-09T15:44:17.177Z"
   },
   {
    "duration": 6,
    "start_time": "2022-09-09T15:44:17.198Z"
   },
   {
    "duration": 325,
    "start_time": "2022-09-09T15:44:17.206Z"
   },
   {
    "duration": 16,
    "start_time": "2022-09-09T15:44:17.532Z"
   },
   {
    "duration": 355,
    "start_time": "2022-09-09T15:44:17.549Z"
   },
   {
    "duration": 15,
    "start_time": "2022-09-09T15:44:17.906Z"
   },
   {
    "duration": 320,
    "start_time": "2022-09-09T15:44:17.922Z"
   },
   {
    "duration": 13,
    "start_time": "2022-09-09T15:44:18.244Z"
   },
   {
    "duration": 480,
    "start_time": "2022-09-09T15:44:18.258Z"
   },
   {
    "duration": 19,
    "start_time": "2022-09-09T15:44:18.739Z"
   },
   {
    "duration": 388,
    "start_time": "2022-09-09T15:44:18.773Z"
   },
   {
    "duration": 17,
    "start_time": "2022-09-09T15:44:19.163Z"
   },
   {
    "duration": 425,
    "start_time": "2022-09-09T15:44:19.184Z"
   },
   {
    "duration": 11,
    "start_time": "2022-09-09T15:44:19.613Z"
   },
   {
    "duration": 178,
    "start_time": "2022-09-09T15:44:19.626Z"
   },
   {
    "duration": 173,
    "start_time": "2022-09-09T15:44:19.806Z"
   },
   {
    "duration": 5,
    "start_time": "2022-09-09T15:44:19.981Z"
   },
   {
    "duration": 165,
    "start_time": "2022-09-09T15:44:19.987Z"
   },
   {
    "duration": 175,
    "start_time": "2022-09-09T15:44:20.154Z"
   },
   {
    "duration": 272,
    "start_time": "2022-09-09T15:44:20.331Z"
   },
   {
    "duration": 178,
    "start_time": "2022-09-09T15:44:20.604Z"
   },
   {
    "duration": 4,
    "start_time": "2022-09-09T15:44:20.787Z"
   },
   {
    "duration": 263,
    "start_time": "2022-09-09T15:44:20.793Z"
   },
   {
    "duration": 193,
    "start_time": "2022-09-09T15:44:21.057Z"
   },
   {
    "duration": 23,
    "start_time": "2022-09-09T15:44:21.252Z"
   },
   {
    "duration": 13,
    "start_time": "2022-09-09T15:44:21.278Z"
   },
   {
    "duration": 5,
    "start_time": "2022-09-09T15:44:21.293Z"
   },
   {
    "duration": 31,
    "start_time": "2022-09-09T15:44:21.299Z"
   },
   {
    "duration": 39,
    "start_time": "2022-09-09T15:44:21.332Z"
   },
   {
    "duration": 21,
    "start_time": "2022-09-09T15:45:14.756Z"
   },
   {
    "duration": 108,
    "start_time": "2022-09-09T15:46:05.629Z"
   },
   {
    "duration": 13,
    "start_time": "2022-09-09T15:46:14.899Z"
   },
   {
    "duration": 13,
    "start_time": "2022-09-09T15:46:20.836Z"
   },
   {
    "duration": 22,
    "start_time": "2022-09-09T15:46:44.165Z"
   },
   {
    "duration": 14,
    "start_time": "2022-09-09T15:46:58.284Z"
   },
   {
    "duration": 14,
    "start_time": "2022-09-09T15:47:24.582Z"
   },
   {
    "duration": 15,
    "start_time": "2022-09-09T15:50:03.139Z"
   },
   {
    "duration": 17,
    "start_time": "2022-09-09T15:50:16.692Z"
   },
   {
    "duration": 145,
    "start_time": "2022-09-09T15:52:48.497Z"
   },
   {
    "duration": 172,
    "start_time": "2022-09-09T15:53:08.086Z"
   },
   {
    "duration": 153,
    "start_time": "2022-09-09T15:53:20.833Z"
   },
   {
    "duration": 242,
    "start_time": "2022-09-09T15:53:55.112Z"
   },
   {
    "duration": 1695,
    "start_time": "2022-09-09T15:54:21.110Z"
   },
   {
    "duration": 1871,
    "start_time": "2022-09-09T15:54:30.132Z"
   },
   {
    "duration": 132,
    "start_time": "2022-09-09T15:54:51.588Z"
   },
   {
    "duration": 17,
    "start_time": "2022-09-09T15:55:51.748Z"
   },
   {
    "duration": 17,
    "start_time": "2022-09-09T15:56:01.533Z"
   },
   {
    "duration": 165,
    "start_time": "2022-09-09T15:56:16.593Z"
   },
   {
    "duration": 15911,
    "start_time": "2022-09-09T15:58:09.037Z"
   },
   {
    "duration": 7744,
    "start_time": "2022-09-09T15:58:43.099Z"
   },
   {
    "duration": 19,
    "start_time": "2022-09-09T15:59:36.094Z"
   },
   {
    "duration": 1140,
    "start_time": "2022-09-09T15:59:45.297Z"
   },
   {
    "duration": 108,
    "start_time": "2022-09-09T15:59:46.440Z"
   },
   {
    "duration": 32,
    "start_time": "2022-09-09T15:59:46.551Z"
   },
   {
    "duration": 31,
    "start_time": "2022-09-09T15:59:46.589Z"
   },
   {
    "duration": 16,
    "start_time": "2022-09-09T15:59:46.622Z"
   },
   {
    "duration": 22,
    "start_time": "2022-09-09T15:59:46.640Z"
   },
   {
    "duration": 373,
    "start_time": "2022-09-09T15:59:46.664Z"
   },
   {
    "duration": 0,
    "start_time": "2022-09-09T15:59:47.041Z"
   },
   {
    "duration": 0,
    "start_time": "2022-09-09T15:59:47.042Z"
   },
   {
    "duration": 0,
    "start_time": "2022-09-09T15:59:47.043Z"
   },
   {
    "duration": 0,
    "start_time": "2022-09-09T15:59:47.044Z"
   },
   {
    "duration": 0,
    "start_time": "2022-09-09T15:59:47.045Z"
   },
   {
    "duration": 0,
    "start_time": "2022-09-09T15:59:47.046Z"
   },
   {
    "duration": 0,
    "start_time": "2022-09-09T15:59:47.047Z"
   },
   {
    "duration": 0,
    "start_time": "2022-09-09T15:59:47.047Z"
   },
   {
    "duration": 0,
    "start_time": "2022-09-09T15:59:47.048Z"
   },
   {
    "duration": 0,
    "start_time": "2022-09-09T15:59:47.049Z"
   },
   {
    "duration": 0,
    "start_time": "2022-09-09T15:59:47.050Z"
   },
   {
    "duration": 0,
    "start_time": "2022-09-09T15:59:47.050Z"
   },
   {
    "duration": 0,
    "start_time": "2022-09-09T15:59:47.051Z"
   },
   {
    "duration": 0,
    "start_time": "2022-09-09T15:59:47.053Z"
   },
   {
    "duration": 0,
    "start_time": "2022-09-09T15:59:47.070Z"
   },
   {
    "duration": 0,
    "start_time": "2022-09-09T15:59:47.072Z"
   },
   {
    "duration": 0,
    "start_time": "2022-09-09T15:59:47.079Z"
   },
   {
    "duration": 0,
    "start_time": "2022-09-09T15:59:47.086Z"
   },
   {
    "duration": 0,
    "start_time": "2022-09-09T15:59:47.087Z"
   },
   {
    "duration": 0,
    "start_time": "2022-09-09T15:59:47.091Z"
   },
   {
    "duration": 0,
    "start_time": "2022-09-09T15:59:47.092Z"
   },
   {
    "duration": 0,
    "start_time": "2022-09-09T15:59:47.094Z"
   },
   {
    "duration": 0,
    "start_time": "2022-09-09T15:59:47.095Z"
   },
   {
    "duration": 0,
    "start_time": "2022-09-09T15:59:47.096Z"
   },
   {
    "duration": 0,
    "start_time": "2022-09-09T15:59:47.097Z"
   },
   {
    "duration": 0,
    "start_time": "2022-09-09T15:59:47.098Z"
   },
   {
    "duration": 0,
    "start_time": "2022-09-09T15:59:47.100Z"
   },
   {
    "duration": 0,
    "start_time": "2022-09-09T15:59:47.101Z"
   },
   {
    "duration": 0,
    "start_time": "2022-09-09T15:59:47.102Z"
   },
   {
    "duration": 0,
    "start_time": "2022-09-09T15:59:47.103Z"
   },
   {
    "duration": 0,
    "start_time": "2022-09-09T15:59:47.104Z"
   },
   {
    "duration": 0,
    "start_time": "2022-09-09T15:59:47.105Z"
   },
   {
    "duration": 0,
    "start_time": "2022-09-09T15:59:47.107Z"
   },
   {
    "duration": 0,
    "start_time": "2022-09-09T15:59:47.109Z"
   },
   {
    "duration": 0,
    "start_time": "2022-09-09T15:59:47.110Z"
   },
   {
    "duration": 0,
    "start_time": "2022-09-09T15:59:47.112Z"
   },
   {
    "duration": 0,
    "start_time": "2022-09-09T15:59:47.113Z"
   },
   {
    "duration": 0,
    "start_time": "2022-09-09T15:59:47.114Z"
   },
   {
    "duration": 5356,
    "start_time": "2022-09-09T16:00:03.184Z"
   },
   {
    "duration": 1150,
    "start_time": "2022-09-09T16:02:13.490Z"
   },
   {
    "duration": 96,
    "start_time": "2022-09-09T16:02:14.642Z"
   },
   {
    "duration": 9,
    "start_time": "2022-09-09T16:02:14.740Z"
   },
   {
    "duration": 25,
    "start_time": "2022-09-09T16:02:14.752Z"
   },
   {
    "duration": 24,
    "start_time": "2022-09-09T16:02:14.779Z"
   },
   {
    "duration": 16,
    "start_time": "2022-09-09T16:02:14.805Z"
   },
   {
    "duration": 81,
    "start_time": "2022-09-09T16:02:14.823Z"
   },
   {
    "duration": 11,
    "start_time": "2022-09-09T16:02:14.906Z"
   },
   {
    "duration": 19,
    "start_time": "2022-09-09T16:02:14.919Z"
   },
   {
    "duration": 9,
    "start_time": "2022-09-09T16:02:14.942Z"
   },
   {
    "duration": 19,
    "start_time": "2022-09-09T16:02:14.953Z"
   },
   {
    "duration": 12,
    "start_time": "2022-09-09T16:02:14.981Z"
   },
   {
    "duration": 15,
    "start_time": "2022-09-09T16:02:14.995Z"
   },
   {
    "duration": 32,
    "start_time": "2022-09-09T16:02:15.012Z"
   },
   {
    "duration": 13,
    "start_time": "2022-09-09T16:02:15.046Z"
   },
   {
    "duration": 17,
    "start_time": "2022-09-09T16:02:15.062Z"
   },
   {
    "duration": 352,
    "start_time": "2022-09-09T16:02:15.084Z"
   },
   {
    "duration": 18,
    "start_time": "2022-09-09T16:02:15.439Z"
   },
   {
    "duration": 369,
    "start_time": "2022-09-09T16:02:15.472Z"
   },
   {
    "duration": 28,
    "start_time": "2022-09-09T16:02:15.843Z"
   },
   {
    "duration": 326,
    "start_time": "2022-09-09T16:02:15.873Z"
   },
   {
    "duration": 14,
    "start_time": "2022-09-09T16:02:16.200Z"
   },
   {
    "duration": 515,
    "start_time": "2022-09-09T16:02:16.215Z"
   },
   {
    "duration": 24,
    "start_time": "2022-09-09T16:02:16.732Z"
   },
   {
    "duration": 473,
    "start_time": "2022-09-09T16:02:16.768Z"
   },
   {
    "duration": 12,
    "start_time": "2022-09-09T16:02:17.242Z"
   },
   {
    "duration": 411,
    "start_time": "2022-09-09T16:02:17.256Z"
   },
   {
    "duration": 20,
    "start_time": "2022-09-09T16:02:17.674Z"
   },
   {
    "duration": 146,
    "start_time": "2022-09-09T16:02:17.695Z"
   },
   {
    "duration": 159,
    "start_time": "2022-09-09T16:02:17.843Z"
   },
   {
    "duration": 5,
    "start_time": "2022-09-09T16:02:18.004Z"
   },
   {
    "duration": 177,
    "start_time": "2022-09-09T16:02:18.010Z"
   },
   {
    "duration": 199,
    "start_time": "2022-09-09T16:02:18.190Z"
   },
   {
    "duration": 301,
    "start_time": "2022-09-09T16:02:18.393Z"
   },
   {
    "duration": 240,
    "start_time": "2022-09-09T16:02:18.697Z"
   },
   {
    "duration": 5,
    "start_time": "2022-09-09T16:02:18.940Z"
   },
   {
    "duration": 285,
    "start_time": "2022-09-09T16:02:18.947Z"
   },
   {
    "duration": 253,
    "start_time": "2022-09-09T16:02:19.234Z"
   },
   {
    "duration": 13,
    "start_time": "2022-09-09T16:02:19.492Z"
   },
   {
    "duration": 19,
    "start_time": "2022-09-09T16:02:19.507Z"
   },
   {
    "duration": 13,
    "start_time": "2022-09-09T16:02:19.528Z"
   },
   {
    "duration": 50,
    "start_time": "2022-09-09T16:02:19.543Z"
   },
   {
    "duration": 14,
    "start_time": "2022-09-09T16:02:19.596Z"
   },
   {
    "duration": 5,
    "start_time": "2022-09-09T16:05:10.497Z"
   },
   {
    "duration": 6,
    "start_time": "2022-09-09T16:05:38.450Z"
   },
   {
    "duration": 4,
    "start_time": "2022-09-09T16:05:40.786Z"
   },
   {
    "duration": 4,
    "start_time": "2022-09-09T16:06:36.946Z"
   },
   {
    "duration": 7,
    "start_time": "2022-09-09T16:06:37.467Z"
   },
   {
    "duration": 6,
    "start_time": "2022-09-09T16:07:01.699Z"
   },
   {
    "duration": 5,
    "start_time": "2022-09-09T16:07:13.723Z"
   },
   {
    "duration": 110,
    "start_time": "2022-09-09T16:11:37.065Z"
   },
   {
    "duration": 267,
    "start_time": "2022-09-09T16:14:46.383Z"
   },
   {
    "duration": 176,
    "start_time": "2022-09-09T16:14:56.062Z"
   },
   {
    "duration": 14,
    "start_time": "2022-09-09T16:18:40.182Z"
   },
   {
    "duration": 14,
    "start_time": "2022-09-09T16:19:00.142Z"
   },
   {
    "duration": 73,
    "start_time": "2022-09-09T16:22:40.680Z"
   },
   {
    "duration": 93,
    "start_time": "2022-09-09T16:23:29.011Z"
   },
   {
    "duration": 118,
    "start_time": "2022-09-09T16:23:37.488Z"
   },
   {
    "duration": 101,
    "start_time": "2022-09-09T16:23:54.237Z"
   },
   {
    "duration": 19,
    "start_time": "2022-09-09T16:24:01.204Z"
   },
   {
    "duration": 67,
    "start_time": "2022-09-09T16:24:42.582Z"
   },
   {
    "duration": 5,
    "start_time": "2022-09-09T16:26:30.582Z"
   },
   {
    "duration": 1095,
    "start_time": "2022-09-09T16:27:42.602Z"
   },
   {
    "duration": 1159,
    "start_time": "2022-09-09T16:28:18.595Z"
   },
   {
    "duration": 1109,
    "start_time": "2022-09-09T16:28:28.481Z"
   },
   {
    "duration": 917,
    "start_time": "2022-09-09T16:28:32.960Z"
   },
   {
    "duration": 1050,
    "start_time": "2022-09-09T16:28:56.799Z"
   },
   {
    "duration": 99,
    "start_time": "2022-09-09T16:28:57.851Z"
   },
   {
    "duration": 10,
    "start_time": "2022-09-09T16:28:57.951Z"
   },
   {
    "duration": 33,
    "start_time": "2022-09-09T16:28:57.963Z"
   },
   {
    "duration": 13,
    "start_time": "2022-09-09T16:28:57.997Z"
   },
   {
    "duration": 16,
    "start_time": "2022-09-09T16:28:58.011Z"
   },
   {
    "duration": 62,
    "start_time": "2022-09-09T16:28:58.028Z"
   },
   {
    "duration": 9,
    "start_time": "2022-09-09T16:28:58.091Z"
   },
   {
    "duration": 17,
    "start_time": "2022-09-09T16:28:58.101Z"
   },
   {
    "duration": 12,
    "start_time": "2022-09-09T16:28:58.120Z"
   },
   {
    "duration": 19,
    "start_time": "2022-09-09T16:28:58.133Z"
   },
   {
    "duration": 13,
    "start_time": "2022-09-09T16:28:58.153Z"
   },
   {
    "duration": 26,
    "start_time": "2022-09-09T16:28:58.172Z"
   },
   {
    "duration": 17,
    "start_time": "2022-09-09T16:28:58.199Z"
   },
   {
    "duration": 9,
    "start_time": "2022-09-09T16:28:58.217Z"
   },
   {
    "duration": 7,
    "start_time": "2022-09-09T16:28:58.228Z"
   },
   {
    "duration": 8,
    "start_time": "2022-09-09T16:28:58.236Z"
   },
   {
    "duration": 7,
    "start_time": "2022-09-09T16:28:58.246Z"
   },
   {
    "duration": 24,
    "start_time": "2022-09-09T16:28:58.254Z"
   },
   {
    "duration": 8,
    "start_time": "2022-09-09T16:28:58.281Z"
   },
   {
    "duration": 6,
    "start_time": "2022-09-09T16:28:58.291Z"
   },
   {
    "duration": 8,
    "start_time": "2022-09-09T16:28:58.298Z"
   },
   {
    "duration": 15,
    "start_time": "2022-09-09T16:28:58.307Z"
   },
   {
    "duration": 14,
    "start_time": "2022-09-09T16:28:58.324Z"
   },
   {
    "duration": 33,
    "start_time": "2022-09-09T16:28:58.339Z"
   },
   {
    "duration": 334,
    "start_time": "2022-09-09T16:28:58.376Z"
   },
   {
    "duration": 19,
    "start_time": "2022-09-09T16:28:58.712Z"
   },
   {
    "duration": 347,
    "start_time": "2022-09-09T16:28:58.736Z"
   },
   {
    "duration": 15,
    "start_time": "2022-09-09T16:28:59.085Z"
   },
   {
    "duration": 311,
    "start_time": "2022-09-09T16:28:59.101Z"
   },
   {
    "duration": 13,
    "start_time": "2022-09-09T16:28:59.414Z"
   },
   {
    "duration": 412,
    "start_time": "2022-09-09T16:28:59.430Z"
   },
   {
    "duration": 36,
    "start_time": "2022-09-09T16:28:59.844Z"
   },
   {
    "duration": 350,
    "start_time": "2022-09-09T16:28:59.883Z"
   },
   {
    "duration": 11,
    "start_time": "2022-09-09T16:29:00.235Z"
   },
   {
    "duration": 396,
    "start_time": "2022-09-09T16:29:00.247Z"
   },
   {
    "duration": 12,
    "start_time": "2022-09-09T16:29:00.645Z"
   },
   {
    "duration": 151,
    "start_time": "2022-09-09T16:29:00.658Z"
   },
   {
    "duration": 143,
    "start_time": "2022-09-09T16:29:00.810Z"
   },
   {
    "duration": 4,
    "start_time": "2022-09-09T16:29:00.955Z"
   },
   {
    "duration": 162,
    "start_time": "2022-09-09T16:29:00.968Z"
   },
   {
    "duration": 181,
    "start_time": "2022-09-09T16:29:01.132Z"
   },
   {
    "duration": 269,
    "start_time": "2022-09-09T16:29:01.315Z"
   },
   {
    "duration": 170,
    "start_time": "2022-09-09T16:29:01.587Z"
   },
   {
    "duration": 19,
    "start_time": "2022-09-09T16:29:01.759Z"
   },
   {
    "duration": 250,
    "start_time": "2022-09-09T16:29:01.781Z"
   },
   {
    "duration": 171,
    "start_time": "2022-09-09T16:29:02.033Z"
   },
   {
    "duration": 9,
    "start_time": "2022-09-09T16:29:02.205Z"
   },
   {
    "duration": 16,
    "start_time": "2022-09-09T16:29:02.215Z"
   },
   {
    "duration": 38,
    "start_time": "2022-09-09T16:29:02.232Z"
   },
   {
    "duration": 41,
    "start_time": "2022-09-09T16:29:02.272Z"
   },
   {
    "duration": 12,
    "start_time": "2022-09-09T16:29:02.315Z"
   },
   {
    "duration": 95,
    "start_time": "2022-09-09T16:29:26.333Z"
   },
   {
    "duration": 10,
    "start_time": "2022-09-09T16:30:07.234Z"
   },
   {
    "duration": 6,
    "start_time": "2022-09-09T16:30:14.628Z"
   },
   {
    "duration": 994,
    "start_time": "2022-10-03T10:38:18.444Z"
   },
   {
    "duration": 108,
    "start_time": "2022-10-03T10:38:19.440Z"
   },
   {
    "duration": 8,
    "start_time": "2022-10-03T10:38:19.549Z"
   },
   {
    "duration": 14,
    "start_time": "2022-10-03T10:38:19.558Z"
   },
   {
    "duration": 10,
    "start_time": "2022-10-03T10:38:19.574Z"
   },
   {
    "duration": 13,
    "start_time": "2022-10-03T10:38:19.586Z"
   },
   {
    "duration": 127,
    "start_time": "2022-10-03T10:38:19.608Z"
   },
   {
    "duration": 8,
    "start_time": "2022-10-03T10:38:19.737Z"
   },
   {
    "duration": 16,
    "start_time": "2022-10-03T10:38:19.747Z"
   },
   {
    "duration": 9,
    "start_time": "2022-10-03T10:38:19.764Z"
   },
   {
    "duration": 11,
    "start_time": "2022-10-03T10:38:19.774Z"
   },
   {
    "duration": 13,
    "start_time": "2022-10-03T10:38:19.786Z"
   },
   {
    "duration": 13,
    "start_time": "2022-10-03T10:38:19.800Z"
   },
   {
    "duration": 9,
    "start_time": "2022-10-03T10:38:19.816Z"
   },
   {
    "duration": 5,
    "start_time": "2022-10-03T10:38:19.827Z"
   },
   {
    "duration": 9,
    "start_time": "2022-10-03T10:38:19.833Z"
   },
   {
    "duration": 7,
    "start_time": "2022-10-03T10:38:19.843Z"
   },
   {
    "duration": 5,
    "start_time": "2022-10-03T10:38:19.851Z"
   },
   {
    "duration": 8,
    "start_time": "2022-10-03T10:38:19.857Z"
   },
   {
    "duration": 6,
    "start_time": "2022-10-03T10:38:19.866Z"
   },
   {
    "duration": 5,
    "start_time": "2022-10-03T10:38:19.873Z"
   },
   {
    "duration": 30,
    "start_time": "2022-10-03T10:38:19.879Z"
   },
   {
    "duration": 12,
    "start_time": "2022-10-03T10:38:19.911Z"
   },
   {
    "duration": 15,
    "start_time": "2022-10-03T10:38:19.924Z"
   },
   {
    "duration": 4,
    "start_time": "2022-10-03T10:38:19.941Z"
   },
   {
    "duration": 291,
    "start_time": "2022-10-03T10:38:19.946Z"
   },
   {
    "duration": 14,
    "start_time": "2022-10-03T10:38:20.238Z"
   },
   {
    "duration": 293,
    "start_time": "2022-10-03T10:38:20.253Z"
   },
   {
    "duration": 12,
    "start_time": "2022-10-03T10:38:20.548Z"
   },
   {
    "duration": 278,
    "start_time": "2022-10-03T10:38:20.562Z"
   },
   {
    "duration": 12,
    "start_time": "2022-10-03T10:38:20.842Z"
   },
   {
    "duration": 399,
    "start_time": "2022-10-03T10:38:20.856Z"
   },
   {
    "duration": 16,
    "start_time": "2022-10-03T10:38:21.257Z"
   },
   {
    "duration": 298,
    "start_time": "2022-10-03T10:38:21.274Z"
   },
   {
    "duration": 10,
    "start_time": "2022-10-03T10:38:21.574Z"
   },
   {
    "duration": 384,
    "start_time": "2022-10-03T10:38:21.586Z"
   },
   {
    "duration": 10,
    "start_time": "2022-10-03T10:38:21.972Z"
   },
   {
    "duration": 122,
    "start_time": "2022-10-03T10:38:21.984Z"
   },
   {
    "duration": 132,
    "start_time": "2022-10-03T10:38:22.109Z"
   },
   {
    "duration": 4,
    "start_time": "2022-10-03T10:38:22.243Z"
   },
   {
    "duration": 143,
    "start_time": "2022-10-03T10:38:22.250Z"
   },
   {
    "duration": 153,
    "start_time": "2022-10-03T10:38:22.394Z"
   },
   {
    "duration": 268,
    "start_time": "2022-10-03T10:38:22.549Z"
   },
   {
    "duration": 151,
    "start_time": "2022-10-03T10:38:22.819Z"
   },
   {
    "duration": 4,
    "start_time": "2022-10-03T10:38:22.971Z"
   },
   {
    "duration": 223,
    "start_time": "2022-10-03T10:38:22.976Z"
   },
   {
    "duration": 167,
    "start_time": "2022-10-03T10:38:23.209Z"
   },
   {
    "duration": 8,
    "start_time": "2022-10-03T10:38:23.378Z"
   },
   {
    "duration": 25,
    "start_time": "2022-10-03T10:38:23.388Z"
   },
   {
    "duration": 6,
    "start_time": "2022-10-03T10:38:23.415Z"
   },
   {
    "duration": 26,
    "start_time": "2022-10-03T10:38:23.422Z"
   },
   {
    "duration": 9,
    "start_time": "2022-10-03T10:38:23.449Z"
   }
  ],
  "kernelspec": {
   "display_name": "Python 3 (ipykernel)",
   "language": "python",
   "name": "python3"
  },
  "language_info": {
   "codemirror_mode": {
    "name": "ipython",
    "version": 3
   },
   "file_extension": ".py",
   "mimetype": "text/x-python",
   "name": "python",
   "nbconvert_exporter": "python",
   "pygments_lexer": "ipython3",
   "version": "3.9.5"
  },
  "toc": {
   "base_numbering": 1,
   "nav_menu": {},
   "number_sections": true,
   "sideBar": true,
   "skip_h1_title": true,
   "title_cell": "Table of Contents",
   "title_sidebar": "Contents",
   "toc_cell": false,
   "toc_position": {},
   "toc_section_display": true,
   "toc_window_display": false
  }
 },
 "nbformat": 4,
 "nbformat_minor": 2
}
