{
 "cells": [
  {
   "cell_type": "markdown",
   "metadata": {},
   "source": [
    "# Исследование поведения пользователей приложения по продаже продуктов питания"
   ]
  },
  {
   "cell_type": "markdown",
   "metadata": {},
   "source": [
    "## **Шаг 1. Подготовка данных**"
   ]
  },
  {
   "cell_type": "markdown",
   "metadata": {},
   "source": [
    "Вызовем все библиотеки, которые могут понадобиться для выполнения проекта:"
   ]
  },
  {
   "cell_type": "code",
   "execution_count": 1,
   "metadata": {},
   "outputs": [],
   "source": [
    "import pandas as pd\n",
    "import matplotlib.pyplot as plt\n",
    "import numpy as np\n",
    "import datetime as dt\n",
    "import scipy.stats as st\n",
    "import math as mth"
   ]
  },
  {
   "cell_type": "markdown",
   "metadata": {},
   "source": [
    "Откроем файл с данными и изучим общую информацию:"
   ]
  },
  {
   "cell_type": "code",
   "execution_count": 2,
   "metadata": {},
   "outputs": [],
   "source": [
    "data = pd.read_csv('/datasets/logs_exp.csv', sep='\\t')"
   ]
  },
  {
   "cell_type": "code",
   "execution_count": 3,
   "metadata": {},
   "outputs": [
    {
     "data": {
      "text/html": [
       "<div>\n",
       "<style scoped>\n",
       "    .dataframe tbody tr th:only-of-type {\n",
       "        vertical-align: middle;\n",
       "    }\n",
       "\n",
       "    .dataframe tbody tr th {\n",
       "        vertical-align: top;\n",
       "    }\n",
       "\n",
       "    .dataframe thead th {\n",
       "        text-align: right;\n",
       "    }\n",
       "</style>\n",
       "<table border=\"1\" class=\"dataframe\">\n",
       "  <thead>\n",
       "    <tr style=\"text-align: right;\">\n",
       "      <th></th>\n",
       "      <th>EventName</th>\n",
       "      <th>DeviceIDHash</th>\n",
       "      <th>EventTimestamp</th>\n",
       "      <th>ExpId</th>\n",
       "    </tr>\n",
       "  </thead>\n",
       "  <tbody>\n",
       "    <tr>\n",
       "      <th>0</th>\n",
       "      <td>MainScreenAppear</td>\n",
       "      <td>4575588528974610257</td>\n",
       "      <td>1564029816</td>\n",
       "      <td>246</td>\n",
       "    </tr>\n",
       "    <tr>\n",
       "      <th>1</th>\n",
       "      <td>MainScreenAppear</td>\n",
       "      <td>7416695313311560658</td>\n",
       "      <td>1564053102</td>\n",
       "      <td>246</td>\n",
       "    </tr>\n",
       "    <tr>\n",
       "      <th>2</th>\n",
       "      <td>PaymentScreenSuccessful</td>\n",
       "      <td>3518123091307005509</td>\n",
       "      <td>1564054127</td>\n",
       "      <td>248</td>\n",
       "    </tr>\n",
       "    <tr>\n",
       "      <th>3</th>\n",
       "      <td>CartScreenAppear</td>\n",
       "      <td>3518123091307005509</td>\n",
       "      <td>1564054127</td>\n",
       "      <td>248</td>\n",
       "    </tr>\n",
       "    <tr>\n",
       "      <th>4</th>\n",
       "      <td>PaymentScreenSuccessful</td>\n",
       "      <td>6217807653094995999</td>\n",
       "      <td>1564055322</td>\n",
       "      <td>248</td>\n",
       "    </tr>\n",
       "  </tbody>\n",
       "</table>\n",
       "</div>"
      ],
      "text/plain": [
       "                 EventName         DeviceIDHash  EventTimestamp  ExpId\n",
       "0         MainScreenAppear  4575588528974610257      1564029816    246\n",
       "1         MainScreenAppear  7416695313311560658      1564053102    246\n",
       "2  PaymentScreenSuccessful  3518123091307005509      1564054127    248\n",
       "3         CartScreenAppear  3518123091307005509      1564054127    248\n",
       "4  PaymentScreenSuccessful  6217807653094995999      1564055322    248"
      ]
     },
     "execution_count": 3,
     "metadata": {},
     "output_type": "execute_result"
    }
   ],
   "source": [
    "data.head()"
   ]
  },
  {
   "cell_type": "code",
   "execution_count": 4,
   "metadata": {},
   "outputs": [
    {
     "name": "stdout",
     "output_type": "stream",
     "text": [
      "<class 'pandas.core.frame.DataFrame'>\n",
      "RangeIndex: 244126 entries, 0 to 244125\n",
      "Data columns (total 4 columns):\n",
      " #   Column          Non-Null Count   Dtype \n",
      "---  ------          --------------   ----- \n",
      " 0   EventName       244126 non-null  object\n",
      " 1   DeviceIDHash    244126 non-null  int64 \n",
      " 2   EventTimestamp  244126 non-null  int64 \n",
      " 3   ExpId           244126 non-null  int64 \n",
      "dtypes: int64(3), object(1)\n",
      "memory usage: 7.5+ MB\n"
     ]
    }
   ],
   "source": [
    "data.info()"
   ]
  },
  {
   "cell_type": "markdown",
   "metadata": {},
   "source": [
    "На первый взгляд явных проблем с данными нет. По крайней мере, пропуски отсутствуют, и типы данных не требуют замены.\n",
    "Для дальнейшей работы нам потребуется сделать следующее:\n",
    "\n",
    "1. Переименовать столбцы.\n",
    "2. Добавить столбец даты и времени, а также отдельный столбец дат.\n",
    "3. Проверить на наличие дубликатов."
   ]
  },
  {
   "cell_type": "code",
   "execution_count": 5,
   "metadata": {},
   "outputs": [
    {
     "data": {
      "text/html": [
       "<div>\n",
       "<style scoped>\n",
       "    .dataframe tbody tr th:only-of-type {\n",
       "        vertical-align: middle;\n",
       "    }\n",
       "\n",
       "    .dataframe tbody tr th {\n",
       "        vertical-align: top;\n",
       "    }\n",
       "\n",
       "    .dataframe thead th {\n",
       "        text-align: right;\n",
       "    }\n",
       "</style>\n",
       "<table border=\"1\" class=\"dataframe\">\n",
       "  <thead>\n",
       "    <tr style=\"text-align: right;\">\n",
       "      <th></th>\n",
       "      <th>event</th>\n",
       "      <th>user_id</th>\n",
       "      <th>event_ts</th>\n",
       "      <th>group</th>\n",
       "    </tr>\n",
       "  </thead>\n",
       "  <tbody>\n",
       "    <tr>\n",
       "      <th>0</th>\n",
       "      <td>MainScreenAppear</td>\n",
       "      <td>4575588528974610257</td>\n",
       "      <td>1564029816</td>\n",
       "      <td>246</td>\n",
       "    </tr>\n",
       "    <tr>\n",
       "      <th>1</th>\n",
       "      <td>MainScreenAppear</td>\n",
       "      <td>7416695313311560658</td>\n",
       "      <td>1564053102</td>\n",
       "      <td>246</td>\n",
       "    </tr>\n",
       "    <tr>\n",
       "      <th>2</th>\n",
       "      <td>PaymentScreenSuccessful</td>\n",
       "      <td>3518123091307005509</td>\n",
       "      <td>1564054127</td>\n",
       "      <td>248</td>\n",
       "    </tr>\n",
       "    <tr>\n",
       "      <th>3</th>\n",
       "      <td>CartScreenAppear</td>\n",
       "      <td>3518123091307005509</td>\n",
       "      <td>1564054127</td>\n",
       "      <td>248</td>\n",
       "    </tr>\n",
       "    <tr>\n",
       "      <th>4</th>\n",
       "      <td>PaymentScreenSuccessful</td>\n",
       "      <td>6217807653094995999</td>\n",
       "      <td>1564055322</td>\n",
       "      <td>248</td>\n",
       "    </tr>\n",
       "  </tbody>\n",
       "</table>\n",
       "</div>"
      ],
      "text/plain": [
       "                     event              user_id    event_ts  group\n",
       "0         MainScreenAppear  4575588528974610257  1564029816    246\n",
       "1         MainScreenAppear  7416695313311560658  1564053102    246\n",
       "2  PaymentScreenSuccessful  3518123091307005509  1564054127    248\n",
       "3         CartScreenAppear  3518123091307005509  1564054127    248\n",
       "4  PaymentScreenSuccessful  6217807653094995999  1564055322    248"
      ]
     },
     "execution_count": 5,
     "metadata": {},
     "output_type": "execute_result"
    }
   ],
   "source": [
    "data.columns = ['event', 'user_id', 'event_ts', 'group']\n",
    "data.head()"
   ]
  },
  {
   "cell_type": "markdown",
   "metadata": {},
   "source": [
    "Столбцы переименовали. Можно двигаться дальше."
   ]
  },
  {
   "cell_type": "code",
   "execution_count": 6,
   "metadata": {},
   "outputs": [
    {
     "data": {
      "text/html": [
       "<div>\n",
       "<style scoped>\n",
       "    .dataframe tbody tr th:only-of-type {\n",
       "        vertical-align: middle;\n",
       "    }\n",
       "\n",
       "    .dataframe tbody tr th {\n",
       "        vertical-align: top;\n",
       "    }\n",
       "\n",
       "    .dataframe thead th {\n",
       "        text-align: right;\n",
       "    }\n",
       "</style>\n",
       "<table border=\"1\" class=\"dataframe\">\n",
       "  <thead>\n",
       "    <tr style=\"text-align: right;\">\n",
       "      <th></th>\n",
       "      <th>event</th>\n",
       "      <th>user_id</th>\n",
       "      <th>event_ts</th>\n",
       "      <th>group</th>\n",
       "      <th>dt</th>\n",
       "      <th>date</th>\n",
       "    </tr>\n",
       "  </thead>\n",
       "  <tbody>\n",
       "    <tr>\n",
       "      <th>0</th>\n",
       "      <td>MainScreenAppear</td>\n",
       "      <td>4575588528974610257</td>\n",
       "      <td>1564029816</td>\n",
       "      <td>246</td>\n",
       "      <td>2019-07-25 04:43:36</td>\n",
       "      <td>2019-07-25</td>\n",
       "    </tr>\n",
       "    <tr>\n",
       "      <th>1</th>\n",
       "      <td>MainScreenAppear</td>\n",
       "      <td>7416695313311560658</td>\n",
       "      <td>1564053102</td>\n",
       "      <td>246</td>\n",
       "      <td>2019-07-25 11:11:42</td>\n",
       "      <td>2019-07-25</td>\n",
       "    </tr>\n",
       "    <tr>\n",
       "      <th>2</th>\n",
       "      <td>PaymentScreenSuccessful</td>\n",
       "      <td>3518123091307005509</td>\n",
       "      <td>1564054127</td>\n",
       "      <td>248</td>\n",
       "      <td>2019-07-25 11:28:47</td>\n",
       "      <td>2019-07-25</td>\n",
       "    </tr>\n",
       "    <tr>\n",
       "      <th>3</th>\n",
       "      <td>CartScreenAppear</td>\n",
       "      <td>3518123091307005509</td>\n",
       "      <td>1564054127</td>\n",
       "      <td>248</td>\n",
       "      <td>2019-07-25 11:28:47</td>\n",
       "      <td>2019-07-25</td>\n",
       "    </tr>\n",
       "    <tr>\n",
       "      <th>4</th>\n",
       "      <td>PaymentScreenSuccessful</td>\n",
       "      <td>6217807653094995999</td>\n",
       "      <td>1564055322</td>\n",
       "      <td>248</td>\n",
       "      <td>2019-07-25 11:48:42</td>\n",
       "      <td>2019-07-25</td>\n",
       "    </tr>\n",
       "  </tbody>\n",
       "</table>\n",
       "</div>"
      ],
      "text/plain": [
       "                     event              user_id    event_ts  group  \\\n",
       "0         MainScreenAppear  4575588528974610257  1564029816    246   \n",
       "1         MainScreenAppear  7416695313311560658  1564053102    246   \n",
       "2  PaymentScreenSuccessful  3518123091307005509  1564054127    248   \n",
       "3         CartScreenAppear  3518123091307005509  1564054127    248   \n",
       "4  PaymentScreenSuccessful  6217807653094995999  1564055322    248   \n",
       "\n",
       "                   dt        date  \n",
       "0 2019-07-25 04:43:36  2019-07-25  \n",
       "1 2019-07-25 11:11:42  2019-07-25  \n",
       "2 2019-07-25 11:28:47  2019-07-25  \n",
       "3 2019-07-25 11:28:47  2019-07-25  \n",
       "4 2019-07-25 11:48:42  2019-07-25  "
      ]
     },
     "execution_count": 6,
     "metadata": {},
     "output_type": "execute_result"
    }
   ],
   "source": [
    "data['dt'] = pd.to_datetime(data['event_ts'], unit='s') # перевели данные из столбца \"event_ts\" в дату и время\n",
    "data['date'] = data['dt'].dt.date # выделили из данных из столбца dt только дату\n",
    "data.head()"
   ]
  },
  {
   "cell_type": "code",
   "execution_count": 7,
   "metadata": {},
   "outputs": [
    {
     "name": "stdout",
     "output_type": "stream",
     "text": [
      "<class 'pandas.core.frame.DataFrame'>\n",
      "RangeIndex: 244126 entries, 0 to 244125\n",
      "Data columns (total 6 columns):\n",
      " #   Column    Non-Null Count   Dtype         \n",
      "---  ------    --------------   -----         \n",
      " 0   event     244126 non-null  object        \n",
      " 1   user_id   244126 non-null  int64         \n",
      " 2   event_ts  244126 non-null  int64         \n",
      " 3   group     244126 non-null  int64         \n",
      " 4   dt        244126 non-null  datetime64[ns]\n",
      " 5   date      244126 non-null  object        \n",
      "dtypes: datetime64[ns](1), int64(3), object(2)\n",
      "memory usage: 11.2+ MB\n"
     ]
    }
   ],
   "source": [
    "data.info()"
   ]
  },
  {
   "cell_type": "markdown",
   "metadata": {},
   "source": [
    "В столбце \"date\" данные нужно привести к формату datetime:"
   ]
  },
  {
   "cell_type": "code",
   "execution_count": 8,
   "metadata": {},
   "outputs": [
    {
     "name": "stdout",
     "output_type": "stream",
     "text": [
      "<class 'pandas.core.frame.DataFrame'>\n",
      "RangeIndex: 244126 entries, 0 to 244125\n",
      "Data columns (total 6 columns):\n",
      " #   Column    Non-Null Count   Dtype         \n",
      "---  ------    --------------   -----         \n",
      " 0   event     244126 non-null  object        \n",
      " 1   user_id   244126 non-null  int64         \n",
      " 2   event_ts  244126 non-null  int64         \n",
      " 3   group     244126 non-null  int64         \n",
      " 4   dt        244126 non-null  datetime64[ns]\n",
      " 5   date      244126 non-null  datetime64[ns]\n",
      "dtypes: datetime64[ns](2), int64(3), object(1)\n",
      "memory usage: 11.2+ MB\n"
     ]
    }
   ],
   "source": [
    "data['date'] = data['date'].astype('datetime64')\n",
    "data.info()"
   ]
  },
  {
   "cell_type": "markdown",
   "metadata": {},
   "source": [
    "Осталось провести проверку на наличие дубликатов:"
   ]
  },
  {
   "cell_type": "code",
   "execution_count": 9,
   "metadata": {},
   "outputs": [
    {
     "data": {
      "text/plain": [
       "413"
      ]
     },
     "execution_count": 9,
     "metadata": {},
     "output_type": "execute_result"
    }
   ],
   "source": [
    "num_of_dub = data.duplicated().sum()\n",
    "num_of_dub"
   ]
  },
  {
   "cell_type": "code",
   "execution_count": 10,
   "metadata": {},
   "outputs": [
    {
     "data": {
      "text/plain": [
       "0.17"
      ]
     },
     "execution_count": 10,
     "metadata": {},
     "output_type": "execute_result"
    }
   ],
   "source": [
    "dub_ratio = num_of_dub/len(data['user_id'])*100\n",
    "dub_ratio.round(2)"
   ]
  },
  {
   "cell_type": "markdown",
   "metadata": {},
   "source": [
    "В нашем датасете мы имеем 413 дубликатов, что составляет всего примерно 0,17 % от всех данных. Их можно безболезненно удалить."
   ]
  },
  {
   "cell_type": "code",
   "execution_count": 11,
   "metadata": {},
   "outputs": [
    {
     "name": "stdout",
     "output_type": "stream",
     "text": [
      "<class 'pandas.core.frame.DataFrame'>\n",
      "RangeIndex: 243713 entries, 0 to 243712\n",
      "Data columns (total 6 columns):\n",
      " #   Column    Non-Null Count   Dtype         \n",
      "---  ------    --------------   -----         \n",
      " 0   event     243713 non-null  object        \n",
      " 1   user_id   243713 non-null  int64         \n",
      " 2   event_ts  243713 non-null  int64         \n",
      " 3   group     243713 non-null  int64         \n",
      " 4   dt        243713 non-null  datetime64[ns]\n",
      " 5   date      243713 non-null  datetime64[ns]\n",
      "dtypes: datetime64[ns](2), int64(3), object(1)\n",
      "memory usage: 11.2+ MB\n"
     ]
    }
   ],
   "source": [
    "data = data.drop_duplicates().reset_index(drop=True)\n",
    "data.info()"
   ]
  },
  {
   "cell_type": "code",
   "execution_count": 12,
   "metadata": {},
   "outputs": [
    {
     "data": {
      "text/html": [
       "<div>\n",
       "<style scoped>\n",
       "    .dataframe tbody tr th:only-of-type {\n",
       "        vertical-align: middle;\n",
       "    }\n",
       "\n",
       "    .dataframe tbody tr th {\n",
       "        vertical-align: top;\n",
       "    }\n",
       "\n",
       "    .dataframe thead th {\n",
       "        text-align: right;\n",
       "    }\n",
       "</style>\n",
       "<table border=\"1\" class=\"dataframe\">\n",
       "  <thead>\n",
       "    <tr style=\"text-align: right;\">\n",
       "      <th></th>\n",
       "      <th>event</th>\n",
       "      <th>user_id</th>\n",
       "      <th>event_ts</th>\n",
       "      <th>group</th>\n",
       "      <th>dt</th>\n",
       "      <th>date</th>\n",
       "    </tr>\n",
       "  </thead>\n",
       "  <tbody>\n",
       "    <tr>\n",
       "      <th>0</th>\n",
       "      <td>MainScreenAppear</td>\n",
       "      <td>4575588528974610257</td>\n",
       "      <td>1564029816</td>\n",
       "      <td>246</td>\n",
       "      <td>2019-07-25 04:43:36</td>\n",
       "      <td>2019-07-25</td>\n",
       "    </tr>\n",
       "    <tr>\n",
       "      <th>1</th>\n",
       "      <td>MainScreenAppear</td>\n",
       "      <td>7416695313311560658</td>\n",
       "      <td>1564053102</td>\n",
       "      <td>246</td>\n",
       "      <td>2019-07-25 11:11:42</td>\n",
       "      <td>2019-07-25</td>\n",
       "    </tr>\n",
       "    <tr>\n",
       "      <th>2</th>\n",
       "      <td>PaymentScreenSuccessful</td>\n",
       "      <td>3518123091307005509</td>\n",
       "      <td>1564054127</td>\n",
       "      <td>248</td>\n",
       "      <td>2019-07-25 11:28:47</td>\n",
       "      <td>2019-07-25</td>\n",
       "    </tr>\n",
       "    <tr>\n",
       "      <th>3</th>\n",
       "      <td>CartScreenAppear</td>\n",
       "      <td>3518123091307005509</td>\n",
       "      <td>1564054127</td>\n",
       "      <td>248</td>\n",
       "      <td>2019-07-25 11:28:47</td>\n",
       "      <td>2019-07-25</td>\n",
       "    </tr>\n",
       "    <tr>\n",
       "      <th>4</th>\n",
       "      <td>PaymentScreenSuccessful</td>\n",
       "      <td>6217807653094995999</td>\n",
       "      <td>1564055322</td>\n",
       "      <td>248</td>\n",
       "      <td>2019-07-25 11:48:42</td>\n",
       "      <td>2019-07-25</td>\n",
       "    </tr>\n",
       "    <tr>\n",
       "      <th>...</th>\n",
       "      <td>...</td>\n",
       "      <td>...</td>\n",
       "      <td>...</td>\n",
       "      <td>...</td>\n",
       "      <td>...</td>\n",
       "      <td>...</td>\n",
       "    </tr>\n",
       "    <tr>\n",
       "      <th>243708</th>\n",
       "      <td>MainScreenAppear</td>\n",
       "      <td>4599628364049201812</td>\n",
       "      <td>1565212345</td>\n",
       "      <td>247</td>\n",
       "      <td>2019-08-07 21:12:25</td>\n",
       "      <td>2019-08-07</td>\n",
       "    </tr>\n",
       "    <tr>\n",
       "      <th>243709</th>\n",
       "      <td>MainScreenAppear</td>\n",
       "      <td>5849806612437486590</td>\n",
       "      <td>1565212439</td>\n",
       "      <td>246</td>\n",
       "      <td>2019-08-07 21:13:59</td>\n",
       "      <td>2019-08-07</td>\n",
       "    </tr>\n",
       "    <tr>\n",
       "      <th>243710</th>\n",
       "      <td>MainScreenAppear</td>\n",
       "      <td>5746969938801999050</td>\n",
       "      <td>1565212483</td>\n",
       "      <td>246</td>\n",
       "      <td>2019-08-07 21:14:43</td>\n",
       "      <td>2019-08-07</td>\n",
       "    </tr>\n",
       "    <tr>\n",
       "      <th>243711</th>\n",
       "      <td>MainScreenAppear</td>\n",
       "      <td>5746969938801999050</td>\n",
       "      <td>1565212498</td>\n",
       "      <td>246</td>\n",
       "      <td>2019-08-07 21:14:58</td>\n",
       "      <td>2019-08-07</td>\n",
       "    </tr>\n",
       "    <tr>\n",
       "      <th>243712</th>\n",
       "      <td>OffersScreenAppear</td>\n",
       "      <td>5746969938801999050</td>\n",
       "      <td>1565212517</td>\n",
       "      <td>246</td>\n",
       "      <td>2019-08-07 21:15:17</td>\n",
       "      <td>2019-08-07</td>\n",
       "    </tr>\n",
       "  </tbody>\n",
       "</table>\n",
       "<p>243713 rows × 6 columns</p>\n",
       "</div>"
      ],
      "text/plain": [
       "                          event              user_id    event_ts  group  \\\n",
       "0              MainScreenAppear  4575588528974610257  1564029816    246   \n",
       "1              MainScreenAppear  7416695313311560658  1564053102    246   \n",
       "2       PaymentScreenSuccessful  3518123091307005509  1564054127    248   \n",
       "3              CartScreenAppear  3518123091307005509  1564054127    248   \n",
       "4       PaymentScreenSuccessful  6217807653094995999  1564055322    248   \n",
       "...                         ...                  ...         ...    ...   \n",
       "243708         MainScreenAppear  4599628364049201812  1565212345    247   \n",
       "243709         MainScreenAppear  5849806612437486590  1565212439    246   \n",
       "243710         MainScreenAppear  5746969938801999050  1565212483    246   \n",
       "243711         MainScreenAppear  5746969938801999050  1565212498    246   \n",
       "243712       OffersScreenAppear  5746969938801999050  1565212517    246   \n",
       "\n",
       "                        dt       date  \n",
       "0      2019-07-25 04:43:36 2019-07-25  \n",
       "1      2019-07-25 11:11:42 2019-07-25  \n",
       "2      2019-07-25 11:28:47 2019-07-25  \n",
       "3      2019-07-25 11:28:47 2019-07-25  \n",
       "4      2019-07-25 11:48:42 2019-07-25  \n",
       "...                    ...        ...  \n",
       "243708 2019-08-07 21:12:25 2019-08-07  \n",
       "243709 2019-08-07 21:13:59 2019-08-07  \n",
       "243710 2019-08-07 21:14:43 2019-08-07  \n",
       "243711 2019-08-07 21:14:58 2019-08-07  \n",
       "243712 2019-08-07 21:15:17 2019-08-07  \n",
       "\n",
       "[243713 rows x 6 columns]"
      ]
     },
     "execution_count": 12,
     "metadata": {},
     "output_type": "execute_result"
    }
   ],
   "source": [
    "data"
   ]
  },
  {
   "cell_type": "markdown",
   "metadata": {},
   "source": [
    "**Вывод по шагу 1:**\n",
    "\n",
    "На данном шаге была произведена предобработка изучаемых данных:\n",
    "* переименованы столбцы;\n",
    "* добавлены столбцы с датой и временем, а также отдельно с датой;\n",
    "* проведена проверка на наличие дубликатов, с последующим их удалением.\n",
    "\n",
    "На следующем шаге изучим таблицу более подробно."
   ]
  },
  {
   "cell_type": "markdown",
   "metadata": {},
   "source": [
    "## **Шаг 2. Изучение и проверка данных**"
   ]
  },
  {
   "cell_type": "markdown",
   "metadata": {},
   "source": [
    "На данном шаге нужно будет выполнить следующие действия:\n",
    "\n",
    "* посмотреть, сколько всего событий, пользователей в логе, и сколько в среднем событий приходится на одного пользователя;\n",
    "* определить, данными за какой период времени мы располагаем;\n",
    "* изучить, насколько полные данные мы имеем и как они распределены по времени;\n",
    "* окончательно подготовить данные для проведения A/A/B-теста."
   ]
  },
  {
   "cell_type": "markdown",
   "metadata": {},
   "source": [
    "Начнем с определения количества событий в логе:"
   ]
  },
  {
   "cell_type": "code",
   "execution_count": 13,
   "metadata": {},
   "outputs": [
    {
     "data": {
      "text/plain": [
       "5"
      ]
     },
     "execution_count": 13,
     "metadata": {},
     "output_type": "execute_result"
    }
   ],
   "source": [
    "data['event'].nunique()"
   ]
  },
  {
   "cell_type": "markdown",
   "metadata": {},
   "source": [
    "В логе мы имеем 5 уникальных событий. Посмотрим, как они распределены количественно:"
   ]
  },
  {
   "cell_type": "code",
   "execution_count": 14,
   "metadata": {},
   "outputs": [
    {
     "data": {
      "text/plain": [
       "MainScreenAppear           119101\n",
       "OffersScreenAppear          46808\n",
       "CartScreenAppear            42668\n",
       "PaymentScreenSuccessful     34118\n",
       "Tutorial                     1018\n",
       "Name: event, dtype: int64"
      ]
     },
     "execution_count": 14,
     "metadata": {},
     "output_type": "execute_result"
    }
   ],
   "source": [
    "data['event'].value_counts()"
   ]
  },
  {
   "cell_type": "markdown",
   "metadata": {},
   "source": [
    "Теперь посмотрим, сколько всего пользователей в логе, и как они распределены по группам:"
   ]
  },
  {
   "cell_type": "code",
   "execution_count": 15,
   "metadata": {},
   "outputs": [
    {
     "data": {
      "text/plain": [
       "7551"
      ]
     },
     "execution_count": 15,
     "metadata": {},
     "output_type": "execute_result"
    }
   ],
   "source": [
    "data['user_id'].nunique()"
   ]
  },
  {
   "cell_type": "code",
   "execution_count": 16,
   "metadata": {},
   "outputs": [
    {
     "data": {
      "text/plain": [
       "array([246, 248, 247])"
      ]
     },
     "execution_count": 16,
     "metadata": {},
     "output_type": "execute_result"
    }
   ],
   "source": [
    "data['group'].unique()"
   ]
  },
  {
   "cell_type": "markdown",
   "metadata": {},
   "source": [
    "Всего 7551 пользователь. Все пользователи распределены по 3 группам. Посмотрим, как они распределены:"
   ]
  },
  {
   "cell_type": "code",
   "execution_count": 17,
   "metadata": {},
   "outputs": [
    {
     "name": "stdout",
     "output_type": "stream",
     "text": [
      "В группе 246 -  2489 пользователей.\n",
      "В группе 247 -  2520 пользователей.\n",
      "В группе 248 -  2542 пользователя.\n"
     ]
    }
   ],
   "source": [
    "a1 = data.loc[data['group']==246]['user_id'].nunique()\n",
    "a2 = data.loc[data['group']==247]['user_id'].nunique()\n",
    "b = data.loc[data['group']==248]['user_id'].nunique()\n",
    "print('В группе 246 - ', a1, 'пользователей.')\n",
    "print('В группе 247 - ', a2, 'пользователей.')\n",
    "print('В группе 248 - ', b, 'пользователя.')"
   ]
  },
  {
   "cell_type": "markdown",
   "metadata": {},
   "source": [
    "На всякий случай убедимся, что в сумме получится общее число уникальных пользователей:"
   ]
  },
  {
   "cell_type": "code",
   "execution_count": 18,
   "metadata": {},
   "outputs": [
    {
     "data": {
      "text/plain": [
       "7551"
      ]
     },
     "execution_count": 18,
     "metadata": {},
     "output_type": "execute_result"
    }
   ],
   "source": [
    "sum = a1 + a2 + b\n",
    "sum"
   ]
  },
  {
   "cell_type": "markdown",
   "metadata": {},
   "source": [
    "Все верно. Таким образом все пользователи распределены по 3 группам."
   ]
  },
  {
   "cell_type": "markdown",
   "metadata": {},
   "source": [
    "Теперь определим, сколько событий в среднем приходится на одного пользователя. Для этого разделим общее число событий на общее число уникальных пользователей:"
   ]
  },
  {
   "cell_type": "code",
   "execution_count": 19,
   "metadata": {},
   "outputs": [
    {
     "name": "stdout",
     "output_type": "stream",
     "text": [
      "Среднее количество событий на одного пользователя: 32.28\n"
     ]
    }
   ],
   "source": [
    "mean_events = len(data['event'])/sum\n",
    "print('Среднее количество событий на одного пользователя:', \"{0:.2f}\".format(mean_events))"
   ]
  },
  {
   "cell_type": "markdown",
   "metadata": {},
   "source": [
    "Далее можно определить, за какой период времени у нас имеются данные:"
   ]
  },
  {
   "cell_type": "code",
   "execution_count": 20,
   "metadata": {},
   "outputs": [
    {
     "name": "stdout",
     "output_type": "stream",
     "text": [
      "Имеются данные с 2019-07-25 00:00:00 по 2019-08-07 00:00:00\n"
     ]
    }
   ],
   "source": [
    "min_date = data['date'].min()\n",
    "max_date = data['date'].max()\n",
    "print('Имеются данные с', min_date, 'по', max_date)"
   ]
  },
  {
   "cell_type": "markdown",
   "metadata": {},
   "source": [
    "Таким образом мы имеем данные с 25 июля по 7 августа (т.е. за 14 дней)"
   ]
  },
  {
   "cell_type": "markdown",
   "metadata": {},
   "source": [
    "Определим, как распределены события во времени. Для этого построим гистограмму:"
   ]
  },
  {
   "cell_type": "code",
   "execution_count": 55,
   "metadata": {},
   "outputs": [
    {
     "data": {
      "image/png": "[encoded data removed]",
      "text/plain": [
       "<Figure size 1440x432 with 1 Axes>"
      ]
     },
     "metadata": {
      "needs_background": "light"
     },
     "output_type": "display_data"
    }
   ],
   "source": [
    "data['dt'].hist(figsize=(20,6), bins=1000)\n",
    "plt.xlabel('Дата', fontsize=20)\n",
    "plt.ylabel('Число событий', fontsize=20)\n",
    "plt.title('Изменение количества событий во времени', fontsize=20)\n",
    "plt.show()"
   ]
  },
  {
   "cell_type": "markdown",
   "metadata": {},
   "source": [
    "Посмотрим, на численное распределение событий по датам:"
   ]
  },
  {
   "cell_type": "code",
   "execution_count": 22,
   "metadata": {},
   "outputs": [
    {
     "data": {
      "text/plain": [
       "date\n",
       "2019-07-25        9\n",
       "2019-07-26       31\n",
       "2019-07-27       55\n",
       "2019-07-28      105\n",
       "2019-07-29      184\n",
       "2019-07-30      412\n",
       "2019-07-31     2030\n",
       "2019-08-01    36141\n",
       "2019-08-02    35554\n",
       "2019-08-03    33282\n",
       "2019-08-04    32968\n",
       "2019-08-05    36058\n",
       "2019-08-06    35788\n",
       "2019-08-07    31096\n",
       "Name: event, dtype: int64"
      ]
     },
     "execution_count": 22,
     "metadata": {},
     "output_type": "execute_result"
    }
   ],
   "source": [
    "events_by_day = data.groupby('date')['event'].count()\n",
    "events_by_day"
   ]
  },
  {
   "cell_type": "markdown",
   "metadata": {},
   "source": [
    "Как видно по гистограмме, а также по численным значениям, основные события стали происходить с 1 августа 2019 года. Поэтому все данные, которые были получены ранее этой даты можно удалить."
   ]
  },
  {
   "cell_type": "code",
   "execution_count": 23,
   "metadata": {},
   "outputs": [
    {
     "data": {
      "text/html": [
       "<div>\n",
       "<style scoped>\n",
       "    .dataframe tbody tr th:only-of-type {\n",
       "        vertical-align: middle;\n",
       "    }\n",
       "\n",
       "    .dataframe tbody tr th {\n",
       "        vertical-align: top;\n",
       "    }\n",
       "\n",
       "    .dataframe thead th {\n",
       "        text-align: right;\n",
       "    }\n",
       "</style>\n",
       "<table border=\"1\" class=\"dataframe\">\n",
       "  <thead>\n",
       "    <tr style=\"text-align: right;\">\n",
       "      <th></th>\n",
       "      <th>event</th>\n",
       "      <th>user_id</th>\n",
       "      <th>event_ts</th>\n",
       "      <th>group</th>\n",
       "      <th>dt</th>\n",
       "      <th>date</th>\n",
       "    </tr>\n",
       "  </thead>\n",
       "  <tbody>\n",
       "    <tr>\n",
       "      <th>0</th>\n",
       "      <td>Tutorial</td>\n",
       "      <td>3737462046622621720</td>\n",
       "      <td>1564618048</td>\n",
       "      <td>246</td>\n",
       "      <td>2019-08-01 00:07:28</td>\n",
       "      <td>2019-08-01</td>\n",
       "    </tr>\n",
       "    <tr>\n",
       "      <th>1</th>\n",
       "      <td>MainScreenAppear</td>\n",
       "      <td>3737462046622621720</td>\n",
       "      <td>1564618080</td>\n",
       "      <td>246</td>\n",
       "      <td>2019-08-01 00:08:00</td>\n",
       "      <td>2019-08-01</td>\n",
       "    </tr>\n",
       "    <tr>\n",
       "      <th>2</th>\n",
       "      <td>MainScreenAppear</td>\n",
       "      <td>3737462046622621720</td>\n",
       "      <td>1564618135</td>\n",
       "      <td>246</td>\n",
       "      <td>2019-08-01 00:08:55</td>\n",
       "      <td>2019-08-01</td>\n",
       "    </tr>\n",
       "    <tr>\n",
       "      <th>3</th>\n",
       "      <td>OffersScreenAppear</td>\n",
       "      <td>3737462046622621720</td>\n",
       "      <td>1564618138</td>\n",
       "      <td>246</td>\n",
       "      <td>2019-08-01 00:08:58</td>\n",
       "      <td>2019-08-01</td>\n",
       "    </tr>\n",
       "    <tr>\n",
       "      <th>4</th>\n",
       "      <td>MainScreenAppear</td>\n",
       "      <td>1433840883824088890</td>\n",
       "      <td>1564618139</td>\n",
       "      <td>247</td>\n",
       "      <td>2019-08-01 00:08:59</td>\n",
       "      <td>2019-08-01</td>\n",
       "    </tr>\n",
       "    <tr>\n",
       "      <th>...</th>\n",
       "      <td>...</td>\n",
       "      <td>...</td>\n",
       "      <td>...</td>\n",
       "      <td>...</td>\n",
       "      <td>...</td>\n",
       "      <td>...</td>\n",
       "    </tr>\n",
       "    <tr>\n",
       "      <th>240882</th>\n",
       "      <td>MainScreenAppear</td>\n",
       "      <td>4599628364049201812</td>\n",
       "      <td>1565212345</td>\n",
       "      <td>247</td>\n",
       "      <td>2019-08-07 21:12:25</td>\n",
       "      <td>2019-08-07</td>\n",
       "    </tr>\n",
       "    <tr>\n",
       "      <th>240883</th>\n",
       "      <td>MainScreenAppear</td>\n",
       "      <td>5849806612437486590</td>\n",
       "      <td>1565212439</td>\n",
       "      <td>246</td>\n",
       "      <td>2019-08-07 21:13:59</td>\n",
       "      <td>2019-08-07</td>\n",
       "    </tr>\n",
       "    <tr>\n",
       "      <th>240884</th>\n",
       "      <td>MainScreenAppear</td>\n",
       "      <td>5746969938801999050</td>\n",
       "      <td>1565212483</td>\n",
       "      <td>246</td>\n",
       "      <td>2019-08-07 21:14:43</td>\n",
       "      <td>2019-08-07</td>\n",
       "    </tr>\n",
       "    <tr>\n",
       "      <th>240885</th>\n",
       "      <td>MainScreenAppear</td>\n",
       "      <td>5746969938801999050</td>\n",
       "      <td>1565212498</td>\n",
       "      <td>246</td>\n",
       "      <td>2019-08-07 21:14:58</td>\n",
       "      <td>2019-08-07</td>\n",
       "    </tr>\n",
       "    <tr>\n",
       "      <th>240886</th>\n",
       "      <td>OffersScreenAppear</td>\n",
       "      <td>5746969938801999050</td>\n",
       "      <td>1565212517</td>\n",
       "      <td>246</td>\n",
       "      <td>2019-08-07 21:15:17</td>\n",
       "      <td>2019-08-07</td>\n",
       "    </tr>\n",
       "  </tbody>\n",
       "</table>\n",
       "<p>240887 rows × 6 columns</p>\n",
       "</div>"
      ],
      "text/plain": [
       "                     event              user_id    event_ts  group  \\\n",
       "0                 Tutorial  3737462046622621720  1564618048    246   \n",
       "1         MainScreenAppear  3737462046622621720  1564618080    246   \n",
       "2         MainScreenAppear  3737462046622621720  1564618135    246   \n",
       "3       OffersScreenAppear  3737462046622621720  1564618138    246   \n",
       "4         MainScreenAppear  1433840883824088890  1564618139    247   \n",
       "...                    ...                  ...         ...    ...   \n",
       "240882    MainScreenAppear  4599628364049201812  1565212345    247   \n",
       "240883    MainScreenAppear  5849806612437486590  1565212439    246   \n",
       "240884    MainScreenAppear  5746969938801999050  1565212483    246   \n",
       "240885    MainScreenAppear  5746969938801999050  1565212498    246   \n",
       "240886  OffersScreenAppear  5746969938801999050  1565212517    246   \n",
       "\n",
       "                        dt       date  \n",
       "0      2019-08-01 00:07:28 2019-08-01  \n",
       "1      2019-08-01 00:08:00 2019-08-01  \n",
       "2      2019-08-01 00:08:55 2019-08-01  \n",
       "3      2019-08-01 00:08:58 2019-08-01  \n",
       "4      2019-08-01 00:08:59 2019-08-01  \n",
       "...                    ...        ...  \n",
       "240882 2019-08-07 21:12:25 2019-08-07  \n",
       "240883 2019-08-07 21:13:59 2019-08-07  \n",
       "240884 2019-08-07 21:14:43 2019-08-07  \n",
       "240885 2019-08-07 21:14:58 2019-08-07  \n",
       "240886 2019-08-07 21:15:17 2019-08-07  \n",
       "\n",
       "[240887 rows x 6 columns]"
      ]
     },
     "execution_count": 23,
     "metadata": {},
     "output_type": "execute_result"
    }
   ],
   "source": [
    "data_clear = data.loc[data['dt'] >= '2019-08-01'].reset_index(drop=True)\n",
    "data_clear"
   ]
  },
  {
   "cell_type": "markdown",
   "metadata": {},
   "source": [
    "<div class=\"alert alert-block alert-success\"><b>Комментарий ревьюера</b>\n",
    "    \n",
    "<b>Успех:</b><br>\n",
    "    👍 Период выбран правильно. \n",
    "</div>"
   ]
  },
  {
   "cell_type": "markdown",
   "metadata": {},
   "source": [
    "Посчитаем, сколько событий и пользователей мы потеряли, \"обрезав\" данные:"
   ]
  },
  {
   "cell_type": "code",
   "execution_count": 24,
   "metadata": {},
   "outputs": [
    {
     "data": {
      "text/plain": [
       "240887"
      ]
     },
     "execution_count": 24,
     "metadata": {},
     "output_type": "execute_result"
    }
   ],
   "source": [
    "data_clear['event'].count()"
   ]
  },
  {
   "cell_type": "code",
   "execution_count": 25,
   "metadata": {},
   "outputs": [
    {
     "data": {
      "text/plain": [
       "7534"
      ]
     },
     "execution_count": 25,
     "metadata": {},
     "output_type": "execute_result"
    }
   ],
   "source": [
    "data_clear['user_id'].nunique()"
   ]
  },
  {
   "cell_type": "code",
   "execution_count": 26,
   "metadata": {},
   "outputs": [
    {
     "name": "stdout",
     "output_type": "stream",
     "text": [
      "После удаления данных потеряно 1.16 % событий\n"
     ]
    }
   ],
   "source": [
    "lost_events = ((data['event'].count()-data_clear['event'].count())/data['event'].count()*100).round(2) \n",
    "print('После удаления данных потеряно', lost_events, '% событий')"
   ]
  },
  {
   "cell_type": "code",
   "execution_count": 27,
   "metadata": {},
   "outputs": [
    {
     "name": "stdout",
     "output_type": "stream",
     "text": [
      "После удаления данных потеряно 0.23 % пользователей\n"
     ]
    }
   ],
   "source": [
    "lost_users = ((data['user_id'].nunique()-data_clear['user_id'].nunique())/data['user_id'].nunique()*100)\n",
    "print('После удаления данных потеряно', \"{0:.2f}\".format(lost_users), '% пользователей')"
   ]
  },
  {
   "cell_type": "markdown",
   "metadata": {},
   "source": [
    "Как видно выше, \"обрезка\" данных не привела к значительному уменьшению количества событий и пользователей."
   ]
  },
  {
   "cell_type": "markdown",
   "metadata": {},
   "source": [
    "Убедимся, что в исследуемых группах не произошло значительных изменений:"
   ]
  },
  {
   "cell_type": "code",
   "execution_count": 28,
   "metadata": {},
   "outputs": [
    {
     "name": "stdout",
     "output_type": "stream",
     "text": [
      "В группе 246 -  2484 пользователя.\n",
      "В группе 247 -  2513 пользователей.\n",
      "В группе 248 -  2537 пользователей.\n"
     ]
    }
   ],
   "source": [
    "a1_clear = data_clear.loc[data_clear['group']==246]['user_id'].nunique()\n",
    "a2_clear = data_clear.loc[data_clear['group']==247]['user_id'].nunique()\n",
    "b_clear = data_clear.loc[data_clear['group']==248]['user_id'].nunique()\n",
    "print('В группе 246 - ', a1_clear, 'пользователя.')\n",
    "print('В группе 247 - ', a2_clear, 'пользователей.')\n",
    "print('В группе 248 - ', b_clear, 'пользователей.')"
   ]
  },
  {
   "cell_type": "code",
   "execution_count": 29,
   "metadata": {},
   "outputs": [
    {
     "name": "stdout",
     "output_type": "stream",
     "text": [
      "После удаления данных в группе 246 потеряно 0.20 % пользователей\n",
      "После удаления данных в группе 247 потеряно 0.28 % пользователей\n",
      "После удаления данных в группе 248 потеряно 0.20 % пользователей\n"
     ]
    }
   ],
   "source": [
    "lost_a1 = (a1 - a1_clear)/a1*100\n",
    "lost_a2 = (a2 - a2_clear)/a1*100\n",
    "lost_b = (b - b_clear)/a1*100\n",
    "print('После удаления данных в группе 246 потеряно', \"{0:.2f}\".format(lost_a1), '% пользователей')\n",
    "print('После удаления данных в группе 247 потеряно', \"{0:.2f}\".format(lost_a2), '% пользователей')\n",
    "print('После удаления данных в группе 248 потеряно', \"{0:.2f}\".format(lost_b), '% пользователей')"
   ]
  },
  {
   "cell_type": "markdown",
   "metadata": {},
   "source": [
    "Как видно выше, во всех исследуемых группах количество пользователей уменьшилось незначительно."
   ]
  },
  {
   "cell_type": "markdown",
   "metadata": {},
   "source": [
    "**Вывод по шагу 2.**\n",
    "\n",
    "На данном шаге были получены следующие результаты:\n",
    "\n",
    "1. Определено количество событий в логе: уникальных событий - 5.\n",
    "2. Количество уникальных пользователей - 7551.\n",
    "3. В среднем на одного пользователя приходится 32.28 событий.\n",
    "4. В датасете представлены данные с 25 июля по 7 августа 2019 года.\n",
    "5. Выявлено, что основные события происходили с 1 августа 2019 года, поэтому было решено удалить данные за более ранний период времени.\n",
    "6. После удаления \"старых\" данных было потеряно всего 1.16 % событий и примерно 0.23 % уникальных пользователей, что не критично для проведения дальнейшего анализа.\n",
    "7. **Количество участников в группах сбалансировано.**"
   ]
  },
  {
   "cell_type": "markdown",
   "metadata": {},
   "source": [
    "## Шаг 3. Изучение воронки продаж"
   ]
  },
  {
   "cell_type": "markdown",
   "metadata": {},
   "source": [
    "На данном шаге необходимо выяснить следующее:\n",
    "* как пользователи доходят до покупки;\n",
    "* сколько пользователей доходит до покупки, а сколько — «застревает» на предыдущих шагах;\n",
    "* на каких именно шагах это происходит?"
   ]
  },
  {
   "cell_type": "markdown",
   "metadata": {},
   "source": [
    "Для того чтобы выяснить, как пользователи доходят до покупки изучим события, которые есть в логах. На шаге 2 мы уже выдели, как распределены события в логах численно, но делали это для всего датасета. Поэтому рассмотрим распределение уже в \"очищенном\" датасете:"
   ]
  },
  {
   "cell_type": "code",
   "execution_count": 30,
   "metadata": {},
   "outputs": [
    {
     "data": {
      "text/plain": [
       "MainScreenAppear           117328\n",
       "OffersScreenAppear          46333\n",
       "CartScreenAppear            42303\n",
       "PaymentScreenSuccessful     33918\n",
       "Tutorial                     1005\n",
       "Name: event, dtype: int64"
      ]
     },
     "execution_count": 30,
     "metadata": {},
     "output_type": "execute_result"
    }
   ],
   "source": [
    "events_distribution = data_clear['event'].value_counts()\n",
    "events_distribution"
   ]
  },
  {
   "cell_type": "markdown",
   "metadata": {},
   "source": [
    "Предположим, в каком порядке события расположены:\n",
    "\n",
    "1. **MainScreenAppear** - появление главного экрана;\n",
    "2. **OffersScreenAppear** - появление экрана с предложениями;\n",
    "3. **CartScreenAppear** - появление экрана с корзиной;\n",
    "4. **PaymentScreenSuccessful** - экран с подтверждением успешной покупки.\n",
    "\n",
    "Событие **Tutorial** (руководство либо инструкция для пользователя) может происходить когда-угодно. Оно никак не должно влиять на переход от одного события к другому.\n",
    "\n",
    "Визуализируем распределение событий:"
   ]
  },
  {
   "cell_type": "code",
   "execution_count": 31,
   "metadata": {},
   "outputs": [
    {
     "data": {
      "image/png": "[encoded data removed]",
      "text/plain": [
       "<Figure size 1080x432 with 1 Axes>"
      ]
     },
     "metadata": {},
     "output_type": "display_data"
    }
   ],
   "source": [
    "events_distribution.plot(kind='pie', figsize=(15,6), label = 'Событие', explode = (0.1, 0.1, 0.1, 0.1, 0.1), autopct='%1.2f%%')\n",
    "plt.show()"
   ]
  },
  {
   "cell_type": "markdown",
   "metadata": {},
   "source": [
    "Как видно выше, самое частое событие - **\"Появление главного экрана\"**. На него приходится 48.71 % от всех событий. После него идут **\"Появление экрана с предложениями\"** - 19.23 %, **\"Появление экрана с корзиной\"** - 17.56 % и **\"Появление экрана с подтверждением успешной покупки\"** - 14.08 %. Событие **Tutorial** - самое редкое (около 0.42 % от всех событий)."
   ]
  },
  {
   "cell_type": "markdown",
   "metadata": {},
   "source": [
    "Теперь рассмотрим сколько пользователей \"прошли\" через каждое событие. Рассматривать будем как общее количество пользователей, так и с разбиением по исследуемым группам."
   ]
  },
  {
   "cell_type": "code",
   "execution_count": 32,
   "metadata": {},
   "outputs": [
    {
     "data": {
      "text/html": [
       "<div>\n",
       "<style scoped>\n",
       "    .dataframe tbody tr th:only-of-type {\n",
       "        vertical-align: middle;\n",
       "    }\n",
       "\n",
       "    .dataframe tbody tr th {\n",
       "        vertical-align: top;\n",
       "    }\n",
       "\n",
       "    .dataframe thead th {\n",
       "        text-align: right;\n",
       "    }\n",
       "</style>\n",
       "<table border=\"1\" class=\"dataframe\">\n",
       "  <thead>\n",
       "    <tr style=\"text-align: right;\">\n",
       "      <th></th>\n",
       "      <th>total_users</th>\n",
       "    </tr>\n",
       "    <tr>\n",
       "      <th>event</th>\n",
       "      <th></th>\n",
       "    </tr>\n",
       "  </thead>\n",
       "  <tbody>\n",
       "    <tr>\n",
       "      <th>MainScreenAppear</th>\n",
       "      <td>7419</td>\n",
       "    </tr>\n",
       "    <tr>\n",
       "      <th>OffersScreenAppear</th>\n",
       "      <td>4593</td>\n",
       "    </tr>\n",
       "    <tr>\n",
       "      <th>CartScreenAppear</th>\n",
       "      <td>3734</td>\n",
       "    </tr>\n",
       "    <tr>\n",
       "      <th>PaymentScreenSuccessful</th>\n",
       "      <td>3539</td>\n",
       "    </tr>\n",
       "    <tr>\n",
       "      <th>Tutorial</th>\n",
       "      <td>840</td>\n",
       "    </tr>\n",
       "  </tbody>\n",
       "</table>\n",
       "</div>"
      ],
      "text/plain": [
       "                         total_users\n",
       "event                               \n",
       "MainScreenAppear                7419\n",
       "OffersScreenAppear              4593\n",
       "CartScreenAppear                3734\n",
       "PaymentScreenSuccessful         3539\n",
       "Tutorial                         840"
      ]
     },
     "execution_count": 32,
     "metadata": {},
     "output_type": "execute_result"
    }
   ],
   "source": [
    "user_events = data_clear.pivot_table(index='event', values='user_id', aggfunc='nunique')\n",
    "user_events.columns = ['total_users']\n",
    "user_events.sort_values(by='total_users', ascending=False)"
   ]
  },
  {
   "cell_type": "code",
   "execution_count": 33,
   "metadata": {},
   "outputs": [
    {
     "data": {
      "text/html": [
       "<div>\n",
       "<style scoped>\n",
       "    .dataframe tbody tr th:only-of-type {\n",
       "        vertical-align: middle;\n",
       "    }\n",
       "\n",
       "    .dataframe tbody tr th {\n",
       "        vertical-align: top;\n",
       "    }\n",
       "\n",
       "    .dataframe thead th {\n",
       "        text-align: right;\n",
       "    }\n",
       "</style>\n",
       "<table border=\"1\" class=\"dataframe\">\n",
       "  <thead>\n",
       "    <tr style=\"text-align: right;\">\n",
       "      <th></th>\n",
       "      <th>users_a1</th>\n",
       "    </tr>\n",
       "    <tr>\n",
       "      <th>event</th>\n",
       "      <th></th>\n",
       "    </tr>\n",
       "  </thead>\n",
       "  <tbody>\n",
       "    <tr>\n",
       "      <th>MainScreenAppear</th>\n",
       "      <td>2450</td>\n",
       "    </tr>\n",
       "    <tr>\n",
       "      <th>OffersScreenAppear</th>\n",
       "      <td>1542</td>\n",
       "    </tr>\n",
       "    <tr>\n",
       "      <th>CartScreenAppear</th>\n",
       "      <td>1266</td>\n",
       "    </tr>\n",
       "    <tr>\n",
       "      <th>PaymentScreenSuccessful</th>\n",
       "      <td>1200</td>\n",
       "    </tr>\n",
       "    <tr>\n",
       "      <th>Tutorial</th>\n",
       "      <td>278</td>\n",
       "    </tr>\n",
       "  </tbody>\n",
       "</table>\n",
       "</div>"
      ],
      "text/plain": [
       "                         users_a1\n",
       "event                            \n",
       "MainScreenAppear             2450\n",
       "OffersScreenAppear           1542\n",
       "CartScreenAppear             1266\n",
       "PaymentScreenSuccessful      1200\n",
       "Tutorial                      278"
      ]
     },
     "execution_count": 33,
     "metadata": {},
     "output_type": "execute_result"
    }
   ],
   "source": [
    "user_events_a1 = data_clear.loc[data_clear['group']==246].pivot_table(index='event', values='user_id', aggfunc='nunique')\n",
    "user_events_a1.columns = ['users_a1']\n",
    "user_events_a1.sort_values(by='users_a1', ascending=False)"
   ]
  },
  {
   "cell_type": "code",
   "execution_count": 34,
   "metadata": {},
   "outputs": [
    {
     "data": {
      "text/html": [
       "<div>\n",
       "<style scoped>\n",
       "    .dataframe tbody tr th:only-of-type {\n",
       "        vertical-align: middle;\n",
       "    }\n",
       "\n",
       "    .dataframe tbody tr th {\n",
       "        vertical-align: top;\n",
       "    }\n",
       "\n",
       "    .dataframe thead th {\n",
       "        text-align: right;\n",
       "    }\n",
       "</style>\n",
       "<table border=\"1\" class=\"dataframe\">\n",
       "  <thead>\n",
       "    <tr style=\"text-align: right;\">\n",
       "      <th></th>\n",
       "      <th>users_a2</th>\n",
       "    </tr>\n",
       "    <tr>\n",
       "      <th>event</th>\n",
       "      <th></th>\n",
       "    </tr>\n",
       "  </thead>\n",
       "  <tbody>\n",
       "    <tr>\n",
       "      <th>MainScreenAppear</th>\n",
       "      <td>2476</td>\n",
       "    </tr>\n",
       "    <tr>\n",
       "      <th>OffersScreenAppear</th>\n",
       "      <td>1520</td>\n",
       "    </tr>\n",
       "    <tr>\n",
       "      <th>CartScreenAppear</th>\n",
       "      <td>1238</td>\n",
       "    </tr>\n",
       "    <tr>\n",
       "      <th>PaymentScreenSuccessful</th>\n",
       "      <td>1158</td>\n",
       "    </tr>\n",
       "    <tr>\n",
       "      <th>Tutorial</th>\n",
       "      <td>283</td>\n",
       "    </tr>\n",
       "  </tbody>\n",
       "</table>\n",
       "</div>"
      ],
      "text/plain": [
       "                         users_a2\n",
       "event                            \n",
       "MainScreenAppear             2476\n",
       "OffersScreenAppear           1520\n",
       "CartScreenAppear             1238\n",
       "PaymentScreenSuccessful      1158\n",
       "Tutorial                      283"
      ]
     },
     "execution_count": 34,
     "metadata": {},
     "output_type": "execute_result"
    }
   ],
   "source": [
    "user_events_a2 = data_clear.loc[data_clear['group']==247].pivot_table(index='event', values='user_id', aggfunc='nunique')\n",
    "user_events_a2.columns = ['users_a2']\n",
    "user_events_a2.sort_values(by='users_a2', ascending=False)"
   ]
  },
  {
   "cell_type": "code",
   "execution_count": 35,
   "metadata": {},
   "outputs": [
    {
     "data": {
      "text/html": [
       "<div>\n",
       "<style scoped>\n",
       "    .dataframe tbody tr th:only-of-type {\n",
       "        vertical-align: middle;\n",
       "    }\n",
       "\n",
       "    .dataframe tbody tr th {\n",
       "        vertical-align: top;\n",
       "    }\n",
       "\n",
       "    .dataframe thead th {\n",
       "        text-align: right;\n",
       "    }\n",
       "</style>\n",
       "<table border=\"1\" class=\"dataframe\">\n",
       "  <thead>\n",
       "    <tr style=\"text-align: right;\">\n",
       "      <th></th>\n",
       "      <th>users_b</th>\n",
       "    </tr>\n",
       "    <tr>\n",
       "      <th>event</th>\n",
       "      <th></th>\n",
       "    </tr>\n",
       "  </thead>\n",
       "  <tbody>\n",
       "    <tr>\n",
       "      <th>MainScreenAppear</th>\n",
       "      <td>2493</td>\n",
       "    </tr>\n",
       "    <tr>\n",
       "      <th>OffersScreenAppear</th>\n",
       "      <td>1531</td>\n",
       "    </tr>\n",
       "    <tr>\n",
       "      <th>CartScreenAppear</th>\n",
       "      <td>1230</td>\n",
       "    </tr>\n",
       "    <tr>\n",
       "      <th>PaymentScreenSuccessful</th>\n",
       "      <td>1181</td>\n",
       "    </tr>\n",
       "    <tr>\n",
       "      <th>Tutorial</th>\n",
       "      <td>279</td>\n",
       "    </tr>\n",
       "  </tbody>\n",
       "</table>\n",
       "</div>"
      ],
      "text/plain": [
       "                         users_b\n",
       "event                           \n",
       "MainScreenAppear            2493\n",
       "OffersScreenAppear          1531\n",
       "CartScreenAppear            1230\n",
       "PaymentScreenSuccessful     1181\n",
       "Tutorial                     279"
      ]
     },
     "execution_count": 35,
     "metadata": {},
     "output_type": "execute_result"
    }
   ],
   "source": [
    "user_events_b = data_clear.loc[data_clear['group']==248].pivot_table(index='event', values='user_id', aggfunc='nunique')\n",
    "user_events_b.columns = ['users_b']\n",
    "user_events_b.sort_values(by='users_b', ascending=False)"
   ]
  },
  {
   "cell_type": "code",
   "execution_count": 36,
   "metadata": {},
   "outputs": [
    {
     "data": {
      "text/html": [
       "<div>\n",
       "<style scoped>\n",
       "    .dataframe tbody tr th:only-of-type {\n",
       "        vertical-align: middle;\n",
       "    }\n",
       "\n",
       "    .dataframe tbody tr th {\n",
       "        vertical-align: top;\n",
       "    }\n",
       "\n",
       "    .dataframe thead th {\n",
       "        text-align: right;\n",
       "    }\n",
       "</style>\n",
       "<table border=\"1\" class=\"dataframe\">\n",
       "  <thead>\n",
       "    <tr style=\"text-align: right;\">\n",
       "      <th></th>\n",
       "      <th>total_users</th>\n",
       "      <th>users_a1</th>\n",
       "      <th>users_a2</th>\n",
       "      <th>users_b</th>\n",
       "      <th>event_short</th>\n",
       "    </tr>\n",
       "    <tr>\n",
       "      <th>event</th>\n",
       "      <th></th>\n",
       "      <th></th>\n",
       "      <th></th>\n",
       "      <th></th>\n",
       "      <th></th>\n",
       "    </tr>\n",
       "  </thead>\n",
       "  <tbody>\n",
       "    <tr>\n",
       "      <th>MainScreenAppear</th>\n",
       "      <td>7419</td>\n",
       "      <td>2450</td>\n",
       "      <td>2476</td>\n",
       "      <td>2493</td>\n",
       "      <td>Main</td>\n",
       "    </tr>\n",
       "    <tr>\n",
       "      <th>OffersScreenAppear</th>\n",
       "      <td>4593</td>\n",
       "      <td>1542</td>\n",
       "      <td>1520</td>\n",
       "      <td>1531</td>\n",
       "      <td>Offers</td>\n",
       "    </tr>\n",
       "    <tr>\n",
       "      <th>CartScreenAppear</th>\n",
       "      <td>3734</td>\n",
       "      <td>1266</td>\n",
       "      <td>1238</td>\n",
       "      <td>1230</td>\n",
       "      <td>Cart</td>\n",
       "    </tr>\n",
       "    <tr>\n",
       "      <th>PaymentScreenSuccessful</th>\n",
       "      <td>3539</td>\n",
       "      <td>1200</td>\n",
       "      <td>1158</td>\n",
       "      <td>1181</td>\n",
       "      <td>Payment</td>\n",
       "    </tr>\n",
       "    <tr>\n",
       "      <th>Tutorial</th>\n",
       "      <td>840</td>\n",
       "      <td>278</td>\n",
       "      <td>283</td>\n",
       "      <td>279</td>\n",
       "      <td>Tutorial</td>\n",
       "    </tr>\n",
       "  </tbody>\n",
       "</table>\n",
       "</div>"
      ],
      "text/plain": [
       "                         total_users  users_a1  users_a2  users_b event_short\n",
       "event                                                                        \n",
       "MainScreenAppear                7419      2450      2476     2493        Main\n",
       "OffersScreenAppear              4593      1542      1520     1531      Offers\n",
       "CartScreenAppear                3734      1266      1238     1230        Cart\n",
       "PaymentScreenSuccessful         3539      1200      1158     1181     Payment\n",
       "Tutorial                         840       278       283      279    Tutorial"
      ]
     },
     "execution_count": 36,
     "metadata": {},
     "output_type": "execute_result"
    }
   ],
   "source": [
    "events_by_users = (user_events.merge(user_events_a1, left_on='event', right_on='event', how='left').\n",
    "                   merge(user_events_a2, left_on='event', right_on='event', how='left').\n",
    "                   merge(user_events_b, left_on='event', right_on='event', how='left')).sort_values(by='total_users', ascending=False)\n",
    "events_by_users['event_short'] = ['Main', 'Offers', 'Cart', 'Payment', 'Tutorial'] # ввел короткие названия для удобства\n",
    "events_by_users"
   ]
  },
  {
   "cell_type": "markdown",
   "metadata": {},
   "source": [
    "Общую таблицу подготовили. По численным значениям видно, что события примерно одинаково распределены между пользователями из разных групп. Однако для большей наглядности визуализируем данные из таблицы:"
   ]
  },
  {
   "cell_type": "code",
   "execution_count": 37,
   "metadata": {},
   "outputs": [
    {
     "data": {
      "image/png": "[encoded data removed]",
      "text/plain": [
       "<Figure size 1080x432 with 1 Axes>"
      ]
     },
     "metadata": {
      "needs_background": "light"
     },
     "output_type": "display_data"
    }
   ],
   "source": [
    "# визуализация для общего числа пользователей\n",
    "events_by_users.plot(x='event_short',\n",
    "                     y='total_users',\n",
    "                     kind='bar',\n",
    "                     figsize=(15,6),\n",
    "                     grid=True,\n",
    "                     color = ['blue', 'red', 'green', 'pink', 'black'],\n",
    "                     title = 'Изменение числа пользователей в зависимости от события',\n",
    "                    legend=False)\n",
    "plt.xlabel('Событие')\n",
    "plt.ylabel('Число пользователей')\n",
    "plt.show()"
   ]
  },
  {
   "cell_type": "code",
   "execution_count": 38,
   "metadata": {},
   "outputs": [
    {
     "data": {
      "image/png": "[encoded data removed]",
      "text/plain": [
       "<Figure size 1080x432 with 1 Axes>"
      ]
     },
     "metadata": {
      "needs_background": "light"
     },
     "output_type": "display_data"
    }
   ],
   "source": [
    "# визуализация отдельно по группам\n",
    "events_by_users.plot(x='event_short',\n",
    "                     y=['users_a1', 'users_a2', 'users_b'],\n",
    "                     kind='bar',\n",
    "                     figsize=(15,6),\n",
    "                     grid=True,\n",
    "                     color = ['blue', 'red', 'green'],\n",
    "                     title = 'Изменение числа пользователей в каждой группе в зависимости от события',\n",
    "                    legend=True)\n",
    "plt.xlabel('Событие')\n",
    "plt.ylabel('Число пользователей')\n",
    "plt.show()"
   ]
  },
  {
   "cell_type": "markdown",
   "metadata": {},
   "source": [
    "Как видно из рисунков, количество пользователей, совершивших событие **\"Появление главного экрана\"** - максимально. После него идут **\"Появление экрана с предложениями\"**, **\"Появление экрана с корзиной\"** и **\"Появление экрана с подтверждением успешной покупки\"**. Событие **Tutorial** снова самое редкое. Т.е. картина схожа с той, что мы видели для распределения событий.\n",
    "\n",
    "Дополнительно еще рассмотрим доли от общего числа пользователей, которые хотя бы раз совершили определенное событие."
   ]
  },
  {
   "cell_type": "code",
   "execution_count": 39,
   "metadata": {},
   "outputs": [
    {
     "data": {
      "text/html": [
       "<div>\n",
       "<style scoped>\n",
       "    .dataframe tbody tr th:only-of-type {\n",
       "        vertical-align: middle;\n",
       "    }\n",
       "\n",
       "    .dataframe tbody tr th {\n",
       "        vertical-align: top;\n",
       "    }\n",
       "\n",
       "    .dataframe thead th {\n",
       "        text-align: right;\n",
       "    }\n",
       "</style>\n",
       "<table border=\"1\" class=\"dataframe\">\n",
       "  <thead>\n",
       "    <tr style=\"text-align: right;\">\n",
       "      <th></th>\n",
       "      <th>event</th>\n",
       "      <th>total_users</th>\n",
       "      <th>users_a1</th>\n",
       "      <th>users_a2</th>\n",
       "      <th>users_b</th>\n",
       "      <th>event_short</th>\n",
       "      <th>total_part</th>\n",
       "      <th>users_a1_part</th>\n",
       "      <th>users_a2_part</th>\n",
       "      <th>users_b_part</th>\n",
       "    </tr>\n",
       "  </thead>\n",
       "  <tbody>\n",
       "    <tr>\n",
       "      <th>0</th>\n",
       "      <td>MainScreenAppear</td>\n",
       "      <td>7419</td>\n",
       "      <td>2450</td>\n",
       "      <td>2476</td>\n",
       "      <td>2493</td>\n",
       "      <td>Main</td>\n",
       "      <td>98.47</td>\n",
       "      <td>98.63</td>\n",
       "      <td>98.53</td>\n",
       "      <td>98.27</td>\n",
       "    </tr>\n",
       "    <tr>\n",
       "      <th>1</th>\n",
       "      <td>OffersScreenAppear</td>\n",
       "      <td>4593</td>\n",
       "      <td>1542</td>\n",
       "      <td>1520</td>\n",
       "      <td>1531</td>\n",
       "      <td>Offers</td>\n",
       "      <td>60.96</td>\n",
       "      <td>62.08</td>\n",
       "      <td>60.49</td>\n",
       "      <td>60.35</td>\n",
       "    </tr>\n",
       "    <tr>\n",
       "      <th>2</th>\n",
       "      <td>CartScreenAppear</td>\n",
       "      <td>3734</td>\n",
       "      <td>1266</td>\n",
       "      <td>1238</td>\n",
       "      <td>1230</td>\n",
       "      <td>Cart</td>\n",
       "      <td>49.56</td>\n",
       "      <td>50.97</td>\n",
       "      <td>49.26</td>\n",
       "      <td>48.48</td>\n",
       "    </tr>\n",
       "    <tr>\n",
       "      <th>3</th>\n",
       "      <td>PaymentScreenSuccessful</td>\n",
       "      <td>3539</td>\n",
       "      <td>1200</td>\n",
       "      <td>1158</td>\n",
       "      <td>1181</td>\n",
       "      <td>Payment</td>\n",
       "      <td>46.97</td>\n",
       "      <td>48.31</td>\n",
       "      <td>46.08</td>\n",
       "      <td>46.55</td>\n",
       "    </tr>\n",
       "    <tr>\n",
       "      <th>4</th>\n",
       "      <td>Tutorial</td>\n",
       "      <td>840</td>\n",
       "      <td>278</td>\n",
       "      <td>283</td>\n",
       "      <td>279</td>\n",
       "      <td>Tutorial</td>\n",
       "      <td>11.15</td>\n",
       "      <td>11.19</td>\n",
       "      <td>11.26</td>\n",
       "      <td>11.00</td>\n",
       "    </tr>\n",
       "  </tbody>\n",
       "</table>\n",
       "</div>"
      ],
      "text/plain": [
       "                     event  total_users  users_a1  users_a2  users_b  \\\n",
       "0         MainScreenAppear         7419      2450      2476     2493   \n",
       "1       OffersScreenAppear         4593      1542      1520     1531   \n",
       "2         CartScreenAppear         3734      1266      1238     1230   \n",
       "3  PaymentScreenSuccessful         3539      1200      1158     1181   \n",
       "4                 Tutorial          840       278       283      279   \n",
       "\n",
       "  event_short  total_part  users_a1_part  users_a2_part  users_b_part  \n",
       "0        Main       98.47          98.63          98.53         98.27  \n",
       "1      Offers       60.96          62.08          60.49         60.35  \n",
       "2        Cart       49.56          50.97          49.26         48.48  \n",
       "3     Payment       46.97          48.31          46.08         46.55  \n",
       "4    Tutorial       11.15          11.19          11.26         11.00  "
      ]
     },
     "execution_count": 39,
     "metadata": {},
     "output_type": "execute_result"
    }
   ],
   "source": [
    "events_by_users['total_part'] = events_by_users['total_users']/data_clear['user_id'].nunique()*100\n",
    "events_by_users['total_part'] = events_by_users['total_part'].astype('float').round(2)\n",
    "events_by_users['users_a1_part'] = events_by_users['users_a1']/a1_clear*100\n",
    "events_by_users['users_a1_part'] = events_by_users['users_a1_part'].astype('float').round(2)\n",
    "events_by_users['users_a2_part'] = events_by_users['users_a2']/a2_clear*100\n",
    "events_by_users['users_a2_part'] = events_by_users['users_a2_part'].astype('float').round(2)\n",
    "events_by_users['users_b_part'] = events_by_users['users_b']/b_clear*100\n",
    "events_by_users['users_b_part'] = events_by_users['users_b_part'].astype('float').round(2)\n",
    "events_by_users=events_by_users.reset_index()\n",
    "events_by_users"
   ]
  },
  {
   "cell_type": "code",
   "execution_count": 40,
   "metadata": {},
   "outputs": [
    {
     "data": {
      "image/png": "[encoded data removed]",
      "text/plain": [
       "<Figure size 1080x432 with 1 Axes>"
      ]
     },
     "metadata": {
      "needs_background": "light"
     },
     "output_type": "display_data"
    }
   ],
   "source": [
    "# визуализация для общего числа пользователей\n",
    "events_by_users.plot(x='event_short',\n",
    "                     y='total_part',\n",
    "                     kind='bar',\n",
    "                     figsize=(15,6),\n",
    "                     grid=True,\n",
    "                     color = ['blue', 'red', 'green', 'pink', 'black'],\n",
    "                     title = 'Изменение доли пользователей, совершивших хотя бы одно событие в зависимости от события',\n",
    "                    legend=False)\n",
    "plt.xlabel('Событие')\n",
    "plt.ylabel('Доля пользователей')\n",
    "plt.show()"
   ]
  },
  {
   "cell_type": "code",
   "execution_count": 41,
   "metadata": {},
   "outputs": [
    {
     "data": {
      "image/png": "[encoded data removed]",
      "text/plain": [
       "<Figure size 1080x432 with 1 Axes>"
      ]
     },
     "metadata": {
      "needs_background": "light"
     },
     "output_type": "display_data"
    }
   ],
   "source": [
    "# визуализация отдельно по группам\n",
    "events_by_users.plot(x='event_short',\n",
    "                     y=['users_a1_part', 'users_a2_part', 'users_b_part'],\n",
    "                     kind='bar',\n",
    "                     figsize=(15,6),\n",
    "                     grid=True,\n",
    "                     color = ['blue', 'red', 'green'],\n",
    "                     title = 'Изменение доли пользователей, совершивших хотя бы одно событие, в каждой группе в зависимости от события',\n",
    "                    legend=True)\n",
    "plt.xlabel('Событие')\n",
    "plt.ylabel('Доля пользователей')\n",
    "plt.show()"
   ]
  },
  {
   "cell_type": "markdown",
   "metadata": {},
   "source": [
    "С долями от общего числа пользователей картина практически идентична той, что представлена просто для общего числа пользователей и с разбиением по группам.\n",
    "\n",
    "Таким образом события действительно расположены в следующем порядке: \n",
    "\n",
    "1. **MainScreenAppear** - появление главного экрана;\n",
    "2. **OffersScreenAppear** - появление экрана с предложениями;\n",
    "3. **CartScreenAppear** - появление экрана с корзиной;\n",
    "4. **PaymentScreenSuccessful** - экран с подтверждением успешной покупки.\n",
    "\n",
    "Как говорилось до этого, событие **Tutorial** в контексте изучения воронки событий не несет полезной информации."
   ]
  },
  {
   "cell_type": "markdown",
   "metadata": {},
   "source": [
    "Следует также обратить внимание на то, что на первом этапе мы имеем не 100 % пользователей. Это может быть связано с тем, что мы \"отрезали\" данные за июль, и пользователи могли начать работать с приложением как раз в этот период времени. Однако, как мы выяснили на предыдущем шаге, \"обрезка\" в целом мало повлияла на весь набор данных."
   ]
  },
  {
   "cell_type": "markdown",
   "metadata": {},
   "source": [
    "Теперь можно перейти к более подробному изучению воронки событий."
   ]
  },
  {
   "cell_type": "markdown",
   "metadata": {},
   "source": [
    "Для начала определим, какая доля пользователей проходит на последующий шаг воронки. Событие **Tutorial** анализировать не будем, поскольку к руководству (или инструкции) пользователь мог перейти на любом шаге. \n",
    "\n",
    "Поэтому воронка будет выглядеть следующим образом:\n",
    "\n",
    "**MainScreenAppear** --> **OffersScreenAppear** --> **CartScreenAppear** --> **PaymentScreenSuccessful**"
   ]
  },
  {
   "cell_type": "markdown",
   "metadata": {},
   "source": [
    "Из таблицы \"events_by_users\" оставим только те строки и столбцы, которые нам потребуются для построения воронки:"
   ]
  },
  {
   "cell_type": "code",
   "execution_count": 42,
   "metadata": {},
   "outputs": [
    {
     "data": {
      "text/html": [
       "<div>\n",
       "<style scoped>\n",
       "    .dataframe tbody tr th:only-of-type {\n",
       "        vertical-align: middle;\n",
       "    }\n",
       "\n",
       "    .dataframe tbody tr th {\n",
       "        vertical-align: top;\n",
       "    }\n",
       "\n",
       "    .dataframe thead th {\n",
       "        text-align: right;\n",
       "    }\n",
       "</style>\n",
       "<table border=\"1\" class=\"dataframe\">\n",
       "  <thead>\n",
       "    <tr style=\"text-align: right;\">\n",
       "      <th></th>\n",
       "      <th>event</th>\n",
       "      <th>total_part</th>\n",
       "      <th>users_a1_part</th>\n",
       "      <th>users_a2_part</th>\n",
       "      <th>users_b_part</th>\n",
       "    </tr>\n",
       "  </thead>\n",
       "  <tbody>\n",
       "    <tr>\n",
       "      <th>0</th>\n",
       "      <td>MainScreenAppear</td>\n",
       "      <td>98.47</td>\n",
       "      <td>98.63</td>\n",
       "      <td>98.53</td>\n",
       "      <td>98.27</td>\n",
       "    </tr>\n",
       "    <tr>\n",
       "      <th>1</th>\n",
       "      <td>OffersScreenAppear</td>\n",
       "      <td>60.96</td>\n",
       "      <td>62.08</td>\n",
       "      <td>60.49</td>\n",
       "      <td>60.35</td>\n",
       "    </tr>\n",
       "    <tr>\n",
       "      <th>2</th>\n",
       "      <td>CartScreenAppear</td>\n",
       "      <td>49.56</td>\n",
       "      <td>50.97</td>\n",
       "      <td>49.26</td>\n",
       "      <td>48.48</td>\n",
       "    </tr>\n",
       "    <tr>\n",
       "      <th>3</th>\n",
       "      <td>PaymentScreenSuccessful</td>\n",
       "      <td>46.97</td>\n",
       "      <td>48.31</td>\n",
       "      <td>46.08</td>\n",
       "      <td>46.55</td>\n",
       "    </tr>\n",
       "  </tbody>\n",
       "</table>\n",
       "</div>"
      ],
      "text/plain": [
       "                     event  total_part  users_a1_part  users_a2_part  \\\n",
       "0         MainScreenAppear       98.47          98.63          98.53   \n",
       "1       OffersScreenAppear       60.96          62.08          60.49   \n",
       "2         CartScreenAppear       49.56          50.97          49.26   \n",
       "3  PaymentScreenSuccessful       46.97          48.31          46.08   \n",
       "\n",
       "   users_b_part  \n",
       "0         98.27  \n",
       "1         60.35  \n",
       "2         48.48  \n",
       "3         46.55  "
      ]
     },
     "execution_count": 42,
     "metadata": {},
     "output_type": "execute_result"
    }
   ],
   "source": [
    "small_table = events_by_users.loc[:3, ['event', 'total_part','users_a1_part','users_a2_part', 'users_b_part']]\n",
    "small_table"
   ]
  },
  {
   "cell_type": "code",
   "execution_count": 43,
   "metadata": {},
   "outputs": [
    {
     "data": {
      "text/html": [
       "<div>\n",
       "<style scoped>\n",
       "    .dataframe tbody tr th:only-of-type {\n",
       "        vertical-align: middle;\n",
       "    }\n",
       "\n",
       "    .dataframe tbody tr th {\n",
       "        vertical-align: top;\n",
       "    }\n",
       "\n",
       "    .dataframe thead th {\n",
       "        text-align: right;\n",
       "    }\n",
       "</style>\n",
       "<table border=\"1\" class=\"dataframe\">\n",
       "  <thead>\n",
       "    <tr style=\"text-align: right;\">\n",
       "      <th></th>\n",
       "      <th>event</th>\n",
       "      <th>total_part</th>\n",
       "      <th>users_a1_part</th>\n",
       "      <th>users_a2_part</th>\n",
       "      <th>users_b_part</th>\n",
       "      <th>ratio_total</th>\n",
       "      <th>ratio_a1</th>\n",
       "      <th>ratio_a2</th>\n",
       "      <th>ratio_b</th>\n",
       "    </tr>\n",
       "  </thead>\n",
       "  <tbody>\n",
       "    <tr>\n",
       "      <th>0</th>\n",
       "      <td>MainScreenAppear</td>\n",
       "      <td>98.47</td>\n",
       "      <td>98.63</td>\n",
       "      <td>98.53</td>\n",
       "      <td>98.27</td>\n",
       "      <td>100.00</td>\n",
       "      <td>100.00</td>\n",
       "      <td>100.00</td>\n",
       "      <td>100.00</td>\n",
       "    </tr>\n",
       "    <tr>\n",
       "      <th>1</th>\n",
       "      <td>OffersScreenAppear</td>\n",
       "      <td>60.96</td>\n",
       "      <td>62.08</td>\n",
       "      <td>60.49</td>\n",
       "      <td>60.35</td>\n",
       "      <td>61.91</td>\n",
       "      <td>62.94</td>\n",
       "      <td>61.33</td>\n",
       "      <td>61.41</td>\n",
       "    </tr>\n",
       "    <tr>\n",
       "      <th>2</th>\n",
       "      <td>CartScreenAppear</td>\n",
       "      <td>49.56</td>\n",
       "      <td>50.97</td>\n",
       "      <td>49.26</td>\n",
       "      <td>48.48</td>\n",
       "      <td>81.30</td>\n",
       "      <td>82.10</td>\n",
       "      <td>79.35</td>\n",
       "      <td>80.33</td>\n",
       "    </tr>\n",
       "    <tr>\n",
       "      <th>3</th>\n",
       "      <td>PaymentScreenSuccessful</td>\n",
       "      <td>46.97</td>\n",
       "      <td>48.31</td>\n",
       "      <td>46.08</td>\n",
       "      <td>46.55</td>\n",
       "      <td>94.77</td>\n",
       "      <td>94.78</td>\n",
       "      <td>90.41</td>\n",
       "      <td>96.02</td>\n",
       "    </tr>\n",
       "  </tbody>\n",
       "</table>\n",
       "</div>"
      ],
      "text/plain": [
       "                     event  total_part  users_a1_part  users_a2_part  \\\n",
       "0         MainScreenAppear       98.47          98.63          98.53   \n",
       "1       OffersScreenAppear       60.96          62.08          60.49   \n",
       "2         CartScreenAppear       49.56          50.97          49.26   \n",
       "3  PaymentScreenSuccessful       46.97          48.31          46.08   \n",
       "\n",
       "   users_b_part  ratio_total  ratio_a1  ratio_a2  ratio_b  \n",
       "0         98.27       100.00    100.00    100.00   100.00  \n",
       "1         60.35        61.91     62.94     61.33    61.41  \n",
       "2         48.48        81.30     82.10     79.35    80.33  \n",
       "3         46.55        94.77     94.78     90.41    96.02  "
      ]
     },
     "execution_count": 43,
     "metadata": {},
     "output_type": "execute_result"
    }
   ],
   "source": [
    "step = small_table['total_part'][0]\n",
    "step_a1 = small_table['users_a1_part'][0]\n",
    "step_a2 = small_table['users_a2_part'][0]\n",
    "step_b = small_table['users_b_part'][0]\n",
    "\n",
    "for i in small_table.index:\n",
    "    small_table.loc[i:,'ratio_total'] = (small_table['total_part'][i]/step*100).round(2)\n",
    "    step = small_table['total_part'][i]\n",
    "    small_table.loc[i:,'ratio_a1'] = (small_table['users_a1_part'][i]/step_a1*100).round(2)\n",
    "    step_a1 = small_table['users_a1_part'][i]\n",
    "    small_table.loc[i:,'ratio_a2'] = (small_table['users_a2_part'][i]/step_a2*100).round(2)\n",
    "    step_a2 = small_table['users_a1_part'][i]\n",
    "    small_table.loc[i:,'ratio_b'] = (small_table['users_b_part'][i]/step_b*100).round(2)\n",
    "    step_b = small_table['users_b_part'][i]\n",
    "small_table"
   ]
  },
  {
   "cell_type": "markdown",
   "metadata": {},
   "source": [
    "Как видно из данной таблицы, больше всего пользователей теряется при переходе от **Главного экрана** к **Экрану с предложениями** (примерно 38 % от числа пользователей). При переходе от **Экрана с предложениями** к **Окну корзины** теряется примерно 19 % пользователей по сравнению с предыдущим шагом. Ну а меньше всего пользователей потерялось при переходе к **Окну с успешной оплатой** - примерно 5 %. \n",
    "\n",
    "Данный вывод относится к общему числу пользователей без разделения на группы. Если учитывать разделение на 3 группы, то отличия имеются только в процентном отношении, но качественно \"потери\" при переходах аналогичные."
   ]
  },
  {
   "cell_type": "markdown",
   "metadata": {},
   "source": [
    "Осталось выяснить, какая доля пользователей проходит весь путь от **Главного экрана** до **Окна с успешной оплатой**. \n",
    "\n",
    "В таблице выше видно, что в среднем (без разделения на 3 группы) до конца проходят примерно 47 % пользователей. Однако, здесь не учтено, что пользователь мог пропустить какие-либо этапы (это возможно, например, при переходе через сторонние сервисы сразу к странице с товаром или при переходе с главной страницы сразу к оплате товара, минуя экран с предложениями).\n",
    "\n",
    "Поэтому для построения воронки вновь воспользуемся таблицей \"data_clear\", исключив из нее событие **\"tutorial\"**, и отберем из нее только тех пользователей, которые переходили последовательно от первого этапа ко второму, от второго к третьему и от третьего к четвертому.\n",
    "\n",
    "Итоговый результат приведем как для общего числа пользователей, так и для разделенного на 3 группы."
   ]
  },
  {
   "cell_type": "code",
   "execution_count": 44,
   "metadata": {},
   "outputs": [
    {
     "data": {
      "text/html": [
       "<div>\n",
       "<style scoped>\n",
       "    .dataframe tbody tr th:only-of-type {\n",
       "        vertical-align: middle;\n",
       "    }\n",
       "\n",
       "    .dataframe tbody tr th {\n",
       "        vertical-align: top;\n",
       "    }\n",
       "\n",
       "    .dataframe thead th {\n",
       "        text-align: right;\n",
       "    }\n",
       "</style>\n",
       "<table border=\"1\" class=\"dataframe\">\n",
       "  <thead>\n",
       "    <tr style=\"text-align: right;\">\n",
       "      <th>event</th>\n",
       "      <th>CartScreenAppear</th>\n",
       "      <th>MainScreenAppear</th>\n",
       "      <th>OffersScreenAppear</th>\n",
       "      <th>PaymentScreenSuccessful</th>\n",
       "    </tr>\n",
       "  </thead>\n",
       "  <tbody>\n",
       "    <tr>\n",
       "      <th>0</th>\n",
       "      <td>NaT</td>\n",
       "      <td>2019-08-06 14:06:34</td>\n",
       "      <td>NaT</td>\n",
       "      <td>NaT</td>\n",
       "    </tr>\n",
       "    <tr>\n",
       "      <th>1</th>\n",
       "      <td>2019-08-06 18:52:58</td>\n",
       "      <td>2019-08-06 18:52:54</td>\n",
       "      <td>2019-08-06 18:53:04</td>\n",
       "      <td>2019-08-06 18:52:58</td>\n",
       "    </tr>\n",
       "    <tr>\n",
       "      <th>2</th>\n",
       "      <td>2019-08-04 14:19:40</td>\n",
       "      <td>2019-08-04 14:19:33</td>\n",
       "      <td>2019-08-04 14:19:46</td>\n",
       "      <td>2019-08-04 14:19:40</td>\n",
       "    </tr>\n",
       "    <tr>\n",
       "      <th>3</th>\n",
       "      <td>NaT</td>\n",
       "      <td>2019-08-05 08:06:34</td>\n",
       "      <td>NaT</td>\n",
       "      <td>NaT</td>\n",
       "    </tr>\n",
       "    <tr>\n",
       "      <th>4</th>\n",
       "      <td>2019-08-02 14:28:45</td>\n",
       "      <td>2019-08-01 04:29:54</td>\n",
       "      <td>2019-08-01 04:29:56</td>\n",
       "      <td>2019-08-02 14:28:45</td>\n",
       "    </tr>\n",
       "    <tr>\n",
       "      <th>...</th>\n",
       "      <td>...</td>\n",
       "      <td>...</td>\n",
       "      <td>...</td>\n",
       "      <td>...</td>\n",
       "    </tr>\n",
       "    <tr>\n",
       "      <th>7525</th>\n",
       "      <td>2019-08-02 09:00:58</td>\n",
       "      <td>NaT</td>\n",
       "      <td>2019-08-02 09:01:08</td>\n",
       "      <td>2019-08-02 09:00:57</td>\n",
       "    </tr>\n",
       "    <tr>\n",
       "      <th>7526</th>\n",
       "      <td>2019-08-06 16:49:40</td>\n",
       "      <td>2019-08-05 05:26:26</td>\n",
       "      <td>2019-08-06 16:48:57</td>\n",
       "      <td>2019-08-06 16:52:16</td>\n",
       "    </tr>\n",
       "    <tr>\n",
       "      <th>7527</th>\n",
       "      <td>2019-08-02 17:59:16</td>\n",
       "      <td>2019-08-02 17:58:48</td>\n",
       "      <td>2019-08-02 17:59:00</td>\n",
       "      <td>NaT</td>\n",
       "    </tr>\n",
       "    <tr>\n",
       "      <th>7528</th>\n",
       "      <td>NaT</td>\n",
       "      <td>2019-08-01 17:30:27</td>\n",
       "      <td>NaT</td>\n",
       "      <td>NaT</td>\n",
       "    </tr>\n",
       "    <tr>\n",
       "      <th>7529</th>\n",
       "      <td>NaT</td>\n",
       "      <td>2019-08-01 06:52:13</td>\n",
       "      <td>NaT</td>\n",
       "      <td>NaT</td>\n",
       "    </tr>\n",
       "  </tbody>\n",
       "</table>\n",
       "<p>7530 rows × 4 columns</p>\n",
       "</div>"
      ],
      "text/plain": [
       "event    CartScreenAppear    MainScreenAppear  OffersScreenAppear  \\\n",
       "0                     NaT 2019-08-06 14:06:34                 NaT   \n",
       "1     2019-08-06 18:52:58 2019-08-06 18:52:54 2019-08-06 18:53:04   \n",
       "2     2019-08-04 14:19:40 2019-08-04 14:19:33 2019-08-04 14:19:46   \n",
       "3                     NaT 2019-08-05 08:06:34                 NaT   \n",
       "4     2019-08-02 14:28:45 2019-08-01 04:29:54 2019-08-01 04:29:56   \n",
       "...                   ...                 ...                 ...   \n",
       "7525  2019-08-02 09:00:58                 NaT 2019-08-02 09:01:08   \n",
       "7526  2019-08-06 16:49:40 2019-08-05 05:26:26 2019-08-06 16:48:57   \n",
       "7527  2019-08-02 17:59:16 2019-08-02 17:58:48 2019-08-02 17:59:00   \n",
       "7528                  NaT 2019-08-01 17:30:27                 NaT   \n",
       "7529                  NaT 2019-08-01 06:52:13                 NaT   \n",
       "\n",
       "event PaymentScreenSuccessful  \n",
       "0                         NaT  \n",
       "1         2019-08-06 18:52:58  \n",
       "2         2019-08-04 14:19:40  \n",
       "3                         NaT  \n",
       "4         2019-08-02 14:28:45  \n",
       "...                       ...  \n",
       "7525      2019-08-02 09:00:57  \n",
       "7526      2019-08-06 16:52:16  \n",
       "7527                      NaT  \n",
       "7528                      NaT  \n",
       "7529                      NaT  \n",
       "\n",
       "[7530 rows x 4 columns]"
      ]
     },
     "execution_count": 44,
     "metadata": {},
     "output_type": "execute_result"
    }
   ],
   "source": [
    "level_0 = data_clear.loc[data_clear['event']!='Tutorial'].pivot_table(\n",
    "        index='user_id', \n",
    "        columns='event', \n",
    "        values='dt',\n",
    "        aggfunc='min').reset_index(drop=True)\n",
    "level_0"
   ]
  },
  {
   "cell_type": "markdown",
   "metadata": {},
   "source": [
    "На первом этапе мы избавились от события \"**Tutorial**\" и сгруппировали данные по времени событий, совершенными уникальными пользователями (агрегировали по минимальному времени, чтобы отследить действия пользователя с первого совершения события). Теперь можно пройти последовательно по каждому событию."
   ]
  },
  {
   "cell_type": "code",
   "execution_count": 45,
   "metadata": {},
   "outputs": [
    {
     "data": {
      "text/html": [
       "<div>\n",
       "<style scoped>\n",
       "    .dataframe tbody tr th:only-of-type {\n",
       "        vertical-align: middle;\n",
       "    }\n",
       "\n",
       "    .dataframe tbody tr th {\n",
       "        vertical-align: top;\n",
       "    }\n",
       "\n",
       "    .dataframe thead th {\n",
       "        text-align: right;\n",
       "    }\n",
       "</style>\n",
       "<table border=\"1\" class=\"dataframe\">\n",
       "  <thead>\n",
       "    <tr style=\"text-align: right;\">\n",
       "      <th></th>\n",
       "      <th>event</th>\n",
       "      <th>number_of_users</th>\n",
       "      <th>ratio_from_start</th>\n",
       "    </tr>\n",
       "  </thead>\n",
       "  <tbody>\n",
       "    <tr>\n",
       "      <th>0</th>\n",
       "      <td>MainScreenAppear</td>\n",
       "      <td>7419</td>\n",
       "      <td>100.00</td>\n",
       "    </tr>\n",
       "    <tr>\n",
       "      <th>1</th>\n",
       "      <td>OffersScreenAppear</td>\n",
       "      <td>4201</td>\n",
       "      <td>56.62</td>\n",
       "    </tr>\n",
       "    <tr>\n",
       "      <th>2</th>\n",
       "      <td>CartScreenAppear</td>\n",
       "      <td>1767</td>\n",
       "      <td>23.82</td>\n",
       "    </tr>\n",
       "    <tr>\n",
       "      <th>3</th>\n",
       "      <td>PaymentScreenSuccessful</td>\n",
       "      <td>454</td>\n",
       "      <td>6.12</td>\n",
       "    </tr>\n",
       "  </tbody>\n",
       "</table>\n",
       "</div>"
      ],
      "text/plain": [
       "                     event  number_of_users  ratio_from_start\n",
       "0         MainScreenAppear             7419            100.00\n",
       "1       OffersScreenAppear             4201             56.62\n",
       "2         CartScreenAppear             1767             23.82\n",
       "3  PaymentScreenSuccessful              454              6.12"
      ]
     },
     "execution_count": 45,
     "metadata": {},
     "output_type": "execute_result"
    }
   ],
   "source": [
    "level_1 = (~level_0['MainScreenAppear'].isna())\n",
    "level_2 = level_1 & (level_0['OffersScreenAppear'] > level_0['MainScreenAppear'])\n",
    "level_3 = level_2 & (level_0['CartScreenAppear'] > level_0['OffersScreenAppear'])\n",
    "level_4 = level_3 & (level_0['PaymentScreenSuccessful'] > level_0['CartScreenAppear'])\n",
    "\n",
    "main_screen_count = level_0[level_1].shape[0]\n",
    "offers_screen_count = level_0[level_2].shape[0]\n",
    "cart_screen_count = level_0[level_3].shape[0]\n",
    "pay_count = level_0[level_4].shape[0]\n",
    "\n",
    "funnel = pd.DataFrame(columns = ['event', 'number_of_users'], data = [\n",
    "    ['MainScreenAppear', main_screen_count],\n",
    "    ['OffersScreenAppear', offers_screen_count],\n",
    "    ['CartScreenAppear', cart_screen_count],\n",
    "    ['PaymentScreenSuccessful', pay_count]])\n",
    "\n",
    "step_f = funnel['number_of_users'][0]\n",
    "start = step_f\n",
    "for i in funnel.index:\n",
    "    funnel.loc[i,'ratio_from_start'] = (funnel['number_of_users'][i]/start*100).round(2)\n",
    "    step_f = funnel['number_of_users'][i]\n",
    "    \n",
    "funnel"
   ]
  },
  {
   "cell_type": "markdown",
   "metadata": {},
   "source": [
    "Таким образом, с главной страницы до успешной оплаты дошли только 454 пользователя из 7419, что составляет **6.12 %**.\n",
    "\n",
    "Теперь посмотрим, какая ситуация с учетом разбиения по 3 группам. Повторим шаги, сделанные выше."
   ]
  },
  {
   "cell_type": "code",
   "execution_count": 46,
   "metadata": {},
   "outputs": [
    {
     "data": {
      "text/html": [
       "<div>\n",
       "<style scoped>\n",
       "    .dataframe tbody tr th:only-of-type {\n",
       "        vertical-align: middle;\n",
       "    }\n",
       "\n",
       "    .dataframe tbody tr th {\n",
       "        vertical-align: top;\n",
       "    }\n",
       "\n",
       "    .dataframe thead th {\n",
       "        text-align: right;\n",
       "    }\n",
       "</style>\n",
       "<table border=\"1\" class=\"dataframe\">\n",
       "  <thead>\n",
       "    <tr style=\"text-align: right;\">\n",
       "      <th></th>\n",
       "      <th>event</th>\n",
       "      <th>number_of_users_a1</th>\n",
       "      <th>ratio_from_start_a1</th>\n",
       "      <th>number_of_users_a2</th>\n",
       "      <th>ratio_from_start_a2</th>\n",
       "      <th>number_of_users_b</th>\n",
       "      <th>ratio_from_start_b</th>\n",
       "    </tr>\n",
       "  </thead>\n",
       "  <tbody>\n",
       "    <tr>\n",
       "      <th>0</th>\n",
       "      <td>MainScreenAppear</td>\n",
       "      <td>2450</td>\n",
       "      <td>100.00</td>\n",
       "      <td>2476</td>\n",
       "      <td>100.00</td>\n",
       "      <td>2493</td>\n",
       "      <td>100.00</td>\n",
       "    </tr>\n",
       "    <tr>\n",
       "      <th>1</th>\n",
       "      <td>OffersScreenAppear</td>\n",
       "      <td>1411</td>\n",
       "      <td>57.59</td>\n",
       "      <td>1379</td>\n",
       "      <td>55.69</td>\n",
       "      <td>1411</td>\n",
       "      <td>56.60</td>\n",
       "    </tr>\n",
       "    <tr>\n",
       "      <th>2</th>\n",
       "      <td>CartScreenAppear</td>\n",
       "      <td>584</td>\n",
       "      <td>23.84</td>\n",
       "      <td>600</td>\n",
       "      <td>24.23</td>\n",
       "      <td>583</td>\n",
       "      <td>23.39</td>\n",
       "    </tr>\n",
       "    <tr>\n",
       "      <th>3</th>\n",
       "      <td>PaymentScreenSuccessful</td>\n",
       "      <td>145</td>\n",
       "      <td>5.92</td>\n",
       "      <td>144</td>\n",
       "      <td>5.82</td>\n",
       "      <td>165</td>\n",
       "      <td>6.62</td>\n",
       "    </tr>\n",
       "  </tbody>\n",
       "</table>\n",
       "</div>"
      ],
      "text/plain": [
       "                     event  number_of_users_a1  ratio_from_start_a1  \\\n",
       "0         MainScreenAppear                2450               100.00   \n",
       "1       OffersScreenAppear                1411                57.59   \n",
       "2         CartScreenAppear                 584                23.84   \n",
       "3  PaymentScreenSuccessful                 145                 5.92   \n",
       "\n",
       "   number_of_users_a2  ratio_from_start_a2  number_of_users_b  \\\n",
       "0                2476               100.00               2493   \n",
       "1                1379                55.69               1411   \n",
       "2                 600                24.23                583   \n",
       "3                 144                 5.82                165   \n",
       "\n",
       "   ratio_from_start_b  \n",
       "0              100.00  \n",
       "1               56.60  \n",
       "2               23.39  \n",
       "3                6.62  "
      ]
     },
     "execution_count": 46,
     "metadata": {},
     "output_type": "execute_result"
    }
   ],
   "source": [
    "level_0_a1 = data_clear.loc[(data_clear['event']!='Tutorial') & (data_clear['group']==246)].pivot_table(\n",
    "        index='user_id', \n",
    "        columns='event', \n",
    "        values='dt',\n",
    "        aggfunc='min').reset_index(drop=True)\n",
    "\n",
    "level_1_a1 = (~level_0_a1['MainScreenAppear'].isna())\n",
    "level_2_a1 = level_1_a1 & (level_0_a1['OffersScreenAppear'] > level_0_a1['MainScreenAppear'])\n",
    "level_3_a1 = level_2_a1 & (level_0_a1['CartScreenAppear'] > level_0_a1['OffersScreenAppear'])\n",
    "level_4_a1 = level_3_a1 & (level_0_a1['PaymentScreenSuccessful'] > level_0_a1['CartScreenAppear'])\n",
    "\n",
    "main_screen_count_a1 = level_0_a1[level_1_a1].shape[0]\n",
    "offers_screen_count_a1 = level_0_a1[level_2_a1].shape[0]\n",
    "cart_screen_count_a1 = level_0_a1[level_3_a1].shape[0]\n",
    "pay_count_a1 = level_0_a1[level_4_a1].shape[0]\n",
    "\n",
    "level_0_a2 = data_clear.loc[(data_clear['event']!='Tutorial') & (data_clear['group']==247)].pivot_table(\n",
    "        index='user_id', \n",
    "        columns='event', \n",
    "        values='dt',\n",
    "        aggfunc='min').reset_index(drop=True)\n",
    "\n",
    "level_1_a2 = (~level_0_a2['MainScreenAppear'].isna())\n",
    "level_2_a2 = level_1_a2 & (level_0_a2['OffersScreenAppear'] > level_0_a2['MainScreenAppear'])\n",
    "level_3_a2 = level_2_a2 & (level_0_a2['CartScreenAppear'] > level_0_a2['OffersScreenAppear'])\n",
    "level_4_a2 = level_3_a2 & (level_0_a2['PaymentScreenSuccessful'] > level_0_a2['CartScreenAppear'])\n",
    "\n",
    "main_screen_count_a2 = level_0_a2[level_1_a2].shape[0]\n",
    "offers_screen_count_a2 = level_0_a2[level_2_a2].shape[0]\n",
    "cart_screen_count_a2 = level_0_a2[level_3_a2].shape[0]\n",
    "pay_count_a2 = level_0_a2[level_4_a2].shape[0]\n",
    "\n",
    "level_0_b = data_clear.loc[(data_clear['event']!='Tutorial') & (data_clear['group']==248)].pivot_table(\n",
    "        index='user_id', \n",
    "        columns='event', \n",
    "        values='dt',\n",
    "        aggfunc='min').reset_index(drop=True)\n",
    "\n",
    "level_1_b = (~level_0_b['MainScreenAppear'].isna())\n",
    "level_2_b = level_1_b & (level_0_b['OffersScreenAppear'] > level_0_b['MainScreenAppear'])\n",
    "level_3_b = level_2_b & (level_0_b['CartScreenAppear'] > level_0_b['OffersScreenAppear'])\n",
    "level_4_b = level_3_b & (level_0_b['PaymentScreenSuccessful'] > level_0_b['CartScreenAppear'])\n",
    "\n",
    "main_screen_count_b = level_0_b[level_1_b].shape[0]\n",
    "offers_screen_count_b = level_0_b[level_2_b].shape[0]\n",
    "cart_screen_count_b = level_0_b[level_3_b].shape[0]\n",
    "pay_count_b = level_0_b[level_4_b].shape[0]\n",
    "\n",
    "funnel_a1 = pd.DataFrame(columns = ['event', 'number_of_users_a1'], data = [\n",
    "    ['MainScreenAppear', main_screen_count_a1],\n",
    "    ['OffersScreenAppear', offers_screen_count_a1],\n",
    "    ['CartScreenAppear', cart_screen_count_a1],\n",
    "    ['PaymentScreenSuccessful', pay_count_a1]])\n",
    "\n",
    "funnel_a2 = pd.DataFrame(columns = ['event', 'number_of_users_a2'], data = [\n",
    "    ['MainScreenAppear', main_screen_count_a2],\n",
    "    ['OffersScreenAppear', offers_screen_count_a2],\n",
    "    ['CartScreenAppear', cart_screen_count_a2],\n",
    "    ['PaymentScreenSuccessful', pay_count_a2]])\n",
    "\n",
    "funnel_b = pd.DataFrame(columns = ['event', 'number_of_users_b'], data = [\n",
    "    ['MainScreenAppear', main_screen_count_b],\n",
    "    ['OffersScreenAppear', offers_screen_count_b],\n",
    "    ['CartScreenAppear', cart_screen_count_b],\n",
    "    ['PaymentScreenSuccessful', pay_count_b]])\n",
    "\n",
    "step_a1 = funnel_a1['number_of_users_a1'][0]\n",
    "start_a1 = step_a1\n",
    "step_a2 = funnel_a2['number_of_users_a2'][0]\n",
    "start_a2 = step_a2\n",
    "step_b = funnel_b['number_of_users_b'][0]\n",
    "start_b = step_b\n",
    "\n",
    "for i in funnel_a1.index:\n",
    "    funnel_a1.loc[i,'ratio_from_start_a1'] = (funnel_a1['number_of_users_a1'][i]/start_a1*100).round(2)\n",
    "    step_a1= funnel_a1['number_of_users_a1'][i]\n",
    "    funnel_a2.loc[i,'ratio_from_start_a2'] = (funnel_a2['number_of_users_a2'][i]/start_a2*100).round(2)\n",
    "    step_a2= funnel_a2['number_of_users_a2'][i]\n",
    "    funnel_b.loc[i,'ratio_from_start_b'] = (funnel_b['number_of_users_b'][i]/start_b*100).round(2)\n",
    "    step_b= funnel_b['number_of_users_b'][i]\n",
    "\n",
    "funnel_a1_a2_b = (funnel_a1.merge(funnel_a2, left_on='event', right_on='event', how='left').\n",
    "                           merge(funnel_b, left_on='event', right_on='event', how='left'))\n",
    "\n",
    "funnel_a1_a2_b"
   ]
  },
  {
   "cell_type": "markdown",
   "metadata": {},
   "source": [
    "Как видно по полученной таблице, и при разбиении на 3 группы от главной страницы до страницы с успешной оплатой также доходят в среднем около 6 % пользователей."
   ]
  },
  {
   "cell_type": "markdown",
   "metadata": {},
   "source": [
    "**Вывод по шагу 3.**"
   ]
  },
  {
   "cell_type": "markdown",
   "metadata": {},
   "source": [
    "По данному шагу можно сделать следующие выводы:\n",
    "\n",
    "1. В логе присутствуют следующие события: \n",
    "    * **MainScreenAppear** (появление главного экрана) - **самое частое** (117328 появлений или 48.71 % от всех событий);\n",
    "    * **OffersScreenAppear** (появление экрана с предложениями);\n",
    "    * **CartScreenAppear** (появление экрана с корзиной);\n",
    "    * **PaymentScreenSuccessful** (экран с подтверждением успешной покупки);\n",
    "    * **Tutorial** (руководство либо инструкция для пользователя) - **не влияющее на эксперимент**.\n",
    "2. **7419** пользователей попали на главный экран.\n",
    "3. Цепочка событий выглядит следующим образом: \n",
    "\n",
    "**MainScreenAppear** --> **OffersScreenAppear** --> **CartScreenAppear** --> **PaymentScreenSuccessful**\n",
    "\n",
    "4. Больше всего пользователей теряется при переходе с главного экрана к странице с предложениями (более 38 %).\n",
    "5. Всего **около 6 %** пользователей проходят полностью путь от попадания на главный экран до успешной оплаты.\n",
    "6. При разбиении на 3 группы результаты качественно совпадают с теми, которые представлены для всего набора данных.\n",
    "7. **Без учета строгой последовательности прохождения событий до оплаты дошло 47 % пользователей.**"
   ]
  },
  {
   "cell_type": "markdown",
   "metadata": {},
   "source": [
    "## Шаг 4. Исследование результатов эксперимента"
   ]
  },
  {
   "cell_type": "markdown",
   "metadata": {},
   "source": [
    "На данном шаге нам предстоит провести A/A/B-эксперимент. Для этого будет сделано следующее:\n",
    "* проведен A/A-эксперимент, чтобы проверить корректность всех механизмов и расчетов;\n",
    "* проверено отличие между контрольными группами по самому популярному событию (\"появление главного экрана\");\n",
    "* проверено отличие между экспериментальной и контрольными группами (по отдельности и вместе);\n",
    "* сформулируем окончательные выводы."
   ]
  },
  {
   "cell_type": "markdown",
   "metadata": {},
   "source": [
    "Снова выведем, сколько пользователей в каждой группе, только представим их в виде таблицы (она нам пригодится для проведения теста) и добавим новый столбец с суммарным количеством пользователей из групп 246 и 247:"
   ]
  },
  {
   "cell_type": "code",
   "execution_count": 47,
   "metadata": {},
   "outputs": [
    {
     "data": {
      "text/plain": [
       "group\n",
       "246        2484\n",
       "247        2513\n",
       "248        2537\n",
       "246+247    4997\n",
       "Name: user_id, dtype: int64"
      ]
     },
     "execution_count": 47,
     "metadata": {},
     "output_type": "execute_result"
    }
   ],
   "source": [
    "groups = data_clear.groupby('group')['user_id'].nunique()\n",
    "groups['246+247'] = groups[246] + groups[247]\n",
    "groups"
   ]
  },
  {
   "cell_type": "markdown",
   "metadata": {},
   "source": [
    "На предыдущем шаге было определено, что самое популярное событие - **MainScreenAppear**. Его совершили более 98 % пользователей (как в общем, так и при разбиении по группам)."
   ]
  },
  {
   "cell_type": "markdown",
   "metadata": {},
   "source": [
    "В таблице \"events_by_users\" можно увидеть доли пользователей, совершивших определенные события:"
   ]
  },
  {
   "cell_type": "code",
   "execution_count": 48,
   "metadata": {},
   "outputs": [
    {
     "data": {
      "text/html": [
       "<div>\n",
       "<style scoped>\n",
       "    .dataframe tbody tr th:only-of-type {\n",
       "        vertical-align: middle;\n",
       "    }\n",
       "\n",
       "    .dataframe tbody tr th {\n",
       "        vertical-align: top;\n",
       "    }\n",
       "\n",
       "    .dataframe thead th {\n",
       "        text-align: right;\n",
       "    }\n",
       "</style>\n",
       "<table border=\"1\" class=\"dataframe\">\n",
       "  <thead>\n",
       "    <tr style=\"text-align: right;\">\n",
       "      <th></th>\n",
       "      <th>event</th>\n",
       "      <th>total_users</th>\n",
       "      <th>users_a1</th>\n",
       "      <th>users_a2</th>\n",
       "      <th>users_b</th>\n",
       "      <th>event_short</th>\n",
       "      <th>total_part</th>\n",
       "      <th>users_a1_part</th>\n",
       "      <th>users_a2_part</th>\n",
       "      <th>users_b_part</th>\n",
       "    </tr>\n",
       "  </thead>\n",
       "  <tbody>\n",
       "    <tr>\n",
       "      <th>0</th>\n",
       "      <td>MainScreenAppear</td>\n",
       "      <td>7419</td>\n",
       "      <td>2450</td>\n",
       "      <td>2476</td>\n",
       "      <td>2493</td>\n",
       "      <td>Main</td>\n",
       "      <td>98.47</td>\n",
       "      <td>98.63</td>\n",
       "      <td>98.53</td>\n",
       "      <td>98.27</td>\n",
       "    </tr>\n",
       "    <tr>\n",
       "      <th>1</th>\n",
       "      <td>OffersScreenAppear</td>\n",
       "      <td>4593</td>\n",
       "      <td>1542</td>\n",
       "      <td>1520</td>\n",
       "      <td>1531</td>\n",
       "      <td>Offers</td>\n",
       "      <td>60.96</td>\n",
       "      <td>62.08</td>\n",
       "      <td>60.49</td>\n",
       "      <td>60.35</td>\n",
       "    </tr>\n",
       "    <tr>\n",
       "      <th>2</th>\n",
       "      <td>CartScreenAppear</td>\n",
       "      <td>3734</td>\n",
       "      <td>1266</td>\n",
       "      <td>1238</td>\n",
       "      <td>1230</td>\n",
       "      <td>Cart</td>\n",
       "      <td>49.56</td>\n",
       "      <td>50.97</td>\n",
       "      <td>49.26</td>\n",
       "      <td>48.48</td>\n",
       "    </tr>\n",
       "    <tr>\n",
       "      <th>3</th>\n",
       "      <td>PaymentScreenSuccessful</td>\n",
       "      <td>3539</td>\n",
       "      <td>1200</td>\n",
       "      <td>1158</td>\n",
       "      <td>1181</td>\n",
       "      <td>Payment</td>\n",
       "      <td>46.97</td>\n",
       "      <td>48.31</td>\n",
       "      <td>46.08</td>\n",
       "      <td>46.55</td>\n",
       "    </tr>\n",
       "    <tr>\n",
       "      <th>4</th>\n",
       "      <td>Tutorial</td>\n",
       "      <td>840</td>\n",
       "      <td>278</td>\n",
       "      <td>283</td>\n",
       "      <td>279</td>\n",
       "      <td>Tutorial</td>\n",
       "      <td>11.15</td>\n",
       "      <td>11.19</td>\n",
       "      <td>11.26</td>\n",
       "      <td>11.00</td>\n",
       "    </tr>\n",
       "  </tbody>\n",
       "</table>\n",
       "</div>"
      ],
      "text/plain": [
       "                     event  total_users  users_a1  users_a2  users_b  \\\n",
       "0         MainScreenAppear         7419      2450      2476     2493   \n",
       "1       OffersScreenAppear         4593      1542      1520     1531   \n",
       "2         CartScreenAppear         3734      1266      1238     1230   \n",
       "3  PaymentScreenSuccessful         3539      1200      1158     1181   \n",
       "4                 Tutorial          840       278       283      279   \n",
       "\n",
       "  event_short  total_part  users_a1_part  users_a2_part  users_b_part  \n",
       "0        Main       98.47          98.63          98.53         98.27  \n",
       "1      Offers       60.96          62.08          60.49         60.35  \n",
       "2        Cart       49.56          50.97          49.26         48.48  \n",
       "3     Payment       46.97          48.31          46.08         46.55  \n",
       "4    Tutorial       11.15          11.19          11.26         11.00  "
      ]
     },
     "execution_count": 48,
     "metadata": {},
     "output_type": "execute_result"
    }
   ],
   "source": [
    "events_by_users"
   ]
  },
  {
   "cell_type": "markdown",
   "metadata": {},
   "source": [
    "Создадим таблицу для проведения теста (оставим только события, за исключением \"Tutorial\" и распределение пользователей по группам):"
   ]
  },
  {
   "cell_type": "code",
   "execution_count": 49,
   "metadata": {},
   "outputs": [
    {
     "data": {
      "text/html": [
       "<div>\n",
       "<style scoped>\n",
       "    .dataframe tbody tr th:only-of-type {\n",
       "        vertical-align: middle;\n",
       "    }\n",
       "\n",
       "    .dataframe tbody tr th {\n",
       "        vertical-align: top;\n",
       "    }\n",
       "\n",
       "    .dataframe thead th {\n",
       "        text-align: right;\n",
       "    }\n",
       "</style>\n",
       "<table border=\"1\" class=\"dataframe\">\n",
       "  <thead>\n",
       "    <tr style=\"text-align: right;\">\n",
       "      <th>group</th>\n",
       "      <th>event</th>\n",
       "      <th>246</th>\n",
       "      <th>247</th>\n",
       "      <th>248</th>\n",
       "      <th>246+247</th>\n",
       "      <th>total</th>\n",
       "    </tr>\n",
       "  </thead>\n",
       "  <tbody>\n",
       "    <tr>\n",
       "      <th>0</th>\n",
       "      <td>MainScreenAppear</td>\n",
       "      <td>2450</td>\n",
       "      <td>2476</td>\n",
       "      <td>2493</td>\n",
       "      <td>4926</td>\n",
       "      <td>7419</td>\n",
       "    </tr>\n",
       "    <tr>\n",
       "      <th>1</th>\n",
       "      <td>OffersScreenAppear</td>\n",
       "      <td>1542</td>\n",
       "      <td>1520</td>\n",
       "      <td>1531</td>\n",
       "      <td>3062</td>\n",
       "      <td>4593</td>\n",
       "    </tr>\n",
       "    <tr>\n",
       "      <th>2</th>\n",
       "      <td>CartScreenAppear</td>\n",
       "      <td>1266</td>\n",
       "      <td>1238</td>\n",
       "      <td>1230</td>\n",
       "      <td>2504</td>\n",
       "      <td>3734</td>\n",
       "    </tr>\n",
       "    <tr>\n",
       "      <th>3</th>\n",
       "      <td>PaymentScreenSuccessful</td>\n",
       "      <td>1200</td>\n",
       "      <td>1158</td>\n",
       "      <td>1181</td>\n",
       "      <td>2358</td>\n",
       "      <td>3539</td>\n",
       "    </tr>\n",
       "  </tbody>\n",
       "</table>\n",
       "</div>"
      ],
      "text/plain": [
       "group                    event   246   247   248  246+247  total\n",
       "0             MainScreenAppear  2450  2476  2493     4926   7419\n",
       "1           OffersScreenAppear  1542  1520  1531     3062   4593\n",
       "2             CartScreenAppear  1266  1238  1230     2504   3734\n",
       "3      PaymentScreenSuccessful  1200  1158  1181     2358   3539"
      ]
     },
     "execution_count": 49,
     "metadata": {},
     "output_type": "execute_result"
    }
   ],
   "source": [
    "group_test = data_clear[data_clear['event']!='Tutorial'].pivot_table(index='event',columns='group',values='user_id',aggfunc='nunique').sort_values(by=246, ascending=False)\n",
    "\n",
    "group_test = group_test.reset_index()\n",
    "group_test['246+247'] = group_test[246] + group_test[247]\n",
    "group_test['total'] = group_test['246+247'] + group_test[248]\n",
    "\n",
    "group_test"
   ]
  },
  {
   "cell_type": "markdown",
   "metadata": {},
   "source": [
    "Перед проведением A/B-теста нужно убедиться, что:\n",
    "1. Количество пользователей, попавших в различные группы, отличается примерно на 0.5% (отличие немного больше, но это не критично);\n",
    "2. Данные во всех группах отправляются в системы аналитики одинаково;\n",
    "3. Различие ключевых метрик по группам не более 1% и не имеет статистической значимости;\n",
    "4. Каждый посетитель, попавший в одну из групп теста, остаётся в этой группе до конца теста.\n",
    "\n",
    "Из всех указанных пунктов нужно подтвердить только пункт № 3. Для этого проведем A/A-тест."
   ]
  },
  {
   "cell_type": "markdown",
   "metadata": {},
   "source": [
    "Напишем функцию для проверки статистической разницы между выборками:"
   ]
  },
  {
   "cell_type": "markdown",
   "metadata": {},
   "source": [
    "Сформулируем нулевую и альтернативную гипотезы:\n",
    "* **H0 - между группами нет значимой разницы**\n",
    "* **H1 - между группами есть значимая разница**"
   ]
  },
  {
   "cell_type": "code",
   "execution_count": 50,
   "metadata": {},
   "outputs": [
    {
     "name": "stdout",
     "output_type": "stream",
     "text": [
      "Для MainScreenAppear p-значение равно 0.7570597232046099\n",
      "Не получилось отвергнуть нулевую гипотезу: между группами нет значимой разницы\n",
      "\n",
      "Для OffersScreenAppear p-значение равно 0.2480954578522181\n",
      "Не получилось отвергнуть нулевую гипотезу: между группами нет значимой разницы\n",
      "\n",
      "Для CartScreenAppear p-значение равно 0.22883372237997213\n",
      "Не получилось отвергнуть нулевую гипотезу: между группами нет значимой разницы\n",
      "\n",
      "Для PaymentScreenSuccessful p-значение равно 0.11456679313141849\n",
      "Не получилось отвергнуть нулевую гипотезу: между группами нет значимой разницы\n",
      "\n"
     ]
    }
   ],
   "source": [
    "def test(gr1, gr2, alpha):\n",
    "    for i in group_test.index:\n",
    "        # пропорция успехов в первой группе:\n",
    "        p1 = group_test[gr1][i]/groups[gr1]\n",
    "        # пропорция успехов во второй группе:\n",
    "        p2 = group_test[gr2][i]/groups[gr2]\n",
    "        # пропорция успехов в комбинированном датасете:\n",
    "        p_combined = ((group_test[gr1][i]+group_test[gr2][i])/(groups[gr1]+groups[gr2]))\n",
    "        #разница пропорций в датасетах\n",
    "        difference = p1 - p2\n",
    "        # считаем статистику в ст.отклонениях стандартного нормального распределения\n",
    "        z_value = difference/mth.sqrt(p_combined*(1-p_combined)*(1/groups[gr1]+1/groups[gr2]))\n",
    "        # задаем стандартное нормальное распределение (среднее 0, ст.отклонение 1)\n",
    "        distr = st.norm(0, 1) \n",
    "        p_value = (1 - distr.cdf(abs(z_value))) * 2\n",
    "        print('Для {} p-значение равно {}'.format(group_test['event'][i], p_value))\n",
    "        if (p_value < alpha):\n",
    "            print('Отвергаем нулевую гипотезу: между группами пользователей есть значимая разница')\n",
    "        else:\n",
    "            print('Не получилось отвергнуть нулевую гипотезу: между группами нет значимой разницы')\n",
    "        print('')\n",
    "        \n",
    "test(246, 247, 0.01)"
   ]
  },
  {
   "cell_type": "markdown",
   "metadata": {},
   "source": [
    "A/A-тест успешно пройден. Группы 246 и 247 по всем событиям не имеют статистической разницы.\n",
    "\n",
    "Поэтому можно теперь провести A/B-тесты для следующих комбинаций групп:\n",
    "* 246/248;\n",
    "* 247/248;\n",
    "* 246+247/248.\n",
    "\n",
    "Только теперь уровень значимости **alpha** примем равным 5 %"
   ]
  },
  {
   "cell_type": "code",
   "execution_count": 51,
   "metadata": {},
   "outputs": [
    {
     "name": "stdout",
     "output_type": "stream",
     "text": [
      "Для MainScreenAppear p-значение равно 0.2949721933554552\n",
      "Не получилось отвергнуть нулевую гипотезу: между группами нет значимой разницы\n",
      "\n",
      "Для OffersScreenAppear p-значение равно 0.20836205402738917\n",
      "Не получилось отвергнуть нулевую гипотезу: между группами нет значимой разницы\n",
      "\n",
      "Для CartScreenAppear p-значение равно 0.07842923237520116\n",
      "Не получилось отвергнуть нулевую гипотезу: между группами нет значимой разницы\n",
      "\n",
      "Для PaymentScreenSuccessful p-значение равно 0.2122553275697796\n",
      "Не получилось отвергнуть нулевую гипотезу: между группами нет значимой разницы\n",
      "\n"
     ]
    }
   ],
   "source": [
    "test(246, 248, 0.05)"
   ]
  },
  {
   "cell_type": "code",
   "execution_count": 52,
   "metadata": {},
   "outputs": [
    {
     "name": "stdout",
     "output_type": "stream",
     "text": [
      "Для MainScreenAppear p-значение равно 0.4587053616621515\n",
      "Не получилось отвергнуть нулевую гипотезу: между группами нет значимой разницы\n",
      "\n",
      "Для OffersScreenAppear p-значение равно 0.9197817830592261\n",
      "Не получилось отвергнуть нулевую гипотезу: между группами нет значимой разницы\n",
      "\n",
      "Для CartScreenAppear p-значение равно 0.5786197879539783\n",
      "Не получилось отвергнуть нулевую гипотезу: между группами нет значимой разницы\n",
      "\n",
      "Для PaymentScreenSuccessful p-значение равно 0.7373415053803964\n",
      "Не получилось отвергнуть нулевую гипотезу: между группами нет значимой разницы\n",
      "\n"
     ]
    }
   ],
   "source": [
    "test(247, 248, 0.05)"
   ]
  },
  {
   "cell_type": "code",
   "execution_count": 53,
   "metadata": {},
   "outputs": [
    {
     "name": "stdout",
     "output_type": "stream",
     "text": [
      "Для MainScreenAppear p-значение равно 0.29424526837179577\n",
      "Не получилось отвергнуть нулевую гипотезу: между группами нет значимой разницы\n",
      "\n",
      "Для OffersScreenAppear p-значение равно 0.43425549655188256\n",
      "Не получилось отвергнуть нулевую гипотезу: между группами нет значимой разницы\n",
      "\n",
      "Для CartScreenAppear p-значение равно 0.18175875284404386\n",
      "Не получилось отвергнуть нулевую гипотезу: между группами нет значимой разницы\n",
      "\n",
      "Для PaymentScreenSuccessful p-значение равно 0.6004294282308704\n",
      "Не получилось отвергнуть нулевую гипотезу: между группами нет значимой разницы\n",
      "\n"
     ]
    }
   ],
   "source": [
    "test('246+247', 248, 0.05)"
   ]
  },
  {
   "cell_type": "markdown",
   "metadata": {},
   "source": [
    "В итоге проверено 16 статистических гипотез, и все они подтвердили, что между исследуемыми группами нет значимой разницы.\n",
    "\n",
    "Таким образом, изменение шрифта в приложении **практически никак не повлияло** на количество пользователей."
   ]
  },
  {
   "cell_type": "markdown",
   "metadata": {},
   "source": [
    "## Общий вывод"
   ]
  },
  {
   "cell_type": "markdown",
   "metadata": {},
   "source": [
    "В ходе исследования было сделано и выявлено следующее:\n",
    "\n",
    "1. Произведена предобработка датасета.\n",
    "\n",
    "\n",
    "2. Подробно изучен лог данных:\n",
    "    * представлены данные с 25 июля по 7 августа 2019 года, однако основные события происходили с 1 августа 2019 года, поэтому было решено не учитывать данные за более ранний период времени (было потеряно всего 1.16 % событий и примерно 0.23 % уникальных пользователей);\n",
    "    * в логе 5 уникальных событий, которые идут в следующем порядке:\n",
    "        \n",
    "        **MainScreenAppear** --> **OffersScreenAppear** --> **CartScreenAppear** --> **PaymentScreenSuccessful**,\n",
    "        \n",
    "        а **Tutorial** может произойти в любой момент времени и при этом явно не влияет на прохождение воронки (поэтому при изучении воронки мы его не учитывали);\n",
    "    * в логе всего 7551 уникальный пользователь, которые разбиты на примерно равные 3 группы - 246, 247, 248. В среднем около 32 событий на одного пользователя;\n",
    "    * **MainScreenAppear** (появление главного экрана) - **самое частое** событие (**117328 появлений** или **48.71 %** от числа всех событий, которые совершили **7419 пользователей**).\n",
    "    \n",
    "    \n",
    "3. Изучена воронка событий:\n",
    "    * больше всего пользователей теряется при переходе с главного экрана к странице с предложениями (более 38 %);\n",
    "    * **около 6 %** пользователей проходят полностью путь от попадания на главный экран до успешной оплаты.\n",
    "    \n",
    "    \n",
    "4. По результатам A/A/B-теста определено, что изменение шрифта в приложении практически не повлияло на количество пользователей."
   ]
  }
 ],
 "metadata": {
  "ExecuteTimeLog": [
   {
    "duration": 1364,
    "start_time": "2022-09-19T08:02:49.086Z"
   },
   {
    "duration": 584,
    "start_time": "2022-09-19T08:03:47.496Z"
   },
   {
    "duration": 11,
    "start_time": "2022-09-19T08:03:55.358Z"
   },
   {
    "duration": 167,
    "start_time": "2022-09-19T08:04:06.737Z"
   },
   {
    "duration": 9,
    "start_time": "2022-09-19T08:04:07.579Z"
   },
   {
    "duration": 18,
    "start_time": "2022-09-19T08:04:41.955Z"
   },
   {
    "duration": 8,
    "start_time": "2022-09-19T08:13:08.645Z"
   },
   {
    "duration": 115,
    "start_time": "2022-09-19T08:14:49.315Z"
   },
   {
    "duration": 6,
    "start_time": "2022-09-19T08:14:57.398Z"
   },
   {
    "duration": 12,
    "start_time": "2022-09-19T08:15:08.816Z"
   },
   {
    "duration": 67,
    "start_time": "2022-09-19T08:16:45.736Z"
   },
   {
    "duration": 81,
    "start_time": "2022-09-19T08:17:23.116Z"
   },
   {
    "duration": 26,
    "start_time": "2022-09-19T08:17:29.336Z"
   },
   {
    "duration": 15,
    "start_time": "2022-09-19T08:18:45.357Z"
   },
   {
    "duration": 17,
    "start_time": "2022-09-19T08:18:54.716Z"
   },
   {
    "duration": 62,
    "start_time": "2022-09-19T08:19:19.846Z"
   },
   {
    "duration": 421,
    "start_time": "2022-09-19T08:20:59.411Z"
   },
   {
    "duration": 634,
    "start_time": "2022-09-19T08:21:16.341Z"
   },
   {
    "duration": 1287,
    "start_time": "2022-09-19T08:21:30.414Z"
   },
   {
    "duration": 72,
    "start_time": "2022-09-19T08:21:41.228Z"
   },
   {
    "duration": 27,
    "start_time": "2022-09-19T08:21:41.599Z"
   },
   {
    "duration": 64,
    "start_time": "2022-09-19T08:21:45.699Z"
   },
   {
    "duration": 9,
    "start_time": "2022-09-19T08:22:31.311Z"
   },
   {
    "duration": 8,
    "start_time": "2022-09-19T08:22:38.591Z"
   },
   {
    "duration": 70,
    "start_time": "2022-09-19T08:23:01.705Z"
   },
   {
    "duration": 83,
    "start_time": "2022-09-19T08:23:06.714Z"
   },
   {
    "duration": 86,
    "start_time": "2022-09-19T08:24:36.710Z"
   },
   {
    "duration": 13,
    "start_time": "2022-09-19T08:25:39.094Z"
   },
   {
    "duration": 6,
    "start_time": "2022-09-19T08:25:45.222Z"
   },
   {
    "duration": 4,
    "start_time": "2022-09-19T08:25:58.200Z"
   },
   {
    "duration": 107,
    "start_time": "2022-09-19T08:28:28.678Z"
   },
   {
    "duration": 12,
    "start_time": "2022-09-19T08:28:59.550Z"
   },
   {
    "duration": 1333,
    "start_time": "2022-09-19T10:44:59.363Z"
   },
   {
    "duration": 733,
    "start_time": "2022-09-19T10:45:00.698Z"
   },
   {
    "duration": 12,
    "start_time": "2022-09-19T10:45:01.432Z"
   },
   {
    "duration": 77,
    "start_time": "2022-09-19T10:45:01.446Z"
   },
   {
    "duration": 11,
    "start_time": "2022-09-19T10:45:01.528Z"
   },
   {
    "duration": 151,
    "start_time": "2022-09-19T10:45:01.540Z"
   },
   {
    "duration": 35,
    "start_time": "2022-09-19T10:45:01.693Z"
   },
   {
    "duration": 109,
    "start_time": "2022-09-19T10:45:01.732Z"
   },
   {
    "duration": 84,
    "start_time": "2022-09-19T10:45:01.844Z"
   },
   {
    "duration": 5,
    "start_time": "2022-09-19T10:45:01.936Z"
   },
   {
    "duration": 111,
    "start_time": "2022-09-19T10:45:01.942Z"
   },
   {
    "duration": 16,
    "start_time": "2022-09-19T10:45:02.055Z"
   },
   {
    "duration": 39,
    "start_time": "2022-09-19T11:00:25.734Z"
   },
   {
    "duration": 20,
    "start_time": "2022-09-19T11:01:45.078Z"
   },
   {
    "duration": 6,
    "start_time": "2022-09-19T11:05:10.388Z"
   },
   {
    "duration": 7,
    "start_time": "2022-09-19T11:06:14.758Z"
   },
   {
    "duration": 11,
    "start_time": "2022-09-19T11:07:16.361Z"
   },
   {
    "duration": 8,
    "start_time": "2022-09-19T11:07:19.103Z"
   },
   {
    "duration": 7,
    "start_time": "2022-09-19T11:07:25.718Z"
   },
   {
    "duration": 13,
    "start_time": "2022-09-19T11:07:35.598Z"
   },
   {
    "duration": 12,
    "start_time": "2022-09-19T11:07:50.048Z"
   },
   {
    "duration": 12,
    "start_time": "2022-09-19T11:07:50.466Z"
   },
   {
    "duration": 12,
    "start_time": "2022-09-19T11:07:50.848Z"
   },
   {
    "duration": 9,
    "start_time": "2022-09-19T11:08:23.351Z"
   },
   {
    "duration": 14,
    "start_time": "2022-09-19T11:08:30.739Z"
   },
   {
    "duration": 11,
    "start_time": "2022-09-19T11:09:41.497Z"
   },
   {
    "duration": 10,
    "start_time": "2022-09-19T11:09:42.399Z"
   },
   {
    "duration": 9,
    "start_time": "2022-09-19T11:09:43.088Z"
   },
   {
    "duration": 14,
    "start_time": "2022-09-19T11:10:38.333Z"
   },
   {
    "duration": 10,
    "start_time": "2022-09-19T11:10:38.678Z"
   },
   {
    "duration": 10,
    "start_time": "2022-09-19T11:10:39.068Z"
   },
   {
    "duration": 39,
    "start_time": "2022-09-19T11:11:05.902Z"
   },
   {
    "duration": 6,
    "start_time": "2022-09-19T11:12:18.752Z"
   },
   {
    "duration": 3,
    "start_time": "2022-09-19T11:12:28.686Z"
   },
   {
    "duration": 8,
    "start_time": "2022-09-19T11:13:26.722Z"
   },
   {
    "duration": 5,
    "start_time": "2022-09-19T11:19:54.380Z"
   },
   {
    "duration": 4,
    "start_time": "2022-09-19T11:20:31.212Z"
   },
   {
    "duration": 4,
    "start_time": "2022-09-19T11:22:58.512Z"
   },
   {
    "duration": 93,
    "start_time": "2022-09-19T11:23:18.082Z"
   },
   {
    "duration": 17,
    "start_time": "2022-09-19T11:23:37.409Z"
   },
   {
    "duration": 22,
    "start_time": "2022-09-19T11:24:19.321Z"
   },
   {
    "duration": 21,
    "start_time": "2022-09-19T11:25:13.360Z"
   },
   {
    "duration": 21,
    "start_time": "2022-09-19T11:25:24.230Z"
   },
   {
    "duration": 76,
    "start_time": "2022-09-19T11:28:08.767Z"
   },
   {
    "duration": 76,
    "start_time": "2022-09-19T11:28:23.114Z"
   },
   {
    "duration": 6,
    "start_time": "2022-09-19T11:28:30.438Z"
   },
   {
    "duration": 12,
    "start_time": "2022-09-19T11:36:15.157Z"
   },
   {
    "duration": 2978,
    "start_time": "2022-09-19T11:36:20.245Z"
   },
   {
    "duration": 35,
    "start_time": "2022-09-19T11:36:31.938Z"
   },
   {
    "duration": 16,
    "start_time": "2022-09-19T11:38:43.341Z"
   },
   {
    "duration": 518,
    "start_time": "2022-09-19T11:39:18.656Z"
   },
   {
    "duration": 36,
    "start_time": "2022-09-19T11:39:26.741Z"
   },
   {
    "duration": 159,
    "start_time": "2022-09-19T11:40:01.938Z"
   },
   {
    "duration": 124,
    "start_time": "2022-09-19T11:41:22.128Z"
   },
   {
    "duration": 9,
    "start_time": "2022-09-19T11:41:31.237Z"
   },
   {
    "duration": 2017,
    "start_time": "2022-09-19T11:42:03.958Z"
   },
   {
    "duration": 127,
    "start_time": "2022-09-19T11:43:50.379Z"
   },
   {
    "duration": 1169,
    "start_time": "2022-09-19T11:43:58.643Z"
   },
   {
    "duration": 3,
    "start_time": "2022-09-19T11:44:32.748Z"
   },
   {
    "duration": 16,
    "start_time": "2022-09-19T11:45:13.026Z"
   },
   {
    "duration": 137,
    "start_time": "2022-09-19T11:45:20.323Z"
   },
   {
    "duration": 2,
    "start_time": "2022-09-19T11:47:18.722Z"
   },
   {
    "duration": 176,
    "start_time": "2022-09-19T11:47:42.321Z"
   },
   {
    "duration": 259,
    "start_time": "2022-09-19T11:47:52.921Z"
   },
   {
    "duration": 197,
    "start_time": "2022-09-19T11:48:11.490Z"
   },
   {
    "duration": 243,
    "start_time": "2022-09-19T11:48:16.412Z"
   },
   {
    "duration": 207,
    "start_time": "2022-09-19T11:48:24.325Z"
   },
   {
    "duration": 26,
    "start_time": "2022-09-19T11:50:16.045Z"
   },
   {
    "duration": 272,
    "start_time": "2022-09-19T11:53:54.083Z"
   },
   {
    "duration": 224,
    "start_time": "2022-09-19T11:54:04.114Z"
   },
   {
    "duration": 23,
    "start_time": "2022-09-19T11:55:40.883Z"
   },
   {
    "duration": 39,
    "start_time": "2022-09-19T11:56:08.239Z"
   },
   {
    "duration": 31,
    "start_time": "2022-09-19T11:58:30.014Z"
   },
   {
    "duration": 38,
    "start_time": "2022-09-19T11:58:43.424Z"
   },
   {
    "duration": 23,
    "start_time": "2022-09-19T11:59:38.998Z"
   },
   {
    "duration": 23,
    "start_time": "2022-09-19T11:59:46.919Z"
   },
   {
    "duration": 83,
    "start_time": "2022-09-19T12:00:41.597Z"
   },
   {
    "duration": 25,
    "start_time": "2022-09-19T12:00:48.769Z"
   },
   {
    "duration": 4,
    "start_time": "2022-09-19T12:01:11.763Z"
   },
   {
    "duration": 19,
    "start_time": "2022-09-19T12:02:43.942Z"
   },
   {
    "duration": 19,
    "start_time": "2022-09-19T12:02:55.112Z"
   },
   {
    "duration": 14,
    "start_time": "2022-09-19T12:04:47.274Z"
   },
   {
    "duration": 14,
    "start_time": "2022-09-19T12:04:52.079Z"
   },
   {
    "duration": 30,
    "start_time": "2022-09-19T12:07:32.809Z"
   },
   {
    "duration": 22,
    "start_time": "2022-09-19T12:07:41.210Z"
   },
   {
    "duration": 23,
    "start_time": "2022-09-19T12:07:53.023Z"
   },
   {
    "duration": 20,
    "start_time": "2022-09-19T12:07:58.833Z"
   },
   {
    "duration": 15,
    "start_time": "2022-09-19T12:09:25.718Z"
   },
   {
    "duration": 4,
    "start_time": "2022-09-19T12:09:47.710Z"
   },
   {
    "duration": 5,
    "start_time": "2022-09-19T12:10:24.009Z"
   },
   {
    "duration": 19,
    "start_time": "2022-09-19T12:16:28.218Z"
   },
   {
    "duration": 6,
    "start_time": "2022-09-19T12:16:33.868Z"
   },
   {
    "duration": 9,
    "start_time": "2022-09-19T12:16:49.408Z"
   },
   {
    "duration": 10,
    "start_time": "2022-09-19T12:18:14.602Z"
   },
   {
    "duration": 6,
    "start_time": "2022-09-19T12:18:39.818Z"
   },
   {
    "duration": 1347,
    "start_time": "2022-09-20T06:45:52.037Z"
   },
   {
    "duration": 470,
    "start_time": "2022-09-20T06:45:53.386Z"
   },
   {
    "duration": 13,
    "start_time": "2022-09-20T06:45:53.857Z"
   },
   {
    "duration": 52,
    "start_time": "2022-09-20T06:45:53.872Z"
   },
   {
    "duration": 31,
    "start_time": "2022-09-20T06:45:53.926Z"
   },
   {
    "duration": 88,
    "start_time": "2022-09-20T06:45:53.959Z"
   },
   {
    "duration": 27,
    "start_time": "2022-09-20T06:45:54.049Z"
   },
   {
    "duration": 83,
    "start_time": "2022-09-20T06:45:54.078Z"
   },
   {
    "duration": 91,
    "start_time": "2022-09-20T06:45:54.163Z"
   },
   {
    "duration": 4,
    "start_time": "2022-09-20T06:45:54.255Z"
   },
   {
    "duration": 115,
    "start_time": "2022-09-20T06:45:54.261Z"
   },
   {
    "duration": 13,
    "start_time": "2022-09-20T06:45:54.378Z"
   },
   {
    "duration": 54,
    "start_time": "2022-09-20T06:45:54.393Z"
   },
   {
    "duration": 23,
    "start_time": "2022-09-20T06:45:54.450Z"
   },
   {
    "duration": 36,
    "start_time": "2022-09-20T06:45:54.475Z"
   },
   {
    "duration": 21,
    "start_time": "2022-09-20T06:45:54.513Z"
   },
   {
    "duration": 52,
    "start_time": "2022-09-20T06:45:54.536Z"
   },
   {
    "duration": 3,
    "start_time": "2022-09-20T06:45:54.590Z"
   },
   {
    "duration": 31,
    "start_time": "2022-09-20T06:45:54.595Z"
   },
   {
    "duration": 25,
    "start_time": "2022-09-20T06:45:54.627Z"
   },
   {
    "duration": 310,
    "start_time": "2022-09-20T06:45:54.654Z"
   },
   {
    "duration": 17,
    "start_time": "2022-09-20T06:45:54.966Z"
   },
   {
    "duration": 44,
    "start_time": "2022-09-20T06:45:54.985Z"
   },
   {
    "duration": 13,
    "start_time": "2022-09-20T06:45:55.031Z"
   },
   {
    "duration": 26,
    "start_time": "2022-09-20T06:45:55.046Z"
   },
   {
    "duration": 37,
    "start_time": "2022-09-20T06:45:55.074Z"
   },
   {
    "duration": 46,
    "start_time": "2022-09-20T06:45:55.114Z"
   },
   {
    "duration": 47,
    "start_time": "2022-09-20T06:45:55.162Z"
   },
   {
    "duration": 10,
    "start_time": "2022-09-20T06:45:55.211Z"
   },
   {
    "duration": 23,
    "start_time": "2022-09-20T06:54:46.767Z"
   },
   {
    "duration": 18,
    "start_time": "2022-09-20T07:07:07.348Z"
   },
   {
    "duration": 30,
    "start_time": "2022-09-20T07:07:13.207Z"
   },
   {
    "duration": 91,
    "start_time": "2022-09-20T07:10:08.093Z"
   },
   {
    "duration": 100,
    "start_time": "2022-09-20T07:10:26.587Z"
   },
   {
    "duration": 101,
    "start_time": "2022-09-20T07:10:30.968Z"
   },
   {
    "duration": 100,
    "start_time": "2022-09-20T07:11:31.748Z"
   },
   {
    "duration": 94,
    "start_time": "2022-09-20T07:11:47.029Z"
   },
   {
    "duration": 130,
    "start_time": "2022-09-20T07:14:02.839Z"
   },
   {
    "duration": 113,
    "start_time": "2022-09-20T07:14:19.534Z"
   },
   {
    "duration": 185,
    "start_time": "2022-09-20T07:15:01.969Z"
   },
   {
    "duration": 240,
    "start_time": "2022-09-20T07:16:05.391Z"
   },
   {
    "duration": 121,
    "start_time": "2022-09-20T07:16:17.030Z"
   },
   {
    "duration": 121,
    "start_time": "2022-09-20T07:21:32.297Z"
   },
   {
    "duration": 36,
    "start_time": "2022-09-20T07:31:43.231Z"
   },
   {
    "duration": 32,
    "start_time": "2022-09-20T07:32:41.776Z"
   },
   {
    "duration": 73,
    "start_time": "2022-09-20T07:33:53.368Z"
   },
   {
    "duration": 35,
    "start_time": "2022-09-20T07:35:39.465Z"
   },
   {
    "duration": 31,
    "start_time": "2022-09-20T07:36:24.136Z"
   },
   {
    "duration": 32,
    "start_time": "2022-09-20T07:36:25.035Z"
   },
   {
    "duration": 26,
    "start_time": "2022-09-20T07:39:22.832Z"
   },
   {
    "duration": 19,
    "start_time": "2022-09-20T07:40:15.529Z"
   },
   {
    "duration": 17,
    "start_time": "2022-09-20T07:41:04.026Z"
   },
   {
    "duration": 20,
    "start_time": "2022-09-20T07:41:24.009Z"
   },
   {
    "duration": 144,
    "start_time": "2022-09-20T07:47:30.826Z"
   },
   {
    "duration": 139,
    "start_time": "2022-09-20T07:50:50.428Z"
   },
   {
    "duration": 203,
    "start_time": "2022-09-20T07:51:02.840Z"
   },
   {
    "duration": 63,
    "start_time": "2022-09-20T07:51:39.500Z"
   },
   {
    "duration": 24,
    "start_time": "2022-09-20T07:51:44.357Z"
   },
   {
    "duration": 16,
    "start_time": "2022-09-20T07:51:50.188Z"
   },
   {
    "duration": 178,
    "start_time": "2022-09-20T07:51:53.271Z"
   },
   {
    "duration": 119,
    "start_time": "2022-09-20T07:52:45.668Z"
   },
   {
    "duration": 173,
    "start_time": "2022-09-20T07:52:55.787Z"
   },
   {
    "duration": 1800,
    "start_time": "2022-09-20T07:53:45.367Z"
   },
   {
    "duration": 19,
    "start_time": "2022-09-20T07:54:56.978Z"
   },
   {
    "duration": 178,
    "start_time": "2022-09-20T07:55:26.187Z"
   },
   {
    "duration": 183,
    "start_time": "2022-09-20T07:56:02.688Z"
   },
   {
    "duration": 207,
    "start_time": "2022-09-20T07:56:20.260Z"
   },
   {
    "duration": 180,
    "start_time": "2022-09-20T07:57:17.668Z"
   },
   {
    "duration": 156,
    "start_time": "2022-09-20T07:58:22.138Z"
   },
   {
    "duration": 164,
    "start_time": "2022-09-20T07:58:51.931Z"
   },
   {
    "duration": 163,
    "start_time": "2022-09-20T07:58:56.079Z"
   },
   {
    "duration": 164,
    "start_time": "2022-09-20T07:59:33.819Z"
   },
   {
    "duration": 158,
    "start_time": "2022-09-20T08:01:37.068Z"
   },
   {
    "duration": 154,
    "start_time": "2022-09-20T08:01:48.528Z"
   },
   {
    "duration": 184,
    "start_time": "2022-09-20T08:01:59.658Z"
   },
   {
    "duration": 146,
    "start_time": "2022-09-20T08:02:47.056Z"
   },
   {
    "duration": 180,
    "start_time": "2022-09-20T08:02:59.069Z"
   },
   {
    "duration": 66,
    "start_time": "2022-09-20T08:04:19.187Z"
   },
   {
    "duration": 212,
    "start_time": "2022-09-20T08:04:26.637Z"
   },
   {
    "duration": 159,
    "start_time": "2022-09-20T08:04:50.468Z"
   },
   {
    "duration": 162,
    "start_time": "2022-09-20T08:05:09.170Z"
   },
   {
    "duration": 250,
    "start_time": "2022-09-20T08:05:30.370Z"
   },
   {
    "duration": 4,
    "start_time": "2022-09-20T08:16:09.987Z"
   },
   {
    "duration": 7,
    "start_time": "2022-09-20T08:16:16.987Z"
   },
   {
    "duration": 727,
    "start_time": "2022-09-20T08:17:08.707Z"
   },
   {
    "duration": 567,
    "start_time": "2022-09-20T08:17:52.297Z"
   },
   {
    "duration": 12,
    "start_time": "2022-09-20T08:18:53.764Z"
   },
   {
    "duration": 11,
    "start_time": "2022-09-20T08:19:13.657Z"
   },
   {
    "duration": 12,
    "start_time": "2022-09-20T08:19:19.387Z"
   },
   {
    "duration": 12,
    "start_time": "2022-09-20T08:19:27.658Z"
   },
   {
    "duration": 16,
    "start_time": "2022-09-20T08:21:12.349Z"
   },
   {
    "duration": 16,
    "start_time": "2022-09-20T08:22:53.467Z"
   },
   {
    "duration": 18,
    "start_time": "2022-09-20T08:22:59.569Z"
   },
   {
    "duration": 18,
    "start_time": "2022-09-20T08:23:26.487Z"
   },
   {
    "duration": 20,
    "start_time": "2022-09-20T08:23:58.524Z"
   },
   {
    "duration": 154,
    "start_time": "2022-09-20T08:26:53.309Z"
   },
   {
    "duration": 190,
    "start_time": "2022-09-20T08:26:58.363Z"
   },
   {
    "duration": 199,
    "start_time": "2022-09-20T08:27:05.308Z"
   },
   {
    "duration": 986,
    "start_time": "2022-09-20T10:11:10.913Z"
   },
   {
    "duration": 1092,
    "start_time": "2022-09-20T10:11:31.056Z"
   },
   {
    "duration": 154,
    "start_time": "2022-09-20T10:11:32.150Z"
   },
   {
    "duration": 13,
    "start_time": "2022-09-20T10:11:32.306Z"
   },
   {
    "duration": 43,
    "start_time": "2022-09-20T10:11:32.320Z"
   },
   {
    "duration": 23,
    "start_time": "2022-09-20T10:11:32.366Z"
   },
   {
    "duration": 100,
    "start_time": "2022-09-20T10:11:32.391Z"
   },
   {
    "duration": 29,
    "start_time": "2022-09-20T10:11:32.493Z"
   },
   {
    "duration": 105,
    "start_time": "2022-09-20T10:11:32.524Z"
   },
   {
    "duration": 94,
    "start_time": "2022-09-20T10:11:32.631Z"
   },
   {
    "duration": 5,
    "start_time": "2022-09-20T10:11:32.728Z"
   },
   {
    "duration": 125,
    "start_time": "2022-09-20T10:11:32.735Z"
   },
   {
    "duration": 13,
    "start_time": "2022-09-20T10:11:32.862Z"
   },
   {
    "duration": 46,
    "start_time": "2022-09-20T10:11:32.877Z"
   },
   {
    "duration": 22,
    "start_time": "2022-09-20T10:11:32.927Z"
   },
   {
    "duration": 16,
    "start_time": "2022-09-20T10:11:32.950Z"
   },
   {
    "duration": 20,
    "start_time": "2022-09-20T10:11:32.967Z"
   },
   {
    "duration": 35,
    "start_time": "2022-09-20T10:11:32.989Z"
   },
   {
    "duration": 3,
    "start_time": "2022-09-20T10:11:33.026Z"
   },
   {
    "duration": 28,
    "start_time": "2022-09-20T10:11:33.030Z"
   },
   {
    "duration": 18,
    "start_time": "2022-09-20T10:11:33.060Z"
   },
   {
    "duration": 277,
    "start_time": "2022-09-20T10:11:33.080Z"
   },
   {
    "duration": 16,
    "start_time": "2022-09-20T10:11:33.359Z"
   },
   {
    "duration": 36,
    "start_time": "2022-09-20T10:11:33.377Z"
   },
   {
    "duration": 11,
    "start_time": "2022-09-20T10:11:33.414Z"
   },
   {
    "duration": 26,
    "start_time": "2022-09-20T10:11:33.426Z"
   },
   {
    "duration": 34,
    "start_time": "2022-09-20T10:11:33.454Z"
   },
   {
    "duration": 12,
    "start_time": "2022-09-20T10:11:33.489Z"
   },
   {
    "duration": 56,
    "start_time": "2022-09-20T10:11:33.503Z"
   },
   {
    "duration": 4,
    "start_time": "2022-09-20T10:11:33.561Z"
   },
   {
    "duration": 29,
    "start_time": "2022-09-20T10:11:33.566Z"
   },
   {
    "duration": 123,
    "start_time": "2022-09-20T10:11:33.597Z"
   },
   {
    "duration": 66,
    "start_time": "2022-09-20T10:11:33.721Z"
   },
   {
    "duration": 48,
    "start_time": "2022-09-20T10:11:33.788Z"
   },
   {
    "duration": 33,
    "start_time": "2022-09-20T10:11:33.838Z"
   },
   {
    "duration": 52,
    "start_time": "2022-09-20T10:11:33.873Z"
   },
   {
    "duration": 19,
    "start_time": "2022-09-20T10:11:33.927Z"
   },
   {
    "duration": 183,
    "start_time": "2022-09-20T10:11:33.948Z"
   },
   {
    "duration": 208,
    "start_time": "2022-09-20T10:11:34.133Z"
   },
   {
    "duration": 19,
    "start_time": "2022-09-20T10:11:34.343Z"
   },
   {
    "duration": 171,
    "start_time": "2022-09-20T10:11:34.363Z"
   },
   {
    "duration": 206,
    "start_time": "2022-09-20T10:11:34.538Z"
   },
   {
    "duration": 1893,
    "start_time": "2022-09-20T10:11:34.745Z"
   },
   {
    "duration": 1171,
    "start_time": "2022-09-20T10:12:04.274Z"
   },
   {
    "duration": 19,
    "start_time": "2022-09-20T10:12:59.316Z"
   },
   {
    "duration": 19,
    "start_time": "2022-09-20T10:13:11.804Z"
   },
   {
    "duration": 152,
    "start_time": "2022-09-20T10:13:21.826Z"
   },
   {
    "duration": 202,
    "start_time": "2022-09-20T10:13:23.114Z"
   },
   {
    "duration": 1476,
    "start_time": "2022-09-20T10:13:27.228Z"
   },
   {
    "duration": 2649,
    "start_time": "2022-09-20T10:14:13.604Z"
   },
   {
    "duration": 1809,
    "start_time": "2022-09-20T10:14:27.334Z"
   },
   {
    "duration": 2368,
    "start_time": "2022-09-20T10:14:40.115Z"
   },
   {
    "duration": 1107,
    "start_time": "2022-09-20T10:14:57.739Z"
   },
   {
    "duration": 165,
    "start_time": "2022-09-20T10:14:58.848Z"
   },
   {
    "duration": 12,
    "start_time": "2022-09-20T10:14:59.014Z"
   },
   {
    "duration": 19,
    "start_time": "2022-09-20T10:14:59.028Z"
   },
   {
    "duration": 8,
    "start_time": "2022-09-20T10:14:59.049Z"
   },
   {
    "duration": 114,
    "start_time": "2022-09-20T10:14:59.058Z"
   },
   {
    "duration": 42,
    "start_time": "2022-09-20T10:14:59.174Z"
   },
   {
    "duration": 75,
    "start_time": "2022-09-20T10:14:59.218Z"
   },
   {
    "duration": 79,
    "start_time": "2022-09-20T10:14:59.311Z"
   },
   {
    "duration": 4,
    "start_time": "2022-09-20T10:14:59.391Z"
   },
   {
    "duration": 105,
    "start_time": "2022-09-20T10:14:59.409Z"
   },
   {
    "duration": 13,
    "start_time": "2022-09-20T10:14:59.515Z"
   },
   {
    "duration": 30,
    "start_time": "2022-09-20T10:14:59.529Z"
   },
   {
    "duration": 21,
    "start_time": "2022-09-20T10:14:59.562Z"
   },
   {
    "duration": 29,
    "start_time": "2022-09-20T10:14:59.585Z"
   },
   {
    "duration": 6,
    "start_time": "2022-09-20T10:14:59.615Z"
   },
   {
    "duration": 24,
    "start_time": "2022-09-20T10:14:59.622Z"
   },
   {
    "duration": 4,
    "start_time": "2022-09-20T10:14:59.647Z"
   },
   {
    "duration": 6,
    "start_time": "2022-09-20T10:14:59.652Z"
   },
   {
    "duration": 6,
    "start_time": "2022-09-20T10:14:59.660Z"
   },
   {
    "duration": 305,
    "start_time": "2022-09-20T10:14:59.667Z"
   },
   {
    "duration": 16,
    "start_time": "2022-09-20T10:14:59.974Z"
   },
   {
    "duration": 41,
    "start_time": "2022-09-20T10:14:59.991Z"
   },
   {
    "duration": 12,
    "start_time": "2022-09-20T10:15:00.033Z"
   },
   {
    "duration": 12,
    "start_time": "2022-09-20T10:15:00.047Z"
   },
   {
    "duration": 47,
    "start_time": "2022-09-20T10:15:00.061Z"
   },
   {
    "duration": 14,
    "start_time": "2022-09-20T10:15:00.110Z"
   },
   {
    "duration": 32,
    "start_time": "2022-09-20T10:15:00.125Z"
   },
   {
    "duration": 5,
    "start_time": "2022-09-20T10:15:00.159Z"
   },
   {
    "duration": 64,
    "start_time": "2022-09-20T10:15:00.167Z"
   },
   {
    "duration": 145,
    "start_time": "2022-09-20T10:15:00.233Z"
   },
   {
    "duration": 74,
    "start_time": "2022-09-20T10:15:00.380Z"
   },
   {
    "duration": 31,
    "start_time": "2022-09-20T10:15:00.456Z"
   },
   {
    "duration": 48,
    "start_time": "2022-09-20T10:15:00.489Z"
   },
   {
    "duration": 33,
    "start_time": "2022-09-20T10:15:00.540Z"
   },
   {
    "duration": 41,
    "start_time": "2022-09-20T10:15:00.575Z"
   },
   {
    "duration": 200,
    "start_time": "2022-09-20T10:15:00.617Z"
   },
   {
    "duration": 218,
    "start_time": "2022-09-20T10:15:00.819Z"
   },
   {
    "duration": 21,
    "start_time": "2022-09-20T10:15:01.039Z"
   },
   {
    "duration": 177,
    "start_time": "2022-09-20T10:15:01.062Z"
   },
   {
    "duration": 207,
    "start_time": "2022-09-20T10:15:01.243Z"
   },
   {
    "duration": 3441,
    "start_time": "2022-09-20T10:15:01.452Z"
   },
   {
    "duration": 2080,
    "start_time": "2022-09-20T10:16:09.276Z"
   },
   {
    "duration": 1928,
    "start_time": "2022-09-20T10:17:14.721Z"
   },
   {
    "duration": 1878,
    "start_time": "2022-09-20T10:17:26.307Z"
   },
   {
    "duration": 1367,
    "start_time": "2022-09-20T10:17:43.166Z"
   },
   {
    "duration": 1180,
    "start_time": "2022-09-20T10:19:36.496Z"
   },
   {
    "duration": 2790,
    "start_time": "2022-09-20T10:20:08.858Z"
   },
   {
    "duration": 1854,
    "start_time": "2022-09-20T10:21:43.985Z"
   },
   {
    "duration": 8,
    "start_time": "2022-09-20T10:21:54.635Z"
   },
   {
    "duration": 1489,
    "start_time": "2022-09-20T10:22:20.636Z"
   },
   {
    "duration": 4,
    "start_time": "2022-09-20T10:22:26.675Z"
   },
   {
    "duration": 6,
    "start_time": "2022-09-20T10:22:41.537Z"
   },
   {
    "duration": 1272,
    "start_time": "2022-09-20T10:22:55.625Z"
   },
   {
    "duration": 984,
    "start_time": "2022-09-20T10:23:11.225Z"
   },
   {
    "duration": 2081,
    "start_time": "2022-09-20T10:24:29.127Z"
   },
   {
    "duration": 2319,
    "start_time": "2022-09-20T10:24:37.676Z"
   },
   {
    "duration": 1457,
    "start_time": "2022-09-20T10:24:43.028Z"
   },
   {
    "duration": 4,
    "start_time": "2022-09-20T10:24:52.996Z"
   },
   {
    "duration": 3,
    "start_time": "2022-09-20T10:25:04.746Z"
   },
   {
    "duration": 1465,
    "start_time": "2022-09-20T10:27:20.426Z"
   },
   {
    "duration": 1628,
    "start_time": "2022-09-20T10:29:40.476Z"
   },
   {
    "duration": 2237,
    "start_time": "2022-09-20T10:31:25.675Z"
   },
   {
    "duration": 1565,
    "start_time": "2022-09-20T10:31:49.685Z"
   },
   {
    "duration": 15,
    "start_time": "2022-09-20T10:32:13.886Z"
   },
   {
    "duration": 19,
    "start_time": "2022-09-20T10:32:31.116Z"
   },
   {
    "duration": 20,
    "start_time": "2022-09-20T10:33:15.946Z"
   },
   {
    "duration": 21,
    "start_time": "2022-09-20T10:33:20.386Z"
   },
   {
    "duration": 20,
    "start_time": "2022-09-20T10:33:30.186Z"
   },
   {
    "duration": 3,
    "start_time": "2022-09-20T10:33:35.786Z"
   },
   {
    "duration": 14,
    "start_time": "2022-09-20T10:33:36.678Z"
   },
   {
    "duration": 15,
    "start_time": "2022-09-20T10:34:22.033Z"
   },
   {
    "duration": 15,
    "start_time": "2022-09-20T10:34:54.635Z"
   },
   {
    "duration": 13,
    "start_time": "2022-09-20T10:35:23.986Z"
   },
   {
    "duration": 13,
    "start_time": "2022-09-20T10:35:32.146Z"
   },
   {
    "duration": 15,
    "start_time": "2022-09-20T10:37:09.113Z"
   },
   {
    "duration": 15,
    "start_time": "2022-09-20T10:37:26.798Z"
   },
   {
    "duration": 15,
    "start_time": "2022-09-20T10:38:15.496Z"
   },
   {
    "duration": 1861,
    "start_time": "2022-09-20T10:39:30.236Z"
   },
   {
    "duration": 5,
    "start_time": "2022-09-20T10:42:12.692Z"
   },
   {
    "duration": 9,
    "start_time": "2022-09-20T10:42:20.476Z"
   },
   {
    "duration": 61,
    "start_time": "2022-09-20T10:43:06.455Z"
   },
   {
    "duration": 11,
    "start_time": "2022-09-20T10:43:31.978Z"
   },
   {
    "duration": 94,
    "start_time": "2022-09-20T10:43:54.766Z"
   },
   {
    "duration": 185,
    "start_time": "2022-09-20T10:44:01.785Z"
   },
   {
    "duration": 10,
    "start_time": "2022-09-20T10:44:10.736Z"
   },
   {
    "duration": 10,
    "start_time": "2022-09-20T10:45:21.856Z"
   },
   {
    "duration": 14,
    "start_time": "2022-09-20T10:46:00.855Z"
   },
   {
    "duration": 12,
    "start_time": "2022-09-20T10:47:31.426Z"
   },
   {
    "duration": 10,
    "start_time": "2022-09-20T10:47:57.885Z"
   },
   {
    "duration": 3640,
    "start_time": "2022-09-20T10:48:00.285Z"
   },
   {
    "duration": 15,
    "start_time": "2022-09-20T10:50:05.016Z"
   },
   {
    "duration": 12,
    "start_time": "2022-09-20T10:50:33.530Z"
   },
   {
    "duration": 12,
    "start_time": "2022-09-20T10:50:47.545Z"
   },
   {
    "duration": 13,
    "start_time": "2022-09-20T10:51:31.164Z"
   },
   {
    "duration": 12,
    "start_time": "2022-09-20T10:51:39.906Z"
   },
   {
    "duration": 13,
    "start_time": "2022-09-20T10:51:40.621Z"
   },
   {
    "duration": 22,
    "start_time": "2022-09-20T10:55:05.575Z"
   },
   {
    "duration": 98,
    "start_time": "2022-09-20T10:56:24.833Z"
   },
   {
    "duration": 263,
    "start_time": "2022-09-20T10:56:29.177Z"
   },
   {
    "duration": 2,
    "start_time": "2022-09-20T10:57:38.733Z"
   },
   {
    "duration": 26,
    "start_time": "2022-09-20T11:03:57.114Z"
   },
   {
    "duration": 43,
    "start_time": "2022-09-20T11:16:43.672Z"
   },
   {
    "duration": 35,
    "start_time": "2022-09-20T11:17:24.073Z"
   },
   {
    "duration": 39,
    "start_time": "2022-09-20T11:19:10.226Z"
   },
   {
    "duration": 41,
    "start_time": "2022-09-20T11:19:17.531Z"
   },
   {
    "duration": 100,
    "start_time": "2022-09-20T11:19:26.124Z"
   },
   {
    "duration": 88,
    "start_time": "2022-09-20T11:19:48.590Z"
   },
   {
    "duration": 85,
    "start_time": "2022-09-20T11:21:20.578Z"
   },
   {
    "duration": 88,
    "start_time": "2022-09-20T11:21:27.510Z"
   },
   {
    "duration": 115,
    "start_time": "2022-09-20T11:21:34.160Z"
   },
   {
    "duration": 80,
    "start_time": "2022-09-20T11:21:59.515Z"
   },
   {
    "duration": 39,
    "start_time": "2022-09-20T11:24:58.075Z"
   },
   {
    "duration": 89,
    "start_time": "2022-09-20T11:25:07.454Z"
   },
   {
    "duration": 94,
    "start_time": "2022-09-20T11:25:15.619Z"
   },
   {
    "duration": 6,
    "start_time": "2022-09-20T11:32:09.149Z"
   },
   {
    "duration": 13,
    "start_time": "2022-09-20T11:32:34.868Z"
   },
   {
    "duration": 9,
    "start_time": "2022-09-20T11:33:20.388Z"
   },
   {
    "duration": 11,
    "start_time": "2022-09-20T11:33:25.960Z"
   },
   {
    "duration": 11,
    "start_time": "2022-09-20T11:33:33.429Z"
   },
   {
    "duration": 54,
    "start_time": "2022-09-20T11:33:46.332Z"
   },
   {
    "duration": 12,
    "start_time": "2022-09-20T11:35:30.069Z"
   },
   {
    "duration": 19,
    "start_time": "2022-09-20T11:35:43.608Z"
   },
   {
    "duration": 16,
    "start_time": "2022-09-20T11:35:59.389Z"
   },
   {
    "duration": 14,
    "start_time": "2022-09-20T11:40:03.553Z"
   },
   {
    "duration": 14,
    "start_time": "2022-09-20T11:41:46.483Z"
   },
   {
    "duration": 14,
    "start_time": "2022-09-20T11:42:27.926Z"
   },
   {
    "duration": 1786,
    "start_time": "2022-09-20T11:46:26.330Z"
   },
   {
    "duration": 9,
    "start_time": "2022-09-20T11:47:43.755Z"
   },
   {
    "duration": 12,
    "start_time": "2022-09-20T11:47:53.591Z"
   },
   {
    "duration": 14,
    "start_time": "2022-09-20T11:54:13.642Z"
   },
   {
    "duration": 19,
    "start_time": "2022-09-20T11:57:59.483Z"
   },
   {
    "duration": 22,
    "start_time": "2022-09-20T12:00:03.596Z"
   },
   {
    "duration": 15,
    "start_time": "2022-09-20T12:02:13.956Z"
   },
   {
    "duration": 17,
    "start_time": "2022-09-20T12:02:34.401Z"
   },
   {
    "duration": 19,
    "start_time": "2022-09-20T12:02:46.317Z"
   },
   {
    "duration": 18,
    "start_time": "2022-09-20T12:03:10.121Z"
   },
   {
    "duration": 272,
    "start_time": "2022-09-20T12:09:31.491Z"
   },
   {
    "duration": 30,
    "start_time": "2022-09-20T12:09:56.203Z"
   },
   {
    "duration": 463,
    "start_time": "2022-09-20T12:10:21.640Z"
   },
   {
    "duration": 51,
    "start_time": "2022-09-20T12:11:04.942Z"
   },
   {
    "duration": 140,
    "start_time": "2022-09-20T12:17:09.055Z"
   },
   {
    "duration": 139,
    "start_time": "2022-09-20T12:18:10.693Z"
   },
   {
    "duration": 148,
    "start_time": "2022-09-20T12:22:15.140Z"
   },
   {
    "duration": 149,
    "start_time": "2022-09-20T12:23:52.122Z"
   },
   {
    "duration": 1161,
    "start_time": "2022-09-21T06:55:15.940Z"
   },
   {
    "duration": 506,
    "start_time": "2022-09-21T06:55:17.103Z"
   },
   {
    "duration": 12,
    "start_time": "2022-09-21T06:55:17.610Z"
   },
   {
    "duration": 18,
    "start_time": "2022-09-21T06:55:17.624Z"
   },
   {
    "duration": 6,
    "start_time": "2022-09-21T06:55:17.645Z"
   },
   {
    "duration": 86,
    "start_time": "2022-09-21T06:55:17.653Z"
   },
   {
    "duration": 24,
    "start_time": "2022-09-21T06:55:17.741Z"
   },
   {
    "duration": 79,
    "start_time": "2022-09-21T06:55:17.766Z"
   },
   {
    "duration": 77,
    "start_time": "2022-09-21T06:55:17.847Z"
   },
   {
    "duration": 4,
    "start_time": "2022-09-21T06:55:17.926Z"
   },
   {
    "duration": 103,
    "start_time": "2022-09-21T06:55:17.931Z"
   },
   {
    "duration": 11,
    "start_time": "2022-09-21T06:55:18.036Z"
   },
   {
    "duration": 29,
    "start_time": "2022-09-21T06:55:18.048Z"
   },
   {
    "duration": 32,
    "start_time": "2022-09-21T06:55:18.079Z"
   },
   {
    "duration": 10,
    "start_time": "2022-09-21T06:55:18.112Z"
   },
   {
    "duration": 6,
    "start_time": "2022-09-21T06:55:18.124Z"
   },
   {
    "duration": 25,
    "start_time": "2022-09-21T06:55:18.132Z"
   },
   {
    "duration": 3,
    "start_time": "2022-09-21T06:55:18.159Z"
   },
   {
    "duration": 6,
    "start_time": "2022-09-21T06:55:18.163Z"
   },
   {
    "duration": 32,
    "start_time": "2022-09-21T06:55:18.170Z"
   },
   {
    "duration": 263,
    "start_time": "2022-09-21T06:55:18.203Z"
   },
   {
    "duration": 14,
    "start_time": "2022-09-21T06:55:18.467Z"
   },
   {
    "duration": 35,
    "start_time": "2022-09-21T06:55:18.483Z"
   },
   {
    "duration": 11,
    "start_time": "2022-09-21T06:55:18.520Z"
   },
   {
    "duration": 8,
    "start_time": "2022-09-21T06:55:18.532Z"
   },
   {
    "duration": 24,
    "start_time": "2022-09-21T06:55:18.542Z"
   },
   {
    "duration": 44,
    "start_time": "2022-09-21T06:55:18.568Z"
   },
   {
    "duration": 21,
    "start_time": "2022-09-21T06:55:18.614Z"
   },
   {
    "duration": 5,
    "start_time": "2022-09-21T06:55:18.636Z"
   },
   {
    "duration": 19,
    "start_time": "2022-09-21T06:55:18.643Z"
   },
   {
    "duration": 131,
    "start_time": "2022-09-21T06:55:18.664Z"
   },
   {
    "duration": 60,
    "start_time": "2022-09-21T06:55:18.796Z"
   },
   {
    "duration": 43,
    "start_time": "2022-09-21T06:55:18.858Z"
   },
   {
    "duration": 29,
    "start_time": "2022-09-21T06:55:18.903Z"
   },
   {
    "duration": 27,
    "start_time": "2022-09-21T06:55:18.933Z"
   },
   {
    "duration": 40,
    "start_time": "2022-09-21T06:55:18.961Z"
   },
   {
    "duration": 150,
    "start_time": "2022-09-21T06:55:19.002Z"
   },
   {
    "duration": 181,
    "start_time": "2022-09-21T06:55:19.154Z"
   },
   {
    "duration": 21,
    "start_time": "2022-09-21T06:55:19.337Z"
   },
   {
    "duration": 162,
    "start_time": "2022-09-21T06:55:19.360Z"
   },
   {
    "duration": 195,
    "start_time": "2022-09-21T06:55:19.525Z"
   },
   {
    "duration": 10,
    "start_time": "2022-09-21T06:55:19.722Z"
   },
   {
    "duration": 21,
    "start_time": "2022-09-21T06:55:19.733Z"
   },
   {
    "duration": 87,
    "start_time": "2022-09-21T06:55:19.756Z"
   },
   {
    "duration": 15,
    "start_time": "2022-09-21T06:55:19.845Z"
   },
   {
    "duration": 142,
    "start_time": "2022-09-21T06:55:19.861Z"
   },
   {
    "duration": 46,
    "start_time": "2022-09-21T07:14:24.221Z"
   },
   {
    "duration": 99,
    "start_time": "2022-09-21T07:14:36.402Z"
   },
   {
    "duration": 14,
    "start_time": "2022-09-21T07:15:04.252Z"
   },
   {
    "duration": 15,
    "start_time": "2022-09-21T07:15:27.441Z"
   },
   {
    "duration": 14,
    "start_time": "2022-09-21T07:15:44.291Z"
   },
   {
    "duration": 2,
    "start_time": "2022-09-21T07:20:54.223Z"
   },
   {
    "duration": 3,
    "start_time": "2022-09-21T07:20:54.922Z"
   },
   {
    "duration": 4,
    "start_time": "2022-09-21T07:23:08.163Z"
   },
   {
    "duration": 5,
    "start_time": "2022-09-21T07:23:19.011Z"
   },
   {
    "duration": 11,
    "start_time": "2022-09-21T08:05:46.683Z"
   },
   {
    "duration": 4,
    "start_time": "2022-09-21T08:08:44.283Z"
   },
   {
    "duration": 12,
    "start_time": "2022-09-21T08:09:02.285Z"
   },
   {
    "duration": 13,
    "start_time": "2022-09-21T08:12:24.542Z"
   },
   {
    "duration": 6,
    "start_time": "2022-09-21T08:28:10.634Z"
   },
   {
    "duration": 6,
    "start_time": "2022-09-21T08:29:23.085Z"
   },
   {
    "duration": 7,
    "start_time": "2022-09-21T08:29:48.084Z"
   },
   {
    "duration": 7,
    "start_time": "2022-09-21T08:30:09.893Z"
   },
   {
    "duration": 9,
    "start_time": "2022-09-21T08:30:17.724Z"
   },
   {
    "duration": 14,
    "start_time": "2022-09-21T08:31:33.987Z"
   },
   {
    "duration": 1259,
    "start_time": "2022-09-21T08:32:25.487Z"
   },
   {
    "duration": 7,
    "start_time": "2022-09-21T08:32:55.846Z"
   },
   {
    "duration": 1285,
    "start_time": "2022-09-21T08:33:00.228Z"
   },
   {
    "duration": 11,
    "start_time": "2022-09-21T08:33:22.342Z"
   },
   {
    "duration": 1314,
    "start_time": "2022-09-21T08:34:00.236Z"
   },
   {
    "duration": 11,
    "start_time": "2022-09-21T08:35:49.184Z"
   },
   {
    "duration": 1427,
    "start_time": "2022-09-21T08:35:52.686Z"
   },
   {
    "duration": 11,
    "start_time": "2022-09-21T08:36:08.444Z"
   },
   {
    "duration": 934,
    "start_time": "2022-09-21T08:36:12.653Z"
   },
   {
    "duration": 1306,
    "start_time": "2022-09-21T08:44:09.167Z"
   },
   {
    "duration": 32,
    "start_time": "2022-09-21T08:45:03.444Z"
   },
   {
    "duration": 31,
    "start_time": "2022-09-21T08:45:27.084Z"
   },
   {
    "duration": 10,
    "start_time": "2022-09-21T08:45:59.977Z"
   },
   {
    "duration": 9,
    "start_time": "2022-09-21T08:46:42.209Z"
   },
   {
    "duration": 11,
    "start_time": "2022-09-21T08:46:58.617Z"
   },
   {
    "duration": 919,
    "start_time": "2022-09-21T08:47:13.800Z"
   },
   {
    "duration": 863,
    "start_time": "2022-09-21T08:47:22.603Z"
   },
   {
    "duration": 2,
    "start_time": "2022-09-21T08:47:50.512Z"
   },
   {
    "duration": 915,
    "start_time": "2022-09-21T08:47:55.261Z"
   },
   {
    "duration": 3,
    "start_time": "2022-09-21T08:48:17.760Z"
   },
   {
    "duration": 1190,
    "start_time": "2022-09-21T08:48:21.874Z"
   },
   {
    "duration": 289,
    "start_time": "2022-09-21T08:48:53.211Z"
   },
   {
    "duration": 12,
    "start_time": "2022-09-21T08:49:08.965Z"
   },
   {
    "duration": 903,
    "start_time": "2022-09-21T08:49:12.262Z"
   },
   {
    "duration": 8,
    "start_time": "2022-09-21T08:53:52.549Z"
   },
   {
    "duration": 775,
    "start_time": "2022-09-21T08:54:00.408Z"
   },
   {
    "duration": 34,
    "start_time": "2022-09-21T08:54:13.778Z"
   },
   {
    "duration": 1080,
    "start_time": "2022-09-21T08:54:19.106Z"
   },
   {
    "duration": 99,
    "start_time": "2022-09-21T08:54:55.593Z"
   },
   {
    "duration": 1791,
    "start_time": "2022-09-21T08:55:02.230Z"
   },
   {
    "duration": 2173,
    "start_time": "2022-09-21T08:55:10.243Z"
   },
   {
    "duration": 1061,
    "start_time": "2022-09-21T08:55:32.726Z"
   },
   {
    "duration": 11,
    "start_time": "2022-09-21T08:55:44.697Z"
   },
   {
    "duration": 12,
    "start_time": "2022-09-21T08:56:54.811Z"
   },
   {
    "duration": 10,
    "start_time": "2022-09-21T09:00:21.723Z"
   },
   {
    "duration": 58,
    "start_time": "2022-09-21T09:02:46.681Z"
   },
   {
    "duration": 96,
    "start_time": "2022-09-21T09:02:56.963Z"
   },
   {
    "duration": 11,
    "start_time": "2022-09-21T09:06:36.089Z"
   },
   {
    "duration": 10,
    "start_time": "2022-09-21T09:06:48.843Z"
   },
   {
    "duration": 1062,
    "start_time": "2022-09-21T09:06:58.885Z"
   },
   {
    "duration": 144,
    "start_time": "2022-09-21T09:06:59.949Z"
   },
   {
    "duration": 13,
    "start_time": "2022-09-21T09:07:00.094Z"
   },
   {
    "duration": 39,
    "start_time": "2022-09-21T09:07:00.109Z"
   },
   {
    "duration": 25,
    "start_time": "2022-09-21T09:07:00.150Z"
   },
   {
    "duration": 102,
    "start_time": "2022-09-21T09:07:00.176Z"
   },
   {
    "duration": 30,
    "start_time": "2022-09-21T09:07:00.280Z"
   },
   {
    "duration": 67,
    "start_time": "2022-09-21T09:07:00.312Z"
   },
   {
    "duration": 76,
    "start_time": "2022-09-21T09:07:00.381Z"
   },
   {
    "duration": 4,
    "start_time": "2022-09-21T09:07:00.459Z"
   },
   {
    "duration": 129,
    "start_time": "2022-09-21T09:07:00.464Z"
   },
   {
    "duration": 11,
    "start_time": "2022-09-21T09:07:00.601Z"
   },
   {
    "duration": 51,
    "start_time": "2022-09-21T09:07:00.613Z"
   },
   {
    "duration": 18,
    "start_time": "2022-09-21T09:07:00.667Z"
   },
   {
    "duration": 31,
    "start_time": "2022-09-21T09:07:00.687Z"
   },
   {
    "duration": 7,
    "start_time": "2022-09-21T09:07:00.719Z"
   },
   {
    "duration": 28,
    "start_time": "2022-09-21T09:07:00.728Z"
   },
   {
    "duration": 4,
    "start_time": "2022-09-21T09:07:00.758Z"
   },
   {
    "duration": 7,
    "start_time": "2022-09-21T09:07:00.764Z"
   },
   {
    "duration": 10,
    "start_time": "2022-09-21T09:07:00.773Z"
   },
   {
    "duration": 251,
    "start_time": "2022-09-21T09:07:00.785Z"
   },
   {
    "duration": 13,
    "start_time": "2022-09-21T09:07:01.038Z"
   },
   {
    "duration": 27,
    "start_time": "2022-09-21T09:07:01.052Z"
   },
   {
    "duration": 24,
    "start_time": "2022-09-21T09:07:01.081Z"
   },
   {
    "duration": 10,
    "start_time": "2022-09-21T09:07:01.107Z"
   },
   {
    "duration": 26,
    "start_time": "2022-09-21T09:07:01.119Z"
   },
   {
    "duration": 12,
    "start_time": "2022-09-21T09:07:01.147Z"
   },
   {
    "duration": 47,
    "start_time": "2022-09-21T09:07:01.161Z"
   },
   {
    "duration": 5,
    "start_time": "2022-09-21T09:07:01.210Z"
   },
   {
    "duration": 20,
    "start_time": "2022-09-21T09:07:01.217Z"
   },
   {
    "duration": 109,
    "start_time": "2022-09-21T09:07:01.239Z"
   },
   {
    "duration": 67,
    "start_time": "2022-09-21T09:07:01.350Z"
   },
   {
    "duration": 30,
    "start_time": "2022-09-21T09:07:01.419Z"
   },
   {
    "duration": 26,
    "start_time": "2022-09-21T09:07:01.451Z"
   },
   {
    "duration": 50,
    "start_time": "2022-09-21T09:07:01.478Z"
   },
   {
    "duration": 18,
    "start_time": "2022-09-21T09:07:01.530Z"
   },
   {
    "duration": 157,
    "start_time": "2022-09-21T09:07:01.550Z"
   },
   {
    "duration": 187,
    "start_time": "2022-09-21T09:07:01.709Z"
   },
   {
    "duration": 21,
    "start_time": "2022-09-21T09:07:01.898Z"
   },
   {
    "duration": 146,
    "start_time": "2022-09-21T09:07:01.920Z"
   },
   {
    "duration": 189,
    "start_time": "2022-09-21T09:07:02.070Z"
   },
   {
    "duration": 11,
    "start_time": "2022-09-21T09:07:02.260Z"
   },
   {
    "duration": 74,
    "start_time": "2022-09-21T09:07:02.273Z"
   },
   {
    "duration": 104,
    "start_time": "2022-09-21T09:07:02.348Z"
   },
   {
    "duration": 15,
    "start_time": "2022-09-21T09:07:02.454Z"
   },
   {
    "duration": 142,
    "start_time": "2022-09-21T09:07:02.471Z"
   },
   {
    "duration": 30,
    "start_time": "2022-09-21T09:07:02.615Z"
   },
   {
    "duration": 10,
    "start_time": "2022-09-21T09:07:02.646Z"
   },
   {
    "duration": 108,
    "start_time": "2022-09-21T09:07:02.658Z"
   },
   {
    "duration": 11,
    "start_time": "2022-09-21T09:07:02.768Z"
   },
   {
    "duration": 10,
    "start_time": "2022-09-21T09:09:58.895Z"
   },
   {
    "duration": 11,
    "start_time": "2022-09-21T09:10:54.765Z"
   },
   {
    "duration": 1289,
    "start_time": "2022-09-21T10:40:24.310Z"
   },
   {
    "duration": 471,
    "start_time": "2022-09-21T10:40:25.601Z"
   },
   {
    "duration": 12,
    "start_time": "2022-09-21T10:40:26.073Z"
   },
   {
    "duration": 19,
    "start_time": "2022-09-21T10:40:26.087Z"
   },
   {
    "duration": 7,
    "start_time": "2022-09-21T10:40:26.108Z"
   },
   {
    "duration": 95,
    "start_time": "2022-09-21T10:40:26.116Z"
   },
   {
    "duration": 25,
    "start_time": "2022-09-21T10:40:26.213Z"
   },
   {
    "duration": 78,
    "start_time": "2022-09-21T10:40:26.240Z"
   },
   {
    "duration": 73,
    "start_time": "2022-09-21T10:40:26.319Z"
   },
   {
    "duration": 17,
    "start_time": "2022-09-21T10:40:26.393Z"
   },
   {
    "duration": 112,
    "start_time": "2022-09-21T10:40:26.412Z"
   },
   {
    "duration": 12,
    "start_time": "2022-09-21T10:40:26.525Z"
   },
   {
    "duration": 35,
    "start_time": "2022-09-21T10:40:26.538Z"
   },
   {
    "duration": 34,
    "start_time": "2022-09-21T10:40:26.576Z"
   },
   {
    "duration": 9,
    "start_time": "2022-09-21T10:40:26.611Z"
   },
   {
    "duration": 6,
    "start_time": "2022-09-21T10:40:26.621Z"
   },
   {
    "duration": 24,
    "start_time": "2022-09-21T10:40:26.628Z"
   },
   {
    "duration": 4,
    "start_time": "2022-09-21T10:40:26.653Z"
   },
   {
    "duration": 6,
    "start_time": "2022-09-21T10:40:26.658Z"
   },
   {
    "duration": 11,
    "start_time": "2022-09-21T10:40:26.665Z"
   },
   {
    "duration": 299,
    "start_time": "2022-09-21T10:40:26.677Z"
   },
   {
    "duration": 16,
    "start_time": "2022-09-21T10:40:26.977Z"
   },
   {
    "duration": 36,
    "start_time": "2022-09-21T10:40:26.994Z"
   },
   {
    "duration": 10,
    "start_time": "2022-09-21T10:40:27.032Z"
   },
   {
    "duration": 7,
    "start_time": "2022-09-21T10:40:27.044Z"
   },
   {
    "duration": 25,
    "start_time": "2022-09-21T10:40:27.053Z"
   },
   {
    "duration": 34,
    "start_time": "2022-09-21T10:40:27.079Z"
   },
   {
    "duration": 21,
    "start_time": "2022-09-21T10:40:27.115Z"
   },
   {
    "duration": 5,
    "start_time": "2022-09-21T10:40:27.138Z"
   },
   {
    "duration": 24,
    "start_time": "2022-09-21T10:40:27.144Z"
   },
   {
    "duration": 140,
    "start_time": "2022-09-21T10:40:27.169Z"
   },
   {
    "duration": 65,
    "start_time": "2022-09-21T10:40:27.310Z"
   },
   {
    "duration": 44,
    "start_time": "2022-09-21T10:40:27.377Z"
   },
   {
    "duration": 35,
    "start_time": "2022-09-21T10:40:27.422Z"
   },
   {
    "duration": 33,
    "start_time": "2022-09-21T10:40:27.459Z"
   },
   {
    "duration": 17,
    "start_time": "2022-09-21T10:40:27.509Z"
   },
   {
    "duration": 175,
    "start_time": "2022-09-21T10:40:27.528Z"
   },
   {
    "duration": 204,
    "start_time": "2022-09-21T10:40:27.705Z"
   },
   {
    "duration": 20,
    "start_time": "2022-09-21T10:40:27.910Z"
   },
   {
    "duration": 166,
    "start_time": "2022-09-21T10:40:27.932Z"
   },
   {
    "duration": 229,
    "start_time": "2022-09-21T10:40:28.101Z"
   },
   {
    "duration": 11,
    "start_time": "2022-09-21T10:40:28.332Z"
   },
   {
    "duration": 20,
    "start_time": "2022-09-21T10:40:28.345Z"
   },
   {
    "duration": 100,
    "start_time": "2022-09-21T10:40:28.366Z"
   },
   {
    "duration": 19,
    "start_time": "2022-09-21T10:40:28.468Z"
   },
   {
    "duration": 172,
    "start_time": "2022-09-21T10:40:28.489Z"
   },
   {
    "duration": 30,
    "start_time": "2022-09-21T10:40:28.663Z"
   },
   {
    "duration": 19,
    "start_time": "2022-09-21T10:40:28.694Z"
   },
   {
    "duration": 106,
    "start_time": "2022-09-21T10:40:28.714Z"
   },
   {
    "duration": 11,
    "start_time": "2022-09-21T10:40:28.822Z"
   },
   {
    "duration": 9,
    "start_time": "2022-09-21T10:56:54.135Z"
   },
   {
    "duration": 8,
    "start_time": "2022-09-21T10:57:00.391Z"
   },
   {
    "duration": 9,
    "start_time": "2022-09-21T10:57:05.551Z"
   },
   {
    "duration": 1058,
    "start_time": "2022-09-21T11:21:03.594Z"
   },
   {
    "duration": 148,
    "start_time": "2022-09-21T11:21:04.654Z"
   },
   {
    "duration": 12,
    "start_time": "2022-09-21T11:21:04.803Z"
   },
   {
    "duration": 43,
    "start_time": "2022-09-21T11:21:04.817Z"
   },
   {
    "duration": 17,
    "start_time": "2022-09-21T11:21:04.863Z"
   },
   {
    "duration": 90,
    "start_time": "2022-09-21T11:21:04.882Z"
   },
   {
    "duration": 27,
    "start_time": "2022-09-21T11:21:04.973Z"
   },
   {
    "duration": 69,
    "start_time": "2022-09-21T11:21:05.001Z"
   },
   {
    "duration": 87,
    "start_time": "2022-09-21T11:21:05.071Z"
   },
   {
    "duration": 4,
    "start_time": "2022-09-21T11:21:05.159Z"
   },
   {
    "duration": 117,
    "start_time": "2022-09-21T11:21:05.164Z"
   },
   {
    "duration": 12,
    "start_time": "2022-09-21T11:21:05.283Z"
   },
   {
    "duration": 31,
    "start_time": "2022-09-21T11:21:05.309Z"
   },
   {
    "duration": 25,
    "start_time": "2022-09-21T11:21:05.343Z"
   },
   {
    "duration": 26,
    "start_time": "2022-09-21T11:21:05.369Z"
   },
   {
    "duration": 12,
    "start_time": "2022-09-21T11:21:05.397Z"
   },
   {
    "duration": 36,
    "start_time": "2022-09-21T11:21:05.411Z"
   },
   {
    "duration": 4,
    "start_time": "2022-09-21T11:21:05.448Z"
   },
   {
    "duration": 11,
    "start_time": "2022-09-21T11:21:05.453Z"
   },
   {
    "duration": 17,
    "start_time": "2022-09-21T11:21:05.465Z"
   },
   {
    "duration": 264,
    "start_time": "2022-09-21T11:21:05.484Z"
   },
   {
    "duration": 16,
    "start_time": "2022-09-21T11:21:05.749Z"
   },
   {
    "duration": 24,
    "start_time": "2022-09-21T11:21:05.767Z"
   },
   {
    "duration": 24,
    "start_time": "2022-09-21T11:21:05.793Z"
   },
   {
    "duration": 8,
    "start_time": "2022-09-21T11:21:05.818Z"
   },
   {
    "duration": 26,
    "start_time": "2022-09-21T11:21:05.827Z"
   },
   {
    "duration": 12,
    "start_time": "2022-09-21T11:21:05.854Z"
   },
   {
    "duration": 46,
    "start_time": "2022-09-21T11:21:05.867Z"
   },
   {
    "duration": 4,
    "start_time": "2022-09-21T11:21:05.915Z"
   },
   {
    "duration": 21,
    "start_time": "2022-09-21T11:21:05.921Z"
   },
   {
    "duration": 119,
    "start_time": "2022-09-21T11:21:05.944Z"
   },
   {
    "duration": 72,
    "start_time": "2022-09-21T11:21:06.065Z"
   },
   {
    "duration": 30,
    "start_time": "2022-09-21T11:21:06.138Z"
   },
   {
    "duration": 42,
    "start_time": "2022-09-21T11:21:06.170Z"
   },
   {
    "duration": 31,
    "start_time": "2022-09-21T11:21:06.213Z"
   },
   {
    "duration": 17,
    "start_time": "2022-09-21T11:21:06.245Z"
   },
   {
    "duration": 175,
    "start_time": "2022-09-21T11:21:06.263Z"
   },
   {
    "duration": 204,
    "start_time": "2022-09-21T11:21:06.439Z"
   },
   {
    "duration": 20,
    "start_time": "2022-09-21T11:21:06.645Z"
   },
   {
    "duration": 173,
    "start_time": "2022-09-21T11:21:06.667Z"
   },
   {
    "duration": 201,
    "start_time": "2022-09-21T11:21:06.845Z"
   },
   {
    "duration": 10,
    "start_time": "2022-09-21T11:21:07.047Z"
   },
   {
    "duration": 20,
    "start_time": "2022-09-21T11:21:07.058Z"
   },
   {
    "duration": 98,
    "start_time": "2022-09-21T11:21:07.080Z"
   },
   {
    "duration": 15,
    "start_time": "2022-09-21T11:21:07.180Z"
   },
   {
    "duration": 151,
    "start_time": "2022-09-21T11:21:07.197Z"
   },
   {
    "duration": 30,
    "start_time": "2022-09-21T11:21:07.350Z"
   },
   {
    "duration": 9,
    "start_time": "2022-09-21T11:21:07.382Z"
   },
   {
    "duration": 101,
    "start_time": "2022-09-21T11:21:07.409Z"
   },
   {
    "duration": 11,
    "start_time": "2022-09-21T11:21:07.512Z"
   },
   {
    "duration": 9,
    "start_time": "2022-09-21T11:21:07.524Z"
   },
   {
    "duration": 7,
    "start_time": "2022-09-21T11:21:07.534Z"
   },
   {
    "duration": 9,
    "start_time": "2022-09-21T11:21:07.542Z"
   },
   {
    "duration": 1228,
    "start_time": "2022-09-21T12:32:11.106Z"
   },
   {
    "duration": 489,
    "start_time": "2022-09-21T12:32:12.336Z"
   },
   {
    "duration": 11,
    "start_time": "2022-09-21T12:32:12.826Z"
   },
   {
    "duration": 17,
    "start_time": "2022-09-21T12:32:12.839Z"
   },
   {
    "duration": 7,
    "start_time": "2022-09-21T12:32:12.858Z"
   },
   {
    "duration": 95,
    "start_time": "2022-09-21T12:32:12.866Z"
   },
   {
    "duration": 24,
    "start_time": "2022-09-21T12:32:12.963Z"
   },
   {
    "duration": 65,
    "start_time": "2022-09-21T12:32:12.989Z"
   },
   {
    "duration": 84,
    "start_time": "2022-09-21T12:32:13.056Z"
   },
   {
    "duration": 4,
    "start_time": "2022-09-21T12:32:13.142Z"
   },
   {
    "duration": 102,
    "start_time": "2022-09-21T12:32:13.148Z"
   },
   {
    "duration": 12,
    "start_time": "2022-09-21T12:32:13.252Z"
   },
   {
    "duration": 41,
    "start_time": "2022-09-21T12:32:13.266Z"
   },
   {
    "duration": 19,
    "start_time": "2022-09-21T12:32:13.309Z"
   },
   {
    "duration": 8,
    "start_time": "2022-09-21T12:32:13.330Z"
   },
   {
    "duration": 4,
    "start_time": "2022-09-21T12:32:13.340Z"
   },
   {
    "duration": 20,
    "start_time": "2022-09-21T12:32:13.345Z"
   },
   {
    "duration": 3,
    "start_time": "2022-09-21T12:32:13.367Z"
   },
   {
    "duration": 4,
    "start_time": "2022-09-21T12:32:13.400Z"
   },
   {
    "duration": 6,
    "start_time": "2022-09-21T12:32:13.405Z"
   },
   {
    "duration": 256,
    "start_time": "2022-09-21T12:32:13.412Z"
   },
   {
    "duration": 14,
    "start_time": "2022-09-21T12:32:13.670Z"
   },
   {
    "duration": 34,
    "start_time": "2022-09-21T12:32:13.685Z"
   },
   {
    "duration": 10,
    "start_time": "2022-09-21T12:32:13.720Z"
   },
   {
    "duration": 10,
    "start_time": "2022-09-21T12:32:13.732Z"
   },
   {
    "duration": 24,
    "start_time": "2022-09-21T12:32:13.744Z"
   },
   {
    "duration": 32,
    "start_time": "2022-09-21T12:32:13.769Z"
   },
   {
    "duration": 20,
    "start_time": "2022-09-21T12:32:13.804Z"
   },
   {
    "duration": 5,
    "start_time": "2022-09-21T12:32:13.826Z"
   },
   {
    "duration": 19,
    "start_time": "2022-09-21T12:32:13.833Z"
   },
   {
    "duration": 127,
    "start_time": "2022-09-21T12:32:13.853Z"
   },
   {
    "duration": 61,
    "start_time": "2022-09-21T12:32:13.981Z"
   },
   {
    "duration": 29,
    "start_time": "2022-09-21T12:32:14.043Z"
   },
   {
    "duration": 47,
    "start_time": "2022-09-21T12:32:14.073Z"
   },
   {
    "duration": 31,
    "start_time": "2022-09-21T12:32:14.123Z"
   },
   {
    "duration": 19,
    "start_time": "2022-09-21T12:32:14.156Z"
   },
   {
    "duration": 161,
    "start_time": "2022-09-21T12:32:14.200Z"
   },
   {
    "duration": 248,
    "start_time": "2022-09-21T12:32:14.363Z"
   },
   {
    "duration": 27,
    "start_time": "2022-09-21T12:32:14.613Z"
   },
   {
    "duration": 166,
    "start_time": "2022-09-21T12:32:14.641Z"
   },
   {
    "duration": 179,
    "start_time": "2022-09-21T12:32:14.808Z"
   },
   {
    "duration": 12,
    "start_time": "2022-09-21T12:32:14.989Z"
   },
   {
    "duration": 23,
    "start_time": "2022-09-21T12:32:15.002Z"
   },
   {
    "duration": 89,
    "start_time": "2022-09-21T12:32:15.027Z"
   },
   {
    "duration": 18,
    "start_time": "2022-09-21T12:32:15.117Z"
   },
   {
    "duration": 164,
    "start_time": "2022-09-21T12:32:15.137Z"
   },
   {
    "duration": 34,
    "start_time": "2022-09-21T12:32:15.302Z"
   },
   {
    "duration": 11,
    "start_time": "2022-09-21T12:32:15.337Z"
   },
   {
    "duration": 113,
    "start_time": "2022-09-21T12:32:15.350Z"
   },
   {
    "duration": 12,
    "start_time": "2022-09-21T12:32:15.464Z"
   },
   {
    "duration": 24,
    "start_time": "2022-09-21T12:32:15.477Z"
   },
   {
    "duration": 8,
    "start_time": "2022-09-21T12:32:15.503Z"
   },
   {
    "duration": 10,
    "start_time": "2022-09-21T12:32:15.513Z"
   },
   {
    "duration": 53,
    "start_time": "2022-09-22T06:44:17.251Z"
   },
   {
    "duration": 1247,
    "start_time": "2022-09-22T06:44:22.699Z"
   },
   {
    "duration": 509,
    "start_time": "2022-09-22T06:44:23.948Z"
   },
   {
    "duration": 15,
    "start_time": "2022-09-22T06:44:24.460Z"
   },
   {
    "duration": 34,
    "start_time": "2022-09-22T06:44:24.478Z"
   },
   {
    "duration": 9,
    "start_time": "2022-09-22T06:44:24.514Z"
   },
   {
    "duration": 90,
    "start_time": "2022-09-22T06:44:24.525Z"
   },
   {
    "duration": 23,
    "start_time": "2022-09-22T06:44:24.617Z"
   },
   {
    "duration": 78,
    "start_time": "2022-09-22T06:44:24.641Z"
   },
   {
    "duration": 68,
    "start_time": "2022-09-22T06:44:24.721Z"
   },
   {
    "duration": 3,
    "start_time": "2022-09-22T06:44:24.792Z"
   },
   {
    "duration": 114,
    "start_time": "2022-09-22T06:44:24.796Z"
   },
   {
    "duration": 8,
    "start_time": "2022-09-22T06:44:24.911Z"
   },
   {
    "duration": 28,
    "start_time": "2022-09-22T06:44:24.920Z"
   },
   {
    "duration": 19,
    "start_time": "2022-09-22T06:44:24.949Z"
   },
   {
    "duration": 9,
    "start_time": "2022-09-22T06:44:24.969Z"
   },
   {
    "duration": 5,
    "start_time": "2022-09-22T06:44:25.008Z"
   },
   {
    "duration": 22,
    "start_time": "2022-09-22T06:44:25.014Z"
   },
   {
    "duration": 5,
    "start_time": "2022-09-22T06:44:25.037Z"
   },
   {
    "duration": 5,
    "start_time": "2022-09-22T06:44:25.044Z"
   },
   {
    "duration": 7,
    "start_time": "2022-09-22T06:44:25.051Z"
   },
   {
    "duration": 292,
    "start_time": "2022-09-22T06:44:25.059Z"
   },
   {
    "duration": 16,
    "start_time": "2022-09-22T06:44:25.352Z"
   },
   {
    "duration": 44,
    "start_time": "2022-09-22T06:44:25.369Z"
   },
   {
    "duration": 11,
    "start_time": "2022-09-22T06:44:25.415Z"
   },
   {
    "duration": 10,
    "start_time": "2022-09-22T06:44:25.428Z"
   },
   {
    "duration": 25,
    "start_time": "2022-09-22T06:44:25.440Z"
   },
   {
    "duration": 12,
    "start_time": "2022-09-22T06:44:25.467Z"
   },
   {
    "duration": 21,
    "start_time": "2022-09-22T06:44:25.508Z"
   },
   {
    "duration": 5,
    "start_time": "2022-09-22T06:44:25.531Z"
   },
   {
    "duration": 24,
    "start_time": "2022-09-22T06:44:25.538Z"
   },
   {
    "duration": 122,
    "start_time": "2022-09-22T06:44:25.563Z"
   },
   {
    "duration": 69,
    "start_time": "2022-09-22T06:44:25.686Z"
   },
   {
    "duration": 30,
    "start_time": "2022-09-22T06:44:25.757Z"
   },
   {
    "duration": 42,
    "start_time": "2022-09-22T06:44:25.788Z"
   },
   {
    "duration": 29,
    "start_time": "2022-09-22T06:44:25.832Z"
   },
   {
    "duration": 22,
    "start_time": "2022-09-22T06:44:25.863Z"
   },
   {
    "duration": 190,
    "start_time": "2022-09-22T06:44:25.909Z"
   },
   {
    "duration": 214,
    "start_time": "2022-09-22T06:44:26.101Z"
   },
   {
    "duration": 20,
    "start_time": "2022-09-22T06:44:26.317Z"
   },
   {
    "duration": 158,
    "start_time": "2022-09-22T06:44:26.338Z"
   },
   {
    "duration": 208,
    "start_time": "2022-09-22T06:44:26.498Z"
   },
   {
    "duration": 14,
    "start_time": "2022-09-22T06:44:26.709Z"
   },
   {
    "duration": 22,
    "start_time": "2022-09-22T06:44:26.725Z"
   },
   {
    "duration": 100,
    "start_time": "2022-09-22T06:44:26.749Z"
   },
   {
    "duration": 16,
    "start_time": "2022-09-22T06:44:26.851Z"
   },
   {
    "duration": 152,
    "start_time": "2022-09-22T06:44:26.869Z"
   },
   {
    "duration": 29,
    "start_time": "2022-09-22T06:44:27.023Z"
   },
   {
    "duration": 8,
    "start_time": "2022-09-22T06:44:27.054Z"
   },
   {
    "duration": 117,
    "start_time": "2022-09-22T06:44:27.064Z"
   },
   {
    "duration": 11,
    "start_time": "2022-09-22T06:44:27.183Z"
   },
   {
    "duration": 22,
    "start_time": "2022-09-22T06:44:27.195Z"
   },
   {
    "duration": 7,
    "start_time": "2022-09-22T06:44:27.219Z"
   },
   {
    "duration": 10,
    "start_time": "2022-09-22T06:44:27.228Z"
   },
   {
    "duration": 10,
    "start_time": "2022-09-22T06:45:01.097Z"
   },
   {
    "duration": 9,
    "start_time": "2022-09-22T06:45:07.878Z"
   },
   {
    "duration": 118,
    "start_time": "2022-09-22T06:45:27.168Z"
   },
   {
    "duration": 23,
    "start_time": "2022-09-22T06:45:44.438Z"
   },
   {
    "duration": 4,
    "start_time": "2022-09-22T06:46:54.290Z"
   },
   {
    "duration": 17,
    "start_time": "2022-09-22T06:47:14.437Z"
   },
   {
    "duration": 183,
    "start_time": "2022-09-22T06:54:22.592Z"
   },
   {
    "duration": 261,
    "start_time": "2022-09-22T06:54:43.008Z"
   },
   {
    "duration": 215,
    "start_time": "2022-09-22T06:54:53.497Z"
   },
   {
    "duration": 202,
    "start_time": "2022-09-22T06:56:16.058Z"
   },
   {
    "duration": 206,
    "start_time": "2022-09-22T06:56:29.487Z"
   },
   {
    "duration": 1095,
    "start_time": "2022-10-03T10:42:27.340Z"
   },
   {
    "duration": 501,
    "start_time": "2022-10-03T10:42:28.437Z"
   },
   {
    "duration": 12,
    "start_time": "2022-10-03T10:42:28.940Z"
   },
   {
    "duration": 18,
    "start_time": "2022-10-03T10:42:28.954Z"
   },
   {
    "duration": 7,
    "start_time": "2022-10-03T10:42:28.974Z"
   },
   {
    "duration": 82,
    "start_time": "2022-10-03T10:42:28.982Z"
   },
   {
    "duration": 27,
    "start_time": "2022-10-03T10:42:29.065Z"
   },
   {
    "duration": 73,
    "start_time": "2022-10-03T10:42:29.093Z"
   },
   {
    "duration": 91,
    "start_time": "2022-10-03T10:42:29.168Z"
   },
   {
    "duration": 5,
    "start_time": "2022-10-03T10:42:29.260Z"
   },
   {
    "duration": 122,
    "start_time": "2022-10-03T10:42:29.267Z"
   },
   {
    "duration": 18,
    "start_time": "2022-10-03T10:42:29.391Z"
   },
   {
    "duration": 34,
    "start_time": "2022-10-03T10:42:29.411Z"
   },
   {
    "duration": 28,
    "start_time": "2022-10-03T10:42:29.449Z"
   },
   {
    "duration": 20,
    "start_time": "2022-10-03T10:42:29.478Z"
   },
   {
    "duration": 17,
    "start_time": "2022-10-03T10:42:29.499Z"
   },
   {
    "duration": 32,
    "start_time": "2022-10-03T10:42:29.518Z"
   },
   {
    "duration": 4,
    "start_time": "2022-10-03T10:42:29.552Z"
   },
   {
    "duration": 12,
    "start_time": "2022-10-03T10:42:29.558Z"
   },
   {
    "duration": 22,
    "start_time": "2022-10-03T10:42:29.571Z"
   },
   {
    "duration": 297,
    "start_time": "2022-10-03T10:42:29.595Z"
   },
   {
    "duration": 25,
    "start_time": "2022-10-03T10:42:29.894Z"
   },
   {
    "duration": 27,
    "start_time": "2022-10-03T10:42:29.921Z"
   },
   {
    "duration": 13,
    "start_time": "2022-10-03T10:42:29.950Z"
   },
   {
    "duration": 12,
    "start_time": "2022-10-03T10:42:29.964Z"
   },
   {
    "duration": 42,
    "start_time": "2022-10-03T10:42:29.977Z"
   },
   {
    "duration": 13,
    "start_time": "2022-10-03T10:42:30.021Z"
   },
   {
    "duration": 42,
    "start_time": "2022-10-03T10:42:30.036Z"
   },
   {
    "duration": 39,
    "start_time": "2022-10-03T10:42:30.079Z"
   },
   {
    "duration": 51,
    "start_time": "2022-10-03T10:42:30.119Z"
   },
   {
    "duration": 145,
    "start_time": "2022-10-03T10:42:30.172Z"
   },
   {
    "duration": 67,
    "start_time": "2022-10-03T10:42:30.318Z"
   },
   {
    "duration": 44,
    "start_time": "2022-10-03T10:42:30.386Z"
   },
   {
    "duration": 29,
    "start_time": "2022-10-03T10:42:30.432Z"
   },
   {
    "duration": 51,
    "start_time": "2022-10-03T10:42:30.463Z"
   },
   {
    "duration": 22,
    "start_time": "2022-10-03T10:42:30.515Z"
   },
   {
    "duration": 196,
    "start_time": "2022-10-03T10:42:30.539Z"
   },
   {
    "duration": 202,
    "start_time": "2022-10-03T10:42:30.737Z"
   },
   {
    "duration": 21,
    "start_time": "2022-10-03T10:42:30.941Z"
   },
   {
    "duration": 175,
    "start_time": "2022-10-03T10:42:30.964Z"
   },
   {
    "duration": 209,
    "start_time": "2022-10-03T10:42:31.143Z"
   },
   {
    "duration": 11,
    "start_time": "2022-10-03T10:42:31.355Z"
   },
   {
    "duration": 25,
    "start_time": "2022-10-03T10:42:31.367Z"
   },
   {
    "duration": 85,
    "start_time": "2022-10-03T10:42:31.408Z"
   },
   {
    "duration": 28,
    "start_time": "2022-10-03T10:42:31.494Z"
   },
   {
    "duration": 162,
    "start_time": "2022-10-03T10:42:31.524Z"
   },
   {
    "duration": 36,
    "start_time": "2022-10-03T10:42:31.688Z"
   },
   {
    "duration": 11,
    "start_time": "2022-10-03T10:42:31.725Z"
   },
   {
    "duration": 119,
    "start_time": "2022-10-03T10:42:31.737Z"
   },
   {
    "duration": 12,
    "start_time": "2022-10-03T10:42:31.858Z"
   },
   {
    "duration": 39,
    "start_time": "2022-10-03T10:42:31.872Z"
   },
   {
    "duration": 24,
    "start_time": "2022-10-03T10:42:31.912Z"
   },
   {
    "duration": 49,
    "start_time": "2022-10-03T10:42:31.938Z"
   },
   {
    "duration": 3794,
    "start_time": "2022-10-03T10:44:00.410Z"
   },
   {
    "duration": 1437,
    "start_time": "2022-10-03T10:44:23.819Z"
   }
  ],
  "kernelspec": {
   "display_name": "Python 3 (ipykernel)",
   "language": "python",
   "name": "python3"
  },
  "language_info": {
   "codemirror_mode": {
    "name": "ipython",
    "version": 3
   },
   "file_extension": ".py",
   "mimetype": "text/x-python",
   "name": "python",
   "nbconvert_exporter": "python",
   "pygments_lexer": "ipython3",
   "version": "3.9.5"
  },
  "toc": {
   "base_numbering": 1,
   "nav_menu": {},
   "number_sections": true,
   "sideBar": true,
   "skip_h1_title": true,
   "title_cell": "Table of Contents",
   "title_sidebar": "Contents",
   "toc_cell": false,
   "toc_position": {},
   "toc_section_display": true,
   "toc_window_display": true
  }
 },
 "nbformat": 4,
 "nbformat_minor": 2
}
